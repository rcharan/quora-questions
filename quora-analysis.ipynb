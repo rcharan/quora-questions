{
 "cells": [
  {
   "cell_type": "code",
   "execution_count": 1,
   "metadata": {},
   "outputs": [],
   "source": [
    "import pandas as pd\n",
    "import spacy\n",
    "import sklearn.feature_extraction.text as sk_text\n",
    "import sklearn.decomposition           as sk_decomp\n",
    "import sklearn.model_selection         as sk_cv\n",
    "import string\n",
    "import pyLDAvis\n",
    "import pyLDAvis.sklearn\n",
    "import gc\n",
    "import datetime"
   ]
  },
  {
   "cell_type": "code",
   "execution_count": 2,
   "metadata": {},
   "outputs": [],
   "source": [
    "pd.set_option('display.max_columns', 100)"
   ]
  },
  {
   "cell_type": "code",
   "execution_count": 3,
   "metadata": {},
   "outputs": [],
   "source": [
    "%load_ext autoreload\n",
    "%autoreload 2"
   ]
  },
  {
   "cell_type": "code",
   "execution_count": 4,
   "metadata": {},
   "outputs": [],
   "source": [
    "%matplotlib inline"
   ]
  },
  {
   "cell_type": "code",
   "execution_count": 5,
   "metadata": {},
   "outputs": [],
   "source": [
    "from utilities import *"
   ]
  },
  {
   "cell_type": "markdown",
   "metadata": {},
   "source": [
    "# Load the data"
   ]
  },
  {
   "cell_type": "code",
   "execution_count": 6,
   "metadata": {},
   "outputs": [
    {
     "data": {
      "text/html": [
       "<div>\n",
       "<style scoped>\n",
       "    .dataframe tbody tr th:only-of-type {\n",
       "        vertical-align: middle;\n",
       "    }\n",
       "\n",
       "    .dataframe tbody tr th {\n",
       "        vertical-align: top;\n",
       "    }\n",
       "\n",
       "    .dataframe thead th {\n",
       "        text-align: right;\n",
       "    }\n",
       "</style>\n",
       "<table border=\"1\" class=\"dataframe\">\n",
       "  <thead>\n",
       "    <tr style=\"text-align: right;\">\n",
       "      <th></th>\n",
       "      <th>question</th>\n",
       "    </tr>\n",
       "  </thead>\n",
       "  <tbody>\n",
       "    <tr>\n",
       "      <th>0</th>\n",
       "      <td>What is the step by step guide to invest in sh...</td>\n",
       "    </tr>\n",
       "    <tr>\n",
       "      <th>1</th>\n",
       "      <td>What is the story of Kohinoor (Koh-i-Noor) Dia...</td>\n",
       "    </tr>\n",
       "    <tr>\n",
       "      <th>2</th>\n",
       "      <td>How can I increase the speed of my internet co...</td>\n",
       "    </tr>\n",
       "    <tr>\n",
       "      <th>3</th>\n",
       "      <td>Why am I mentally very lonely? How can I solve...</td>\n",
       "    </tr>\n",
       "    <tr>\n",
       "      <th>4</th>\n",
       "      <td>Which one dissolve in water quikly sugar, salt...</td>\n",
       "    </tr>\n",
       "  </tbody>\n",
       "</table>\n",
       "</div>"
      ],
      "text/plain": [
       "                                            question\n",
       "0  What is the step by step guide to invest in sh...\n",
       "1  What is the story of Kohinoor (Koh-i-Noor) Dia...\n",
       "2  How can I increase the speed of my internet co...\n",
       "3  Why am I mentally very lonely? How can I solve...\n",
       "4  Which one dissolve in water quikly sugar, salt..."
      ]
     },
     "execution_count": 6,
     "metadata": {},
     "output_type": "execute_result"
    }
   ],
   "source": [
    "quora = pd.read_csv('quora_questions.csv')\n",
    "quora.rename(lambda x : x.lower(), axis = 'columns', inplace = True)\n",
    "quora.head()"
   ]
  },
  {
   "cell_type": "markdown",
   "metadata": {},
   "source": [
    "# Preprocessing\n",
    "Simplest option first: Count Vectorizer to create term-document matrix"
   ]
  },
  {
   "cell_type": "code",
   "execution_count": 7,
   "metadata": {},
   "outputs": [],
   "source": [
    "# Tokenizer: uses spaCy tokenizer, then removes punctuation and stop words, then finally casts\n",
    "\n",
    "spacy_tokenizer = spacy.load(\"en_core_web_sm\", disable=['tagger', 'parser', 'ner'])\n",
    "\n",
    "def token_filter(token):\n",
    "    if token.is_stop:\n",
    "        return False\n",
    "    elif token.text in string.punctuation:\n",
    "        return False\n",
    "    else:\n",
    "        return True\n",
    "\n",
    "    \n",
    "def tokenizer(string_):\n",
    "    doc = spacy_tokenizer(string_)\n",
    "    f   = filter(token_filter, doc)\n",
    "    m   = [t.lower_ for t in f]\n",
    "    return list(m)\n",
    "\n",
    "# Disabling most spaCy features leads to decent tokenizer performance \n",
    "#  For comparison you can try un-disabling tagging\n",
    "# 55.4 µs ± 4.29 µs per loop (mean ± std. dev. of 7 runs, 10000 loops each)\n",
    "# %timeit tokenizer(quora.question[0])"
   ]
  },
  {
   "cell_type": "code",
   "execution_count": 8,
   "metadata": {},
   "outputs": [],
   "source": [
    "# Sample the Data\n",
    "# Use sk-learn's KFold (n=10) for convenience\n",
    "splitter = sk_cv.KFold(n_splits = 10, shuffle = True, random_state = 42)\n",
    "\n",
    "samples = []\n",
    "for _, split_indices in splitter.split(quora.question):\n",
    "    samples.append(quora.question.iloc[split_indices])\n",
    "    \n",
    "data = samples[0]"
   ]
  },
  {
   "cell_type": "code",
   "execution_count": 9,
   "metadata": {
    "scrolled": false
   },
   "outputs": [
    {
     "name": "stdout",
     "output_type": "stream",
     "text": [
      "Loading count-vectorizer from disk\n",
      "4.111 seconds elapsed in original job\n",
      "12108 word identified with the given frequency cutoffs\n"
     ]
    }
   ],
   "source": [
    "count_vectorizor = sk_text.CountVectorizer(\n",
    "                       strip_accents= 'unicode', \n",
    "                       lowercase    = True,\n",
    "                       analyzer     = tokenizer,\n",
    "                       max_df       = 0.9,\n",
    "                       min_df       = 2\n",
    ")\n",
    "\n",
    "X, count_vectorizor = persist('count-vectorizer',\n",
    "                                  count_vectorizor,\n",
    "                                 'fit_transform',\n",
    "                                  data,\n",
    "                                  task = 'both',\n",
    "                                  force_fit = False\n",
    "                                )\n",
    "print(f'{X.shape[1]} word identified with the given frequency cutoffs')"
   ]
  },
  {
   "cell_type": "code",
   "execution_count": 10,
   "metadata": {},
   "outputs": [
    {
     "name": "stdout",
     "output_type": "stream",
     "text": [
      "Loading count-vectorizer-test from disk\n",
      "3.612 seconds elapsed in original job\n"
     ]
    }
   ],
   "source": [
    "X_test = persist('count-vectorizer-test', count_vectorizor, 'transform', samples[1], task = 'data')"
   ]
  },
  {
   "cell_type": "markdown",
   "metadata": {},
   "source": [
    "## Simple LDA Model"
   ]
  },
  {
   "cell_type": "markdown",
   "metadata": {},
   "source": [
    "### Fit"
   ]
  },
  {
   "cell_type": "code",
   "execution_count": 11,
   "metadata": {},
   "outputs": [
    {
     "name": "stdout",
     "output_type": "stream",
     "text": [
      "Loading simple-lda from disk\n",
      "101.292 seconds elapsed in original job\n"
     ]
    }
   ],
   "source": [
    "model = sk_decomp.LatentDirichletAllocation(n_jobs = -1, verbose = 1, random_state = 42,\n",
    "                                              max_iter = 30)\n",
    "\n",
    "topic_data, model = persist('simple-lda', model, 'fit_transform', X, task = 'both')"
   ]
  },
  {
   "cell_type": "markdown",
   "metadata": {},
   "source": [
    "### Evaluate"
   ]
  },
  {
   "cell_type": "code",
   "execution_count": 12,
   "metadata": {},
   "outputs": [
    {
     "name": "stdout",
     "output_type": "stream",
     "text": [
      "Loading simple-lda-train-score from disk\n",
      "5.897 seconds elapsed in original job\n",
      "Loading simple-lda-test-score from disk\n",
      "6.297 seconds elapsed in original job\n",
      "Loading simple-lda-train-perplexity from disk\n",
      "8.880 seconds elapsed in original job\n",
      "Loading simple-lda-test-perplexity from disk\n",
      "9.953 seconds elapsed in original job\n",
      "Log likelihood - train -1.62e+06\n",
      "Log likelihood - test  -1.58e+06\n",
      "Perplexity     - train  4.58e+03\n",
      "Perplexity     - test   5.22e+03\n"
     ]
    }
   ],
   "source": [
    "train_score      = persist('simple-lda-train-score', model, 'score', X, task = 'data', force_fit = False)\n",
    "test_score       = persist('simple-lda-test-score', model, 'score', X_test, task = 'data', force_fit = False)\n",
    "train_perplexity = persist('simple-lda-train-perplexity', model, 'perplexity', X, task = 'data', force_fit = False)\n",
    "test_perplexity  = persist('simple-lda-test-perplexity', model, 'perplexity', X_test, task = 'data', force_fit = False)\n",
    "\n",
    "print(f'Log likelihood - train {train_score : .3}\\n'\n",
    "      f'Log likelihood - test  {test_score : .3}\\n'\n",
    "      f'Perplexity     - train {train_perplexity : .3}\\n'\n",
    "      f'Perplexity     - test  {test_perplexity : .3}')"
   ]
  },
  {
   "cell_type": "markdown",
   "metadata": {},
   "source": [
    "### Inspect"
   ]
  },
  {
   "cell_type": "code",
   "execution_count": 13,
   "metadata": {},
   "outputs": [
    {
     "data": {
      "text/html": [
       "<div>\n",
       "<style scoped>\n",
       "    .dataframe tbody tr th:only-of-type {\n",
       "        vertical-align: middle;\n",
       "    }\n",
       "\n",
       "    .dataframe tbody tr th {\n",
       "        vertical-align: top;\n",
       "    }\n",
       "\n",
       "    .dataframe thead th {\n",
       "        text-align: right;\n",
       "    }\n",
       "</style>\n",
       "<table border=\"1\" class=\"dataframe\">\n",
       "  <thead>\n",
       "    <tr style=\"text-align: right;\">\n",
       "      <th></th>\n",
       "      <th>0</th>\n",
       "      <th>1</th>\n",
       "      <th>2</th>\n",
       "      <th>3</th>\n",
       "      <th>4</th>\n",
       "      <th>5</th>\n",
       "      <th>6</th>\n",
       "      <th>7</th>\n",
       "      <th>8</th>\n",
       "      <th>9</th>\n",
       "    </tr>\n",
       "  </thead>\n",
       "  <tbody>\n",
       "    <tr>\n",
       "      <th>0</th>\n",
       "      <td>president</td>\n",
       "      <td>country</td>\n",
       "      <td>change</td>\n",
       "      <td>sex</td>\n",
       "      <td>age</td>\n",
       "      <td>learn</td>\n",
       "      <td>know</td>\n",
       "      <td>earth</td>\n",
       "      <td>rs</td>\n",
       "      <td>energy</td>\n",
       "    </tr>\n",
       "    <tr>\n",
       "      <th>1</th>\n",
       "      <td>clinton</td>\n",
       "      <td>google</td>\n",
       "      <td>people</td>\n",
       "      <td>friend</td>\n",
       "      <td>service</td>\n",
       "      <td>free</td>\n",
       "      <td>programmi</td>\n",
       "      <td>science</td>\n",
       "      <td>governmen</td>\n",
       "      <td>year</td>\n",
       "    </tr>\n",
       "    <tr>\n",
       "      <th>2</th>\n",
       "      <td>people</td>\n",
       "      <td>india</td>\n",
       "      <td>account</td>\n",
       "      <td>answer</td>\n",
       "      <td>web</td>\n",
       "      <td>book</td>\n",
       "      <td>improve</td>\n",
       "      <td>meaning</td>\n",
       "      <td>new</td>\n",
       "      <td>girls</td>\n",
       "    </tr>\n",
       "    <tr>\n",
       "      <th>3</th>\n",
       "      <td>war</td>\n",
       "      <td>like</td>\n",
       "      <td>number</td>\n",
       "      <td>people</td>\n",
       "      <td>youtube</td>\n",
       "      <td>buy</td>\n",
       "      <td>things</td>\n",
       "      <td>time</td>\n",
       "      <td>iphone</td>\n",
       "      <td>water</td>\n",
       "    </tr>\n",
       "    <tr>\n",
       "      <th>4</th>\n",
       "      <td>good</td>\n",
       "      <td>better</td>\n",
       "      <td>thing</td>\n",
       "      <td>instagram</td>\n",
       "      <td>live</td>\n",
       "      <td>good</td>\n",
       "      <td>ways</td>\n",
       "      <td>computer</td>\n",
       "      <td>india</td>\n",
       "      <td>men</td>\n",
       "    </tr>\n",
       "    <tr>\n",
       "      <th>5</th>\n",
       "      <td>donald</td>\n",
       "      <td>china</td>\n",
       "      <td>feel</td>\n",
       "      <td>girl</td>\n",
       "      <td>online</td>\n",
       "      <td>online</td>\n",
       "      <td>english</td>\n",
       "      <td>examples</td>\n",
       "      <td>black</td>\n",
       "      <td>mean</td>\n",
       "    </tr>\n",
       "    <tr>\n",
       "      <th>6</th>\n",
       "      <td>think</td>\n",
       "      <td>lose</td>\n",
       "      <td>like</td>\n",
       "      <td>ask</td>\n",
       "      <td>increase</td>\n",
       "      <td>engineeri</td>\n",
       "      <td>language</td>\n",
       "      <td>possible</td>\n",
       "      <td>1000</td>\n",
       "      <td>differenc</td>\n",
       "    </tr>\n",
       "    <tr>\n",
       "      <th>7</th>\n",
       "      <td>trump</td>\n",
       "      <td>job</td>\n",
       "      <td>find</td>\n",
       "      <td>question</td>\n",
       "      <td>card</td>\n",
       "      <td>india</td>\n",
       "      <td>start</td>\n",
       "      <td>facebook</td>\n",
       "      <td>500</td>\n",
       "      <td>women</td>\n",
       "    </tr>\n",
       "    <tr>\n",
       "      <th>8</th>\n",
       "      <td>world</td>\n",
       "      <td>weight</td>\n",
       "      <td>time</td>\n",
       "      <td>questions</td>\n",
       "      <td>earn</td>\n",
       "      <td>way</td>\n",
       "      <td>learn</td>\n",
       "      <td>stop</td>\n",
       "      <td>indian</td>\n",
       "      <td>like</td>\n",
       "    </tr>\n",
       "    <tr>\n",
       "      <th>9</th>\n",
       "      <td>india</td>\n",
       "      <td>work</td>\n",
       "      <td>life</td>\n",
       "      <td>quora</td>\n",
       "      <td>money</td>\n",
       "      <td>best</td>\n",
       "      <td>best</td>\n",
       "      <td>people</td>\n",
       "      <td>notes</td>\n",
       "      <td>love</td>\n",
       "    </tr>\n",
       "  </tbody>\n",
       "</table>\n",
       "</div>"
      ],
      "text/plain": [
       "           0        1        2          3         4          5          6  \\\n",
       "0  president  country   change        sex       age      learn       know   \n",
       "1    clinton   google   people     friend   service       free  programmi   \n",
       "2     people    india  account     answer       web       book    improve   \n",
       "3        war     like   number     people   youtube        buy     things   \n",
       "4       good   better    thing  instagram      live       good       ways   \n",
       "5     donald    china     feel       girl    online     online    english   \n",
       "6      think     lose     like        ask  increase  engineeri   language   \n",
       "7      trump      job     find   question      card      india      start   \n",
       "8      world   weight     time  questions      earn        way      learn   \n",
       "9      india     work     life      quora     money       best       best   \n",
       "\n",
       "          7          8          9  \n",
       "0     earth         rs     energy  \n",
       "1   science  governmen       year  \n",
       "2   meaning        new      girls  \n",
       "3      time     iphone      water  \n",
       "4  computer      india        men  \n",
       "5  examples      black       mean  \n",
       "6  possible       1000  differenc  \n",
       "7  facebook        500      women  \n",
       "8      stop     indian       like  \n",
       "9    people      notes       love  "
      ]
     },
     "execution_count": 13,
     "metadata": {},
     "output_type": "execute_result"
    }
   ],
   "source": [
    "# Most common words in each topic\n",
    "words = count_vectorizor.get_feature_names()\n",
    "num_words = 10\n",
    "\n",
    "def get_top_words(array):\n",
    "    return lmap(lambda n : words[n], array.argsort()[-num_words:])\n",
    "\n",
    "top_words = pd.DataFrame(np.apply_along_axis(get_top_words, 1, model.components_).T)\n",
    "top_words"
   ]
  },
  {
   "cell_type": "code",
   "execution_count": 14,
   "metadata": {},
   "outputs": [
    {
     "name": "stdout",
     "output_type": "stream",
     "text": [
      "Loading simple-lda-viz from disk\n",
      "394.286 seconds elapsed in original job\n"
     ]
    },
    {
     "data": {
      "text/html": [
       "\n",
       "<link rel=\"stylesheet\" type=\"text/css\" href=\"https://cdn.rawgit.com/bmabey/pyLDAvis/files/ldavis.v1.0.0.css\">\n",
       "\n",
       "\n",
       "<div id=\"ldavis_el7362246412180166874796171\"></div>\n",
       "<script type=\"text/javascript\">\n",
       "\n",
       "var ldavis_el7362246412180166874796171_data = {\"mdsDat\": {\"x\": [32.42095184326172, 0.648955225944519, 71.01968383789062, 3.7859814167022705, -42.666500091552734, -3.6216893196105957, -3.632401704788208, -36.58440017700195, 44.391380310058594, 40.235809326171875], \"y\": [8.115229606628418, 71.70709991455078, 9.971006393432617, 33.18513488769531, -9.22206974029541, -43.52651596069336, -4.171707630157471, 35.804412841796875, 50.61538314819336, -31.591665267944336], \"topics\": [1, 2, 3, 4, 5, 6, 7, 8, 9, 10], \"cluster\": [1, 1, 1, 1, 1, 1, 1, 1, 1, 1], \"Freq\": [12.60097614450528, 10.703524947178884, 10.575377112517055, 9.788488329177222, 9.786324944860027, 9.558415899568242, 9.496135472826484, 9.299050149694693, 9.275775289873184, 8.915931709798919]}, \"tinfo\": {\"Category\": [\"Default\", \"Default\", \"Default\", \"Default\", \"Default\", \"Default\", \"Default\", \"Default\", \"Default\", \"Default\", \"Default\", \"Default\", \"Default\", \"Default\", \"Default\", \"Default\", \"Default\", \"Default\", \"Default\", \"Default\", \"Default\", \"Default\", \"Default\", \"Default\", \"Default\", \"Default\", \"Default\", \"Default\", \"Default\", \"Default\", \"Topic1\", \"Topic1\", \"Topic1\", \"Topic1\", \"Topic1\", \"Topic1\", \"Topic1\", \"Topic1\", \"Topic1\", \"Topic1\", \"Topic1\", \"Topic1\", \"Topic1\", \"Topic1\", \"Topic1\", \"Topic1\", \"Topic1\", \"Topic1\", \"Topic1\", \"Topic1\", \"Topic1\", \"Topic1\", \"Topic1\", \"Topic1\", \"Topic1\", \"Topic1\", \"Topic1\", \"Topic1\", \"Topic1\", \"Topic1\", \"Topic1\", \"Topic1\", \"Topic1\", \"Topic1\", \"Topic1\", \"Topic1\", \"Topic1\", \"Topic1\", \"Topic1\", \"Topic1\", \"Topic1\", \"Topic1\", \"Topic1\", \"Topic1\", \"Topic1\", \"Topic1\", \"Topic1\", \"Topic1\", \"Topic1\", \"Topic1\", \"Topic2\", \"Topic2\", \"Topic2\", \"Topic2\", \"Topic2\", \"Topic2\", \"Topic2\", \"Topic2\", \"Topic2\", \"Topic2\", \"Topic2\", \"Topic2\", \"Topic2\", \"Topic2\", \"Topic2\", \"Topic2\", \"Topic2\", \"Topic2\", \"Topic2\", \"Topic2\", \"Topic2\", \"Topic2\", \"Topic2\", \"Topic2\", \"Topic2\", \"Topic2\", \"Topic2\", \"Topic2\", \"Topic2\", \"Topic2\", \"Topic2\", \"Topic2\", \"Topic2\", \"Topic2\", \"Topic2\", \"Topic2\", \"Topic2\", \"Topic2\", \"Topic2\", \"Topic2\", \"Topic2\", \"Topic2\", \"Topic2\", \"Topic2\", \"Topic2\", \"Topic2\", \"Topic2\", \"Topic2\", \"Topic2\", \"Topic2\", \"Topic2\", \"Topic2\", \"Topic2\", \"Topic2\", \"Topic2\", \"Topic3\", \"Topic3\", \"Topic3\", \"Topic3\", \"Topic3\", \"Topic3\", \"Topic3\", \"Topic3\", \"Topic3\", \"Topic3\", \"Topic3\", \"Topic3\", \"Topic3\", \"Topic3\", \"Topic3\", \"Topic3\", \"Topic3\", \"Topic3\", \"Topic3\", \"Topic3\", \"Topic3\", \"Topic3\", \"Topic3\", \"Topic3\", \"Topic3\", \"Topic3\", \"Topic3\", \"Topic3\", \"Topic3\", \"Topic3\", \"Topic3\", \"Topic3\", \"Topic3\", \"Topic3\", \"Topic3\", \"Topic3\", \"Topic3\", \"Topic3\", \"Topic3\", \"Topic3\", \"Topic3\", \"Topic3\", \"Topic3\", \"Topic3\", \"Topic3\", \"Topic3\", \"Topic4\", \"Topic4\", \"Topic4\", \"Topic4\", \"Topic4\", \"Topic4\", \"Topic4\", \"Topic4\", \"Topic4\", \"Topic4\", \"Topic4\", \"Topic4\", \"Topic4\", \"Topic4\", \"Topic4\", \"Topic4\", \"Topic4\", \"Topic4\", \"Topic4\", \"Topic4\", \"Topic4\", \"Topic4\", \"Topic4\", \"Topic4\", \"Topic4\", \"Topic4\", \"Topic4\", \"Topic4\", \"Topic4\", \"Topic4\", \"Topic4\", \"Topic4\", \"Topic4\", \"Topic4\", \"Topic4\", \"Topic4\", \"Topic4\", \"Topic4\", \"Topic4\", \"Topic4\", \"Topic4\", \"Topic4\", \"Topic4\", \"Topic4\", \"Topic4\", \"Topic4\", \"Topic4\", \"Topic4\", \"Topic4\", \"Topic4\", \"Topic4\", \"Topic4\", \"Topic5\", \"Topic5\", \"Topic5\", \"Topic5\", \"Topic5\", \"Topic5\", \"Topic5\", \"Topic5\", \"Topic5\", \"Topic5\", \"Topic5\", \"Topic5\", \"Topic5\", \"Topic5\", \"Topic5\", \"Topic5\", \"Topic5\", \"Topic5\", \"Topic5\", \"Topic5\", \"Topic5\", \"Topic5\", \"Topic5\", \"Topic5\", \"Topic5\", \"Topic5\", \"Topic5\", \"Topic5\", \"Topic5\", \"Topic5\", \"Topic5\", \"Topic5\", \"Topic5\", \"Topic5\", \"Topic5\", \"Topic5\", \"Topic5\", \"Topic5\", \"Topic5\", \"Topic5\", \"Topic5\", \"Topic5\", \"Topic5\", \"Topic5\", \"Topic5\", \"Topic5\", \"Topic5\", \"Topic5\", \"Topic5\", \"Topic5\", \"Topic5\", \"Topic5\", \"Topic6\", \"Topic6\", \"Topic6\", \"Topic6\", \"Topic6\", \"Topic6\", \"Topic6\", \"Topic6\", \"Topic6\", \"Topic6\", \"Topic6\", \"Topic6\", \"Topic6\", \"Topic6\", \"Topic6\", \"Topic6\", \"Topic6\", \"Topic6\", \"Topic6\", \"Topic6\", \"Topic6\", \"Topic6\", \"Topic6\", \"Topic6\", \"Topic6\", \"Topic6\", \"Topic6\", \"Topic6\", \"Topic6\", \"Topic6\", \"Topic6\", \"Topic6\", \"Topic6\", \"Topic6\", \"Topic6\", \"Topic6\", \"Topic6\", \"Topic6\", \"Topic6\", \"Topic6\", \"Topic6\", \"Topic6\", \"Topic6\", \"Topic6\", \"Topic6\", \"Topic7\", \"Topic7\", \"Topic7\", \"Topic7\", \"Topic7\", \"Topic7\", \"Topic7\", \"Topic7\", \"Topic7\", \"Topic7\", \"Topic7\", \"Topic7\", \"Topic7\", \"Topic7\", \"Topic7\", \"Topic7\", \"Topic7\", \"Topic7\", \"Topic7\", \"Topic7\", \"Topic7\", \"Topic7\", \"Topic7\", \"Topic7\", \"Topic7\", \"Topic7\", \"Topic7\", \"Topic7\", \"Topic7\", \"Topic7\", \"Topic7\", \"Topic7\", \"Topic7\", \"Topic7\", \"Topic7\", \"Topic7\", \"Topic7\", \"Topic7\", \"Topic7\", \"Topic7\", \"Topic7\", \"Topic7\", \"Topic7\", \"Topic7\", \"Topic7\", \"Topic7\", \"Topic7\", \"Topic7\", \"Topic7\", \"Topic7\", \"Topic7\", \"Topic8\", \"Topic8\", \"Topic8\", \"Topic8\", \"Topic8\", \"Topic8\", \"Topic8\", \"Topic8\", \"Topic8\", \"Topic8\", \"Topic8\", \"Topic8\", \"Topic8\", \"Topic8\", \"Topic8\", \"Topic8\", \"Topic8\", \"Topic8\", \"Topic8\", \"Topic8\", \"Topic8\", \"Topic8\", \"Topic8\", \"Topic8\", \"Topic8\", \"Topic8\", \"Topic8\", \"Topic8\", \"Topic8\", \"Topic8\", \"Topic8\", \"Topic8\", \"Topic8\", \"Topic8\", \"Topic8\", \"Topic8\", \"Topic8\", \"Topic8\", \"Topic8\", \"Topic8\", \"Topic8\", \"Topic8\", \"Topic8\", \"Topic8\", \"Topic8\", \"Topic9\", \"Topic9\", \"Topic9\", \"Topic9\", \"Topic9\", \"Topic9\", \"Topic9\", \"Topic9\", \"Topic9\", \"Topic9\", \"Topic9\", \"Topic9\", \"Topic9\", \"Topic9\", \"Topic9\", \"Topic9\", \"Topic9\", \"Topic9\", \"Topic9\", \"Topic9\", \"Topic9\", \"Topic9\", \"Topic9\", \"Topic9\", \"Topic9\", \"Topic9\", \"Topic9\", \"Topic9\", \"Topic9\", \"Topic9\", \"Topic9\", \"Topic9\", \"Topic9\", \"Topic9\", \"Topic9\", \"Topic9\", \"Topic9\", \"Topic9\", \"Topic9\", \"Topic9\", \"Topic9\", \"Topic9\", \"Topic9\", \"Topic9\", \"Topic9\", \"Topic9\", \"Topic9\", \"Topic10\", \"Topic10\", \"Topic10\", \"Topic10\", \"Topic10\", \"Topic10\", \"Topic10\", \"Topic10\", \"Topic10\", \"Topic10\", \"Topic10\", \"Topic10\", \"Topic10\", \"Topic10\", \"Topic10\", \"Topic10\", \"Topic10\", \"Topic10\", \"Topic10\", \"Topic10\", \"Topic10\", \"Topic10\", \"Topic10\", \"Topic10\", \"Topic10\", \"Topic10\", \"Topic10\", \"Topic10\", \"Topic10\", \"Topic10\", \"Topic10\", \"Topic10\", \"Topic10\", \"Topic10\", \"Topic10\", \"Topic10\", \"Topic10\", \"Topic10\", \"Topic10\", \"Topic10\", \"Topic10\"], \"Freq\": [3179.0, 793.0, 816.0, 525.0, 648.0, 686.0, 1428.0, 505.0, 579.0, 469.0, 702.0, 363.0, 475.0, 1229.0, 332.0, 322.0, 359.0, 556.0, 532.0, 299.0, 302.0, 295.0, 288.0, 461.0, 285.0, 304.0, 486.0, 278.0, 261.0, 265.0, 359.0929251218627, 250.7498500144386, 249.83167723823863, 179.1332388025911, 169.95163023173984, 154.34290620922584, 142.40680041533534, 139.65232013373378, 134.1433649113599, 128.6343704933566, 124.04357834226185, 111.18933386321446, 110.27117108340421, 102.00768704890984, 99.25318894460094, 98.3350390692785, 92.82606266649664, 88.23526824556379, 82.7263083013857, 78.13550549818706, 75.38098625376705, 73.54470369383931, 67.11755108657196, 66.19939736759966, 50.590642073106395, 47.83617413209558, 45.99982794815717, 43.24538319255034, 39.57271753949732, 39.57271543233832, 263.84860181291634, 744.3187495994522, 2609.8135402380826, 104.78119865840586, 179.15369237935877, 168.6155595526508, 310.06674493509865, 186.488417449023, 133.90039499589463, 155.88490703364963, 122.19190457648152, 439.98540425325916, 145.2919492230649, 134.4456112888614, 265.56745342579075, 133.22471173556278, 190.58506454008594, 120.37075383774173, 134.98535850725733, 113.83524614525, 277.1716646908575, 252.99701440168144, 239.97989301261583, 186.98158629907425, 125.61518578734999, 118.17681160432485, 115.38742221758929, 107.01929577328166, 96.79154584457204, 92.1425835856203, 79.12545834345654, 77.26588614733964, 77.265872720025, 74.47650687593985, 73.54668681804743, 65.178528491016, 56.810391466481036, 51.2316190890964, 49.37204045608346, 49.372022192057464, 46.58263570471873, 45.65283676665465, 43.793289737436524, 43.79328565111096, 43.79327204943808, 43.79326996172274, 43.79326121282172, 38.21452631623623, 38.214516502046784, 37.284713686595666, 92.75150761841277, 124.6554791113301, 374.41216005134146, 260.49186320057333, 169.8036751478381, 120.28515931665238, 268.9974192757127, 256.9601102761015, 388.3076776325504, 179.17001300792126, 162.56127260106837, 97.98879510732624, 114.06407200753556, 99.18257476396873, 148.80472140549523, 568.6118358780935, 171.15452622014752, 227.04538766569635, 102.99001305548197, 163.67214947716397, 158.27058340833355, 130.84973654760486, 123.61499712568646, 107.94989426331364, 101.10635511034721, 524.3668734036697, 504.60078386878547, 304.1158596191397, 269.289825281038, 222.22764890765868, 219.40390284409952, 209.05022489783573, 202.46153124139806, 160.10553111842881, 151.6343133438599, 113.98458054366877, 106.4546483975866, 106.45463617726425, 104.57217499480659, 104.57214771929033, 94.21848158514112, 90.45351844000743, 83.86477773601106, 96.88857319190049, 70.68737314979131, 69.74614112428014, 56.568728642745654, 52.80375168176066, 49.980026144871175, 49.03876084687004, 49.038749589662714, 48.09753486431208, 45.273824096922496, 45.27382123647192, 45.27381988699692, 67.25655621895767, 75.66047203591695, 330.0592465500946, 115.54235362411792, 533.2014698476843, 88.65793005986532, 109.97525561767067, 139.4671413548343, 101.37111732644314, 294.92275072519146, 258.8997686903844, 147.52091636345656, 90.0597984431496, 113.89255641056702, 111.61890508826227, 91.71805626953514, 302.0920290195748, 264.3423118006414, 170.91174303416912, 128.44333967152613, 92.58114434234813, 85.03114012219487, 81.2562125616914, 77.48120564692988, 76.5375107376315, 74.64999531075712, 71.8187651586044, 63.32508985679207, 62.381345948207, 53.88765483024465, 52.00017732189215, 51.98760672788523, 51.05645256519142, 49.168984963291194, 46.33774185002548, 46.33772751965109, 46.337712555619404, 125.04966076214868, 41.61898836976972, 39.731524662247885, 37.844036276323116, 37.84403418327094, 37.84402112533016, 77.44595276412333, 35.95654763925388, 35.956529402266476, 136.59735700401893, 406.54193146730944, 122.57919583102495, 64.78837952043283, 281.0750689863078, 139.11465815416483, 90.49804456366503, 95.74962381812729, 96.66853338549346, 143.63551312638882, 146.88340789843025, 169.61537777080213, 67.14016411718654, 105.09775567064287, 75.75523239657433, 88.78616000463039, 156.05253159783135, 150.5505980317854, 110.36561796614212, 92.55982786600777, 87.19449307348026, 80.71433725234843, 362.34466888306395, 246.91239641185058, 195.29635079841705, 163.38824816861265, 158.69584644570472, 129.6031653302991, 127.72623696707025, 124.91081719180846, 111.77215867159644, 108.95675020799189, 102.38741445848505, 99.57200361294196, 91.12575583721197, 74.23320130644687, 73.29474608471064, 68.60238512320713, 66.72545606439999, 51.709884779605616, 48.894442271521335, 48.89443134518929, 47.95596037178987, 47.01745260168846, 46.07903542079758, 45.140580567446406, 41.3866385128657, 40.44821040044911, 40.448191882723094, 39.50969630035302, 34.81736397989439, 34.81734779127304, 96.7161027917332, 170.13459823714845, 59.27575051434439, 65.80162643783984, 52.71994680185846, 111.37831727547561, 215.49681607972235, 93.22934002240858, 139.76471962600098, 160.44203206385527, 97.44438032749296, 81.18974677076092, 221.47281834234107, 275.5846271606443, 74.31400197005986, 94.83196282263401, 78.78162135066994, 132.2537611267425, 126.77226968466245, 91.39041981728991, 85.25696247687607, 98.33889286214418, 205.61470605088954, 193.24545377808914, 150.42888730851695, 143.76850919039867, 140.9140560307901, 128.54483499583833, 125.69041338470515, 122.83595998923802, 118.07858463018044, 105.70931281201094, 100.95194490900042, 86.67977455876728, 83.82532677161532, 82.87386347313942, 77.1649325431268, 72.40759045613684, 69.55315268561854, 64.79569406589144, 59.08684372291476, 54.3294341012597, 52.42649277880265, 52.426470257964006, 43.86315999440553, 41.96023349552461, 41.96022443510472, 41.008760262303014, 39.10578001343706, 37.20285015575269, 36.2513331250648, 36.25131975476867, 73.66012217636109, 498.5357950006963, 155.85617869149561, 109.33119099704214, 150.7506981391867, 102.58768589220321, 66.49752215633232, 122.76960859784691, 109.62283766588055, 109.123793898663, 150.8057143748315, 108.19349997263993, 82.20050053384726, 98.06444513279023, 90.93405863882145, 260.96227221432065, 153.43571340280235, 125.38527875528709, 116.97017130843163, 114.16513766494424, 106.68501221849873, 105.75002850476244, 105.74998833825603, 82.37464503368876, 73.9595349785423, 73.0245243311329, 63.67437331656522, 63.674369826054985, 54.32425079240795, 49.649199635735194, 48.71415503123868, 48.71415133987158, 45.909152065967035, 42.16906853121358, 40.29905234166677, 40.299044178391746, 40.29904332234818, 40.29902802026075, 39.36405204849068, 39.36404948898855, 39.36403222887663, 38.42899177174314, 37.493983470146006, 35.62400524348275, 34.68895036185249, 87.65538851033847, 71.22688676887172, 516.639394673255, 269.6885059752795, 74.08607425077217, 344.32874751009376, 165.38990965785771, 104.18714471117204, 89.9857456688701, 361.6694780520187, 106.62469952405999, 200.78528991477302, 191.323860944609, 112.22913308071371, 138.26129417578278, 280.7792780101186, 133.68522228824793, 166.64840411695093, 122.91160335960663, 93.34953709974613, 73.78312632776368, 792.4066558407487, 331.64986749021983, 253.7487216490352, 217.64818023881347, 204.3479797851933, 151.1471952669926, 144.49706895008705, 131.19688009934922, 104.59652198215564, 92.24633970390461, 91.29631137722303, 88.44625788676012, 85.596215608976, 83.69619725183385, 79.89615583784202, 79.89614102319449, 79.89611846282695, 78.9461031493021, 77.99612271537367, 77.0461024834918, 74.19604939303893, 72.2960365010241, 72.29603616082184, 66.5959575425727, 56.14581985576567, 53.2957843097045, 49.495728643923975, 48.54567362358032, 48.545669600423366, 48.54566248998494, 213.547678806925, 133.73526154498634, 69.39994807561318, 72.31844060849636, 64.85529686240298, 139.08513847761225, 80.7137572466232, 179.660109740077, 79.30635505025818, 103.44139235879918, 96.88148181615098, 88.81008045254325, 82.01746095018137, 80.99775695124475, 80.96210192382347, 298.82992269473954, 295.060357679041, 230.03588455728192, 211.1881967566056, 173.4928615463017, 157.4723318715082, 157.47231711504415, 154.64519142477303, 138.62464623389528, 95.27499144497479, 92.44780977850796, 84.90874320704194, 76.42728470770928, 75.48493923470066, 73.60013790961226, 65.11870495307039, 64.1763137203583, 62.29151068384434, 60.40677856849298, 60.406745187068545, 58.52200003119885, 58.521989628481045, 56.63722737114785, 53.810107651884465, 52.86771132125385, 52.86768597889445, 49.098199302341314, 48.15577684367244, 48.15575613818125, 46.271015800835706, 97.06336470444957, 166.8377962840149, 239.22433989681667, 109.02503635742237, 99.02665642624628, 82.10436239322992, 387.17363299409874, 80.89568466787401, 206.55107526131414, 66.8301738634536, 135.22706408784305, 93.19372529850126, 99.65524234707914, 95.73523271301374, 80.82447260601477, 67.88623322586037, 69.38823364100034, 321.6343225048277, 287.6349215259125, 284.72068641248995, 253.63548346957748, 200.20784769093416, 192.43659022190434, 189.52230772250587, 162.32278691769773, 146.78025351778038, 134.15191730455766, 98.20967942886594, 98.2096516571842, 97.23824253941838, 96.26681797156502, 95.29542335107897, 94.32400194439175, 92.38121440053196, 87.52412594537736, 83.63852182963682, 77.81004542300188, 76.83863746066154, 67.12449681261705, 64.21027392755062, 63.23885850116477, 60.32460262714792, 59.3532275326654, 58.381808834707435, 56.43900367971664, 56.43894720213456, 53.524754173021044, 216.92833473914368, 302.2818640017364, 83.61842528548674, 209.82886741723283, 68.45518930686897, 231.89164815164133, 148.86051199968318, 86.47541997981926, 126.67695615163613, 103.14711702834198, 88.06102666930212], \"Term\": [\"best\", \"quora\", \"way\", \"world\", \"money\", \"life\", \"india\", \"trump\", \"learn\", \"work\", \"time\", \"love\", \"start\", \"people\", \"questions\", \"notes\", \"engineering\", \"think\", \"find\", \"stop\", \"weight\", \"facebook\", \"500\", \"online\", \"1000\", \"donald\", \"indian\", \"language\", \"thing\", \"lose\", \"engineering\", \"book\", \"free\", \"school\", \"read\", \"watch\", \"windows\", \"laptop\", \"marketing\", \"game\", \"download\", \"mechanical\", \"digital\", \"java\", \"series\", \"management\", \"mba\", \"degree\", \"porn\", \"courses\", \"easy\", \"electrical\", \"gate\", \"options\", \"studying\", \"b.tech\", \"smartphone\", \"hp\", \"watching\", \"cloud\", \"buy\", \"way\", \"best\", \"course\", \"movies\", \"app\", \"online\", \"books\", \"university\", \"website\", \"student\", \"india\", \"college\", \"learning\", \"good\", \"android\", \"learn\", \"mobile\", \"better\", \"10\", \"language\", \"improve\", \"programming\", \"study\", \"interesting\", \"rid\", \"market\", \"skills\", \"facts\", \"preparation\", \"writing\", \"ias\", \"stock\", \"coaching\", \"messages\", \"message\", \"languages\", \"letter\", \"communication\", \"develop\", \"blocked\", \"twitter\", \"upsc\", \"ssc\", \"wars\", \"french\", \"officer\", \"acne\", \"preparing\", \"spanish\", \"cat\", \"whatsapp\", \"start\", \"ways\", \"data\", \"history\", \"english\", \"things\", \"learn\", \"business\", \"prepare\", \"delhi\", \"exam\", \"employees\", \"going\", \"best\", \"day\", \"know\", \"write\", \"new\", \"good\", \"use\", \"like\", \"account\", \"want\", \"world\", \"trump\", \"donald\", \"war\", \"clinton\", \"president\", \"win\", \"hillary\", \"pakistan\", \"countries\", \"america\", \"police\", \"states\", \"election\", \"united\", \"hotel\", \"presidential\", \"hate\", \"education\", \"russia\", \"obama\", \"safety\", \"proposed\", \"elections\", \"nuclear\", \"rich\", \"couples\", \"nra\", \"precautions\", \"handling\", \"problems\", \"u.s.\", \"think\", \"usa\", \"india\", \"white\", \"home\", \"happen\", \"safe\", \"good\", \"people\", \"2016\", \"state\", \"country\", \"indian\", \"bank\", \"weight\", \"lose\", \"china\", \"process\", \"battle\", \"plan\", \"gain\", \"story\", \"suicide\", \"fast\", \"product\", \"drive\", \"function\", \"income\", \"loss\", \"diet\", \"significance\", \"commit\", \"contrast\", \"exercise\", \"gold\", \"tips\", \"british\", \"growth\", \"masturbation\", \"voice\", \"key\", \"easily\", \"determined\", \"singapore\", \"making\", \"work\", \"experience\", \"healthy\", \"job\", \"interview\", \"canada\", \"future\", \"working\", \"country\", \"google\", \"better\", \"causes\", \"company\", \"engineer\", \"software\", \"like\", \"india\", \"people\", \"good\", \"difference\", \"find\", \"love\", \"women\", \"men\", \"girls\", \"energy\", \"big\", \"universe\", \"favorite\", \"looking\", \"woman\", \"worth\", \"song\", \"songs\", \"uk\", \"fall\", \"advantages\", \"guys\", \"bang\", \"break\", \"hollywood\", \"enjoy\", \"useful\", \"recruit\", \"earthquake\", \"baby\", \"grads\", \"favourite\", \"attractive\", \"vacuum\", \"boys\", \"effects\", \"water\", \"short\", \"created\", \"disadvantages\", \"car\", \"mean\", \"man\", \"movie\", \"year\", \"look\", \"music\", \"difference\", \"like\", \"current\", \"2017\", \"major\", \"know\", \"new\", \"sex\", \"old\", \"good\", \"earn\", \"card\", \"youtube\", \"web\", \"service\", \"age\", \"places\", \"cost\", \"visit\", \"living\", \"california\", \"solar\", \"height\", \"provider\", \"turn\", \"installation\", \"panel\", \"kill\", \"sydney\", \"iq\", \"kerala\", \"screen\", \"global\", \"imported\", \"pan\", \"candy\", \"channel\", \"taffy\", \"formula\", \"certificate\", \"city\", \"money\", \"increase\", \"internet\", \"live\", \"support\", \"20\", \"old\", \"years\", \"system\", \"online\", \"number\", \"5\", \"good\", \"difference\", \"thing\", \"password\", \"girlfriend\", \"email\", \"culture\", \"purpose\", \"gmail\", \"deal\", \"biggest\", \"dream\", \"happy\", \"track\", \"access\", \"corporate\", \"moment\", \"pain\", \"ex\", \"funniest\", \"seo\", \"license\", \"coffee\", \"mother\", \"hurt\", \"forgot\", \"remember\", \"dead\", \"driving\", \"everyday\", \"hacker\", \"mail\", \"traffic\", \"recover\", \"life\", \"feel\", \"die\", \"find\", \"change\", \"food\", \"worst\", \"time\", \"eat\", \"number\", \"account\", \"important\", \"phone\", \"like\", \"person\", \"people\", \"think\", \"things\", \"want\", \"quora\", \"questions\", \"question\", \"ask\", \"instagram\", \"answer\", \"friend\", \"test\", \"answers\", \"drug\", \"jee\", \"asked\", \"search\", \"center\", \"alcohol\", \"cons\", \"profile\", \"week\", \"\\u201d\", \"pros\", \"marks\", \"improvement\", \"\\u201c\", \"likes\", \"county\", \"rehab\", \"inpatient\", \"harry\", \"following\", \"gift\", \"girl\", \"tell\", \"iit\", \"date\", \"add\", \"sex\", \"guy\", \"people\", \"friends\", \"know\", \"good\", \"use\", \"3\", \"2\", \"find\", \"stop\", \"facebook\", \"examples\", \"computer\", \"meaning\", \"earth\", \"travel\", \"word\", \"mind\", \"sleep\", \"boyfriend\", \"death\", \"hours\", \"sentence\", \"faster\", \"humans\", \"speak\", \"late\", \"mix\", \"reasons\", \"religion\", \"train\", \"beautiful\", \"dogs\", \"moon\", \"head\", \"blowing\", \"thinking\", \"changed\", \"smoking\", \"god\", \"science\", \"possible\", \"believe\", \"exist\", \"space\", \"people\", \"control\", \"time\", \"night\", \"life\", \"english\", \"know\", \"like\", \"mean\", \"light\", \"1\", \"notes\", \"500\", \"1000\", \"black\", \"government\", \"rs\", \"average\", \"social\", \"modi\", \"rupee\", \"currency\", \"g\", \"note\", \"apple\", \"economy\", \"reduce\", \"2000\", \"decision\", \"banning\", \"ban\", \"desert\", \"prime\", \"rupees\", \"macbook\", \"impact\", \"narendra\", \"jio\", \"temperatures\", \"camera\", \"minister\", \"iphone\", \"indian\", \"ones\", \"new\", \"pro\", \"india\", \"money\", \"help\", \"people\", \"think\", \"compare\"], \"Total\": [3179.0, 793.0, 816.0, 525.0, 648.0, 686.0, 1428.0, 505.0, 579.0, 469.0, 702.0, 363.0, 475.0, 1229.0, 332.0, 322.0, 359.0, 556.0, 532.0, 299.0, 302.0, 295.0, 288.0, 461.0, 285.0, 304.0, 486.0, 278.0, 261.0, 265.0, 359.94331500117545, 251.60025979019366, 250.682098720017, 179.98366411605278, 170.80204885621671, 155.19330327804312, 143.25720417595008, 140.50271962573487, 134.9937500363342, 129.48478173800015, 124.89397407639619, 112.03971264817103, 111.1215512008316, 102.85809841853872, 100.1036146177093, 99.18545280130353, 93.67648396822061, 89.08567623728308, 83.57670693231185, 78.98589941358053, 76.23141596349849, 74.39509177203072, 67.96796198552063, 67.04980034321046, 51.441055377643345, 48.68657049564171, 46.850248482143925, 44.0957626141999, 40.42311709745417, 40.42311725588775, 276.0972783312622, 816.3630442218592, 3179.3921590289588, 117.9811267773378, 217.5221600596298, 203.36177986074603, 461.6277227815443, 244.97608075669132, 169.86836839277257, 221.55096782342977, 157.46023723423474, 1428.0020794533352, 235.4801889265188, 209.37346959462357, 1104.8903612894057, 210.2142143368112, 579.6501474621004, 201.19890635304424, 421.11154604771497, 217.97259960000625, 278.02089210178605, 253.84623876095378, 240.8291174311429, 187.83083939373708, 126.46441119272907, 119.02605670756972, 116.23667383820546, 107.86852404177604, 97.64078635556145, 92.99181411440955, 79.9746930393175, 78.11510435452408, 78.115104596806, 75.32572100730897, 74.39592698031608, 66.02777804985463, 57.659628360195924, 52.0808623682974, 50.22127342691459, 50.22127375327915, 47.431891088373895, 46.502096776866615, 44.64250730007877, 44.64250717594311, 44.64250732318931, 44.64250748786452, 44.64250760312325, 39.06374107493198, 39.06374119803789, 38.13394669926448, 94.86680348927744, 131.23535114282737, 475.7240505642091, 321.6832798413217, 210.1155026255549, 142.58799585208297, 362.9461342092405, 351.06540889194264, 579.6501474621004, 248.33176546678428, 223.7431820164204, 119.49689316414411, 159.0160811563642, 131.4961199143197, 251.8535808570794, 3179.3921590289588, 359.0719621552529, 659.4194669583972, 141.2066358337968, 574.2775421893962, 1104.8903612894057, 530.0825568600437, 1161.1180628732523, 323.06893226228874, 400.9203265293732, 525.214968436467, 505.4488486127597, 304.96391927110267, 270.1378987014077, 223.07570869054473, 220.25197724244012, 209.89829544505477, 203.30958886339164, 160.95361791714618, 152.48242388795865, 114.83267172054808, 107.30272143486748, 107.30272144380446, 105.42023366369625, 105.42023377965151, 95.06655178415652, 91.30157672520315, 84.71286998707812, 97.88651621774265, 71.5354570382496, 70.59421301072044, 57.4167998797924, 53.65182474392516, 50.82809356826044, 49.88684957319539, 49.886849651353934, 48.945605652500596, 46.12187421957828, 46.12187423023297, 46.12187420095932, 73.4320505598351, 85.6271987067607, 556.7754300785209, 156.27893192781983, 1428.0020794533352, 114.89185884247058, 171.013566098019, 253.4835333796595, 160.10110291019464, 1104.8903612894057, 1229.7983209403826, 376.8246278630306, 130.80152465217924, 258.28180838798085, 486.11109825771314, 145.3120829080543, 302.9398399310873, 265.19013139229423, 171.75960285732768, 129.29118059177222, 93.4289577338876, 85.87901584345238, 82.10404507286576, 78.32907392688044, 77.38533154006213, 75.49784607736504, 72.66661780806047, 64.17293345793081, 63.229190904239225, 54.73550642642775, 52.84802103142926, 52.84798788583833, 51.904278433793756, 50.01679285567525, 47.18556483854214, 47.185565001482544, 47.185564650554, 127.39528582895308, 42.46685122161747, 40.57936570514464, 38.69188017230928, 38.69188055070396, 38.691880282058676, 79.25834815787147, 36.804394963988194, 36.80439447061813, 148.48034862678583, 469.10339840189283, 136.71704957108716, 68.88696016235602, 379.4964099840732, 172.92091217494647, 105.30859360668289, 129.14174261888638, 132.62689567299066, 258.28180838798085, 272.6824904652067, 421.11154604771497, 86.72159077702374, 214.34693652755934, 116.8450713190019, 183.30591688048776, 1161.1180628732523, 1428.0020794533352, 1229.7983209403826, 1104.8903612894057, 696.457560542947, 532.039989591029, 363.1930273905098, 247.76076012803864, 196.14470557397817, 164.23659905189962, 159.54423063327823, 130.45154523195006, 128.57459783721507, 125.75917654975133, 112.6205444306718, 109.80512347160689, 103.23580769508752, 100.42038621699909, 91.9741224548753, 75.08159585717655, 74.14312233867567, 69.45075353872929, 67.57380606230771, 52.55822645683638, 49.742805086035375, 49.742804613020965, 48.804331523827415, 47.86585772337721, 46.92738411488012, 45.988910387142276, 42.23501561478324, 41.29654176253992, 41.29654161395394, 40.35806815387677, 35.665699554737714, 35.66569965393596, 104.40626651595362, 189.83305291382408, 65.6763363439808, 75.11672766753095, 57.37983311726178, 156.4491637077717, 438.8026233534177, 138.90665415248796, 262.0627280067082, 353.70600650269006, 157.97379385565668, 117.46759157916503, 696.457560542947, 1161.1180628732523, 104.22110274104462, 175.6265874100754, 121.9511185681047, 659.4194669583972, 574.2775421893962, 296.1326436769919, 245.4293901049809, 1104.8903612894057, 206.46175840856642, 194.09252391949008, 151.27594329217987, 144.61558591393262, 141.76114722323064, 129.39191308786437, 126.53747440624356, 123.68303590323649, 118.92563799761211, 106.55640337457261, 101.79900597476713, 87.52681251655478, 84.67237375514803, 83.72089431564387, 78.01201639015022, 73.25461907599791, 70.4001804200056, 65.6427818420363, 59.93390470193482, 55.17650685128121, 53.27354783231143, 53.273547431223555, 44.710231746078954, 42.807272753718735, 42.80727261930553, 41.85579339098956, 39.952833800540915, 38.049875069312975, 37.098395095482836, 37.09839482527484, 79.85679982721413, 648.1462360516831, 199.355825353842, 138.6731064184361, 208.31734342397166, 131.23471990689868, 76.98153260742232, 245.4293901049809, 229.05525611430522, 227.4927473280415, 461.6277227815443, 337.0439837139001, 176.79572183634332, 1104.8903612894057, 696.457560542947, 261.8109704231394, 154.28440476915725, 126.23399654231939, 117.81887380923658, 115.01383324737577, 107.53372452397252, 106.59871026477143, 106.59871070174769, 83.22337034333597, 74.80824775963718, 73.87323397524317, 64.52309833073326, 64.52309807477113, 55.17296203063483, 50.49789348709194, 49.5628802642521, 49.56288006957118, 46.75783912750012, 43.01778431943096, 41.14775757202001, 41.147757634996594, 41.1477575148644, 41.14775747698668, 40.21274391839247, 40.21274389512582, 40.2127438134311, 39.277730704811226, 38.34271710357415, 36.47268934290333, 35.53767590643719, 94.53881978774264, 76.59531913122265, 686.6542831564806, 343.44314648553933, 85.17347432190196, 532.039989591029, 234.49752909818045, 132.8817584512958, 112.06943183448075, 702.6445664737643, 146.20504374033717, 337.0439837139001, 323.06893226228874, 192.60252827400413, 309.1161000643471, 1161.1180628732523, 334.7144452023261, 1229.7983209403826, 556.7754300785209, 351.06540889194264, 400.9203265293732, 793.2538447845334, 332.4970564485762, 254.59590876389262, 218.49537675132385, 205.1951807132269, 151.9943970012884, 145.34429848101107, 132.0441027076815, 105.44371127668595, 93.09352926118618, 92.14351518210135, 89.29347313905525, 86.44343094477874, 84.5434033200154, 80.74334733184806, 80.74334741827076, 80.74334682155376, 79.79333311075717, 78.84331938599627, 77.89330546172208, 75.04326306479287, 73.143235291238, 73.14323535032851, 67.44315135662885, 56.99299758930977, 54.14295566509065, 50.342899681766745, 49.392885167291396, 49.39288504208234, 49.392885140165056, 270.06162057712595, 161.2783940811161, 74.88245739041045, 83.46671855742996, 76.00915226255876, 296.1326436769919, 127.67696527264286, 1229.7983209403826, 134.23173739188573, 659.4194669583972, 1104.8903612894057, 530.0825568600437, 255.1306800656123, 248.05508904044876, 532.039989591029, 299.6779033791529, 295.9083671804909, 230.883870470946, 212.03618985491502, 174.34082991249733, 158.32030165766773, 158.32030166561867, 155.49314952746425, 139.47262130508605, 96.12295676868393, 93.2958048237992, 85.75673302292131, 77.2752768184206, 76.33289277337286, 74.44812483498632, 65.96666857847458, 65.02428457269498, 63.139516553527216, 61.25474860958789, 61.254748665548135, 59.36998072759074, 59.369980619745334, 57.4852125388801, 54.658060498400545, 53.71567660582258, 53.71567631224254, 49.946140401255434, 49.0037563140682, 49.00375647277252, 47.11898840571468, 109.22713464539522, 204.93513633566826, 334.4720427353442, 139.43680819395175, 126.16968319965213, 105.47538534818986, 1229.7983209403826, 106.52485858848793, 702.6445664737643, 84.70943958500484, 686.6542831564806, 362.9461342092405, 659.4194669583972, 1161.1180628732523, 438.8026233534177, 110.93670695646495, 214.51994089434655, 322.4793595675346, 288.4799590257308, 285.56572468058874, 254.48055730639095, 201.05292751287791, 193.28163706872363, 190.3674012856768, 163.16788074500397, 147.62529940110358, 134.99695101473753, 99.05472718737015, 99.05472634717637, 98.08331476157163, 97.11190287561963, 96.1404921504275, 95.16908031536212, 93.22625859183765, 88.36920033326996, 84.48355592587026, 78.65508705634956, 77.6836757022112, 67.9695603433203, 65.05532637961915, 64.0839147083075, 61.16967980146593, 60.19826955894071, 59.22685801422842, 57.28403556629604, 57.28403353304745, 54.36980074825185, 220.42559760481174, 486.11109825771314, 99.498454010372, 574.2775421893962, 79.9786049051349, 1428.0020794533352, 648.1462360516831, 210.85179262747022, 1229.7983209403826, 556.7754300785209, 257.4813781598819], \"loglift\": [30.0, 29.0, 28.0, 27.0, 26.0, 25.0, 24.0, 23.0, 22.0, 21.0, 20.0, 19.0, 18.0, 17.0, 16.0, 15.0, 14.0, 13.0, 12.0, 11.0, 10.0, 9.0, 8.0, 7.0, 6.0, 5.0, 4.0, 3.0, 2.0, 1.0, 2.069, 2.068, 2.068, 2.0667, 2.0664, 2.0659, 2.0654, 2.0653, 2.0651, 2.0648, 2.0646, 2.0638, 2.0637, 2.0631, 2.0629, 2.0628, 2.0623, 2.0618, 2.0612, 2.0606, 2.0602, 2.0599, 2.0588, 2.0586, 2.0547, 2.0538, 2.0531, 2.0519, 2.0501, 2.0501, 2.026, 1.979, 1.874, 1.9527, 1.8773, 1.884, 1.6734, 1.7986, 1.8335, 1.7199, 1.8178, 0.8941, 1.5885, 1.6284, 0.6458, 1.6153, 0.9591, 1.5577, 0.9337, 1.4218, 2.2315, 2.2312, 2.2311, 2.2301, 2.2279, 2.2274, 2.2273, 2.2267, 2.2259, 2.2254, 2.2239, 2.2237, 2.2237, 2.2233, 2.2231, 2.2217, 2.2198, 2.2182, 2.2175, 2.2175, 2.2165, 2.2162, 2.2154, 2.2154, 2.2154, 2.2154, 2.2154, 2.2126, 2.2126, 2.2121, 2.212, 2.1832, 1.9951, 2.0236, 2.0216, 2.0645, 1.935, 1.9225, 1.834, 1.9082, 1.9152, 2.0362, 1.9024, 1.9526, 1.7084, 0.5133, 1.4936, 1.1684, 1.919, 0.9793, 0.2914, 0.8356, -0.0054, 1.1384, 0.857, 2.245, 2.245, 2.2439, 2.2435, 2.2428, 2.2428, 2.2426, 2.2425, 2.2414, 2.2411, 2.2392, 2.2387, 2.2387, 2.2386, 2.2386, 2.2377, 2.2373, 2.2366, 2.2364, 2.2347, 2.2346, 2.2318, 2.2307, 2.2298, 2.2295, 2.2295, 2.2292, 2.2281, 2.2281, 2.2281, 2.1588, 2.1229, 1.7238, 1.9446, 1.2615, 1.9874, 1.8052, 1.6492, 1.7896, 0.9259, 0.6885, 1.3088, 1.8734, 1.4278, 0.7753, 1.7865, 2.3212, 2.3208, 2.319, 2.3174, 2.3148, 2.314, 2.3136, 2.3131, 2.3129, 2.3127, 2.3122, 2.3107, 2.3105, 2.3084, 2.3078, 2.3075, 2.3075, 2.3069, 2.3058, 2.3058, 2.3058, 2.3054, 2.3038, 2.3028, 2.3018, 2.3018, 2.3018, 2.3008, 2.3007, 2.3007, 2.2405, 2.1808, 2.2148, 2.2626, 2.0237, 2.1064, 2.1724, 2.0248, 2.0077, 1.7372, 1.7053, 1.4146, 2.068, 1.6113, 1.8906, 1.599, 0.317, 0.0742, -0.0868, -0.1557, 0.2461, 0.4382, 2.3218, 2.3208, 2.3198, 2.319, 2.3189, 2.3177, 2.3176, 2.3174, 2.3166, 2.3164, 2.3159, 2.3157, 2.3149, 2.3128, 2.3127, 2.3119, 2.3116, 2.3079, 2.307, 2.307, 2.3066, 2.3063, 2.3059, 2.3056, 2.3039, 2.3034, 2.3034, 2.3029, 2.3001, 2.3001, 2.2477, 2.2146, 2.2216, 2.1918, 2.2395, 1.9844, 1.6131, 1.9254, 1.6956, 1.5337, 1.841, 1.9548, 1.1785, 0.8859, 1.986, 1.7079, 1.8872, 0.7175, 0.8135, 1.1485, 1.2668, -0.0949, 2.3436, 2.3434, 2.3421, 2.3419, 2.3418, 2.3412, 2.341, 2.3409, 2.3406, 2.3398, 2.3394, 2.338, 2.3377, 2.3376, 2.3368, 2.3361, 2.3356, 2.3348, 2.3335, 2.3323, 2.3317, 2.3317, 2.3286, 2.3278, 2.3278, 2.3273, 2.3263, 2.3252, 2.3247, 2.3247, 2.267, 2.0853, 2.1016, 2.11, 2.0243, 2.1015, 2.2013, 1.655, 1.6108, 1.6131, 1.229, 1.2115, 1.5819, -0.0741, 0.3119, 2.351, 2.3488, 2.3475, 2.3471, 2.3469, 2.3464, 2.3463, 2.3463, 2.344, 2.3429, 2.3427, 2.341, 2.341, 2.3388, 2.3373, 2.337, 2.337, 2.336, 2.3344, 2.3334, 2.3334, 2.3334, 2.3334, 2.333, 2.333, 2.333, 2.3324, 2.3319, 2.3307, 2.3301, 2.2787, 2.2816, 2.0698, 2.1125, 2.2148, 1.9192, 2.0051, 2.111, 2.1348, 1.6902, 2.0386, 1.8363, 1.8304, 1.8142, 1.5497, 0.9347, 1.4365, 0.3556, 0.8436, 1.0297, 0.6617, 2.3742, 2.3727, 2.3719, 2.3714, 2.3711, 2.3697, 2.3694, 2.3688, 2.3672, 2.3661, 2.366, 2.3657, 2.3654, 2.3652, 2.3647, 2.3647, 2.3647, 2.3646, 2.3645, 2.3643, 2.3639, 2.3636, 2.3636, 2.3626, 2.3603, 2.3595, 2.3583, 2.358, 2.358, 2.358, 2.1405, 2.188, 2.2992, 2.2319, 2.2166, 1.6195, 1.9167, 0.4517, 1.849, 0.5229, -0.0588, 0.5887, 1.2404, 1.256, 0.4925, 2.3749, 2.3749, 2.3741, 2.3738, 2.3729, 2.3724, 2.3724, 2.3723, 2.3717, 2.3689, 2.3686, 2.3678, 2.3667, 2.3666, 2.3663, 2.3648, 2.3646, 2.3642, 2.3638, 2.3638, 2.3634, 2.3634, 2.3629, 2.3621, 2.3619, 2.3619, 2.3606, 2.3603, 2.3603, 2.3596, 2.2597, 2.1721, 2.0426, 2.1317, 2.1355, 2.1273, 1.222, 2.1025, 1.1535, 2.1407, 0.7529, 1.0182, 0.4881, -0.1178, 0.686, 1.8866, 1.2491, 2.4147, 2.4144, 2.4144, 2.414, 2.4131, 2.4129, 2.4129, 2.4121, 2.4116, 2.4111, 2.4088, 2.4088, 2.4087, 2.4086, 2.4085, 2.4084, 2.4082, 2.4077, 2.4073, 2.4065, 2.4064, 2.4048, 2.4043, 2.4041, 2.4034, 2.4032, 2.403, 2.4025, 2.4025, 2.4017, 2.4013, 1.9423, 2.2435, 1.4105, 2.2618, 0.5996, 0.9462, 1.526, 0.1444, 0.7313, 1.3444], \"logprob\": [30.0, 29.0, 28.0, 27.0, 26.0, 25.0, 24.0, 23.0, 22.0, 21.0, 20.0, 19.0, 18.0, 17.0, 16.0, 15.0, 14.0, 13.0, 12.0, 11.0, 10.0, 9.0, 8.0, 7.0, 6.0, 5.0, 4.0, 3.0, 2.0, 1.0, -4.214, -4.5731, -4.5768, -4.9094, -4.9621, -5.0584, -5.1389, -5.1584, -5.1987, -5.2406, -5.2769, -5.3863, -5.3946, -5.4725, -5.4999, -5.5092, -5.5668, -5.6176, -5.682, -5.7391, -5.775, -5.7997, -5.8911, -5.9049, -6.1738, -6.2298, -6.2689, -6.3307, -6.4194, -6.4194, -4.5222, -3.4851, -2.2305, -5.4457, -4.9093, -4.97, -4.3608, -4.8692, -5.2005, -5.0485, -5.292, -4.0108, -5.1188, -5.1964, -4.5157, -5.2055, -4.8475, -5.307, -5.1924, -5.3628, -4.3097, -4.401, -4.4538, -4.7034, -5.1012, -5.1622, -5.1861, -5.2614, -5.3618, -5.411, -5.5633, -5.5871, -5.5871, -5.6239, -5.6365, -5.7572, -5.8947, -5.998, -6.035, -6.035, -6.0931, -6.1133, -6.1549, -6.1549, -6.1549, -6.1549, -6.1549, -6.2912, -6.2912, -6.3158, -5.4045, -5.1088, -4.009, -4.3718, -4.7997, -5.1445, -4.3397, -4.3855, -3.9726, -4.746, -4.8433, -5.3495, -5.1976, -5.3374, -4.9317, -3.5912, -4.7918, -4.5092, -5.2997, -4.8365, -4.8701, -5.0603, -5.1172, -5.2527, -5.3182, -3.6601, -3.6986, -4.2049, -4.3265, -4.5186, -4.5314, -4.5798, -4.6118, -4.8465, -4.9009, -5.1863, -5.2546, -5.2546, -5.2725, -5.2725, -5.3767, -5.4175, -5.4931, -5.3488, -5.6641, -5.6775, -5.8869, -5.9557, -6.0107, -6.0297, -6.0297, -6.0491, -6.1096, -6.1096, -6.1096, -5.7138, -5.5961, -4.1231, -5.1727, -3.6434, -5.4375, -5.2221, -4.9845, -5.3035, -4.2356, -4.3659, -4.9284, -5.4219, -5.1871, -5.2072, -5.4036, -4.1343, -4.2678, -4.7039, -4.9895, -5.3169, -5.402, -5.4474, -5.495, -5.5072, -5.5322, -5.5709, -5.6967, -5.7117, -5.8581, -5.8938, -5.894, -5.9121, -5.9497, -6.0091, -6.0091, -6.0091, -5.0163, -6.1165, -6.1629, -6.2115, -6.2115, -6.2115, -5.4954, -6.2627, -6.2627, -4.928, -3.8373, -5.0363, -5.6739, -4.2064, -4.9097, -5.3397, -5.2833, -5.2737, -4.8777, -4.8554, -4.7115, -5.6382, -5.1901, -5.5175, -5.3588, -4.7948, -4.8307, -5.1412, -5.3172, -5.3769, -5.4541, -3.9522, -4.3358, -4.5703, -4.7487, -4.7778, -4.9803, -4.9949, -5.0172, -5.1283, -5.1538, -5.216, -5.2439, -5.3325, -5.5376, -5.5503, -5.6165, -5.6442, -5.8991, -5.9551, -5.9551, -5.9745, -5.9943, -6.0144, -6.035, -6.1218, -6.1448, -6.1448, -6.1682, -6.2947, -6.2947, -5.273, -4.7082, -5.7626, -5.6581, -5.8798, -5.1319, -4.4718, -5.3097, -4.9048, -4.7669, -5.2655, -5.448, -4.4445, -4.2259, -5.5365, -5.2927, -5.4781, -4.9601, -5.0024, -5.3296, -5.3991, -5.2564, -4.4952, -4.5573, -4.8077, -4.853, -4.8731, -4.9649, -4.9874, -5.0104, -5.0499, -5.1605, -5.2066, -5.359, -5.3925, -5.4039, -5.4753, -5.5389, -5.5791, -5.65, -5.7422, -5.8262, -5.8618, -5.8618, -6.0401, -6.0845, -6.0845, -6.1074, -6.155, -6.2048, -6.2307, -6.2307, -5.5218, -3.6095, -4.7723, -5.1268, -4.8056, -5.1905, -5.6241, -5.0109, -5.1242, -5.1287, -4.8052, -5.1373, -5.4121, -5.2356, -5.3111, -4.2503, -4.7814, -4.9833, -5.0528, -5.077, -5.1448, -5.1536, -5.1536, -5.4034, -5.5112, -5.5239, -5.6609, -5.6609, -5.8197, -5.9097, -5.9287, -5.9287, -5.988, -6.073, -6.1184, -6.1184, -6.1184, -6.1184, -6.1418, -6.1418, -6.1418, -6.1659, -6.1905, -6.2417, -6.2683, -5.3413, -5.5488, -3.5673, -4.2174, -5.5095, -3.9731, -4.7064, -5.1685, -5.315, -3.924, -5.1454, -4.5125, -4.5607, -5.0941, -4.8855, -4.1771, -4.9192, -4.6988, -5.0032, -5.2783, -5.5136, -3.1186, -3.9896, -4.2574, -4.4108, -4.4739, -4.7755, -4.8205, -4.917, -5.1436, -5.2693, -5.2796, -5.3113, -5.3441, -5.3665, -5.413, -5.413, -5.413, -5.4249, -5.4371, -5.4493, -5.487, -5.5129, -5.5129, -5.5951, -5.7658, -5.8179, -5.8918, -5.9112, -5.9112, -5.9112, -4.4299, -4.8979, -5.5538, -5.5126, -5.6216, -4.8586, -5.4028, -4.6026, -5.4204, -5.1547, -5.2202, -5.3072, -5.3868, -5.3993, -5.3997, -4.0913, -4.104, -4.353, -4.4385, -4.6351, -4.732, -4.732, -4.7501, -4.8594, -5.2344, -5.2646, -5.3496, -5.4549, -5.4673, -5.4926, -5.615, -5.6296, -5.6594, -5.6901, -5.6901, -5.7218, -5.7218, -5.7545, -5.8057, -5.8234, -5.8234, -5.8974, -5.9168, -5.9168, -5.9567, -5.2158, -4.6742, -4.3138, -5.0996, -5.1958, -5.3832, -3.8323, -5.398, -4.4607, -5.5891, -4.8843, -5.2565, -5.1895, -5.2296, -5.3989, -5.5734, -5.5515, -3.9782, -4.09, -4.1001, -4.2157, -4.4523, -4.4919, -4.5071, -4.6621, -4.7627, -4.8527, -5.1645, -5.1645, -5.1745, -5.1845, -5.1947, -5.2049, -5.2257, -5.2797, -5.3251, -5.3974, -5.4099, -5.5451, -5.5895, -5.6047, -5.6519, -5.6681, -5.6846, -5.7185, -5.7185, -5.7715, -4.3721, -4.0403, -5.3254, -4.4054, -5.5255, -4.3054, -4.7486, -5.2918, -4.91, -5.1155, -5.2736]}, \"token.table\": {\"Topic\": [1, 2, 3, 4, 5, 6, 8, 9, 1, 3, 5, 6, 9, 10, 1, 4, 5, 6, 7, 8, 9, 10, 4, 6, 10, 1, 2, 3, 5, 10, 3, 5, 8, 10, 1, 3, 4, 6, 8, 9, 10, 1, 4, 6, 8, 9, 10, 7, 2, 3, 7, 2, 6, 8, 5, 6, 8, 3, 1, 2, 6, 7, 8, 8, 1, 2, 10, 8, 8, 5, 10, 1, 5, 10, 5, 2, 3, 7, 10, 4, 9, 3, 9, 1, 2, 1, 3, 4, 10, 5, 7, 10, 2, 9, 1, 1, 2, 9, 5, 5, 4, 1, 2, 1, 10, 6, 10, 1, 4, 6, 2, 4, 5, 6, 2, 3, 4, 7, 9, 8, 6, 6, 7, 9, 9, 6, 4, 3, 6, 3, 1, 2, 7, 1, 3, 6, 7, 9, 4, 2, 1, 4, 5, 7, 1, 4, 5, 6, 9, 10, 9, 8, 4, 4, 9, 7, 6, 3, 3, 4, 8, 3, 1, 6, 1, 5, 9, 7, 10, 5, 10, 2, 6, 5, 8, 2, 4, 5, 7, 8, 9, 7, 7, 9, 10, 1, 2, 6, 10, 4, 2, 7, 9, 4, 1, 3, 4, 5, 6, 7, 8, 9, 1, 5, 10, 9, 3, 1, 7, 4, 7, 8, 6, 9, 5, 2, 4, 1, 4, 7, 9, 10, 3, 5, 10, 3, 3, 1, 7, 2, 3, 5, 1, 4, 1, 2, 9, 5, 7, 7, 2, 8, 9, 4, 5, 9, 4, 7, 9, 2, 5, 4, 9, 5, 5, 5, 7, 9, 2, 4, 7, 8, 8, 5, 7, 7, 6, 1, 2, 8, 4, 7, 8, 9, 4, 7, 2, 3, 4, 6, 10, 4, 1, 1, 8, 5, 8, 7, 5, 6, 7, 7, 9, 2, 3, 5, 10, 4, 1, 2, 3, 4, 5, 6, 8, 2, 4, 7, 8, 10, 5, 4, 5, 8, 5, 7, 3, 3, 5, 6, 9, 7, 8, 3, 9, 4, 9, 6, 2, 4, 7, 10, 3, 2, 4, 5, 3, 6, 3, 9, 1, 9, 7, 2, 1, 8, 10, 3, 4, 7, 8, 6, 2, 8, 4, 6, 7, 10, 1, 3, 4, 6, 10, 2, 3, 5, 10, 8, 8, 6, 2, 4, 6, 4, 8, 6, 10, 6, 1, 8, 10, 1, 4, 9, 6, 4, 6, 2, 4, 5, 7, 8, 9, 2, 2, 1, 9, 1, 2, 1, 2, 2, 7, 3, 7, 9, 5, 7, 9, 1, 2, 3, 4, 5, 6, 7, 8, 9, 8, 6, 7, 6, 3, 5, 8, 9, 5, 4, 4, 5, 10, 7, 5, 9, 10, 4, 10, 5, 7, 9, 1, 2, 1, 8, 4, 1, 5, 6, 7, 8, 9, 9, 1, 5, 2, 2, 9, 10, 9, 1, 7, 10, 10, 7, 6, 10, 9, 7, 1, 5, 7, 1, 5, 1, 5, 10, 2, 3, 5, 6, 10, 5, 7, 9, 10, 10, 3, 3, 6, 7, 8, 3, 2, 5, 6, 7, 10, 5, 10, 1, 6, 1, 7, 3, 6, 6, 7, 3, 4, 7, 8, 9, 10, 2, 3, 4, 5, 6, 7, 10, 1, 6, 7, 10, 6, 4, 3, 1, 6, 8, 9, 3, 2, 1, 2, 8, 2, 3, 3, 10, 1, 10, 3, 4, 4, 4, 8, 2, 3, 8, 6, 7, 8, 8, 8, 1, 9, 1, 7, 5, 10, 8, 9, 7, 3, 2, 10, 10, 10, 3, 3, 4, 9, 3, 1, 2, 9, 6, 8, 9, 7, 1, 6, 5, 7, 8, 5, 7, 4, 4, 2, 9, 1, 9, 10, 1, 4, 6, 5, 5, 4, 5, 9, 2, 9, 2, 1, 2, 3, 5, 9, 3, 2, 9, 4, 1, 2, 2, 1, 4, 3, 6, 10, 6, 3, 6, 8, 6, 8, 9, 10, 8, 7, 2, 7, 3, 7, 10, 9, 3, 5, 7, 9, 4, 5, 7, 7, 8, 9, 9, 3, 6, 2, 3, 5, 5, 3, 5, 1, 9, 2, 1, 3, 6, 1, 2, 4, 5, 6, 7, 8, 9, 10, 5, 5, 6, 4, 1, 2, 3, 4, 5, 6, 7, 8, 3, 2, 1, 1, 5, 6, 1, 4, 2, 4, 6, 1, 7, 8, 4, 2, 8, 3, 5, 8, 3, 1, 5, 5, 9, 3, 4, 8, 1, 4, 6, 3, 7, 10, 5, 2, 8, 2, 1, 5, 6, 8, 10, 3, 4, 5, 6, 9, 6, 8, 8], \"Freq\": [0.10255456862555842, 0.06526199821626445, 0.009323142602323493, 0.08390828342091144, 0.14917028163717588, 0.20977070855227858, 0.06060042691510271, 0.3216484197801605, 0.5230015158290415, 0.04587732594991593, 0.0596405237348907, 0.2523252927245376, 0.1192810474697814, 0.9980189335354531, 0.12497223951307457, 0.10481542668838512, 0.12497223951307457, 0.1128781518182609, 0.020156812824689445, 0.32654036775996903, 0.1531917774676398, 0.03225090051950311, 0.12990128490941255, 0.8573484804021229, 0.9868464249197595, 0.18576280535847517, 0.24945291005280953, 0.3927556456150618, 0.05042133288301469, 0.12207270066414083, 0.07402068326731157, 0.5409203777226614, 0.07971458198018169, 0.3017766317821164, 0.06663251944308732, 0.15286283872237677, 0.06663251944308732, 0.05095427957412559, 0.32140391731371526, 0.16462151862409807, 0.17246063855857893, 0.1074686638491624, 0.03959371826021772, 0.46381212819112194, 0.19796859130108863, 0.18665610036959784, 0.9983362482879166, 0.9918928555760769, 0.33429398253719567, 0.07119223702181018, 0.5912050987463368, 0.9727690936489796, 0.1315631039464426, 0.8551601756518769, 0.9935097386887541, 0.9969711160573209, 0.990793701816783, 0.9927488256776397, 0.6326879484319914, 0.13319746282778766, 0.15698272404703545, 0.07611283590159296, 0.9934576733030496, 0.9957919607408199, 0.8310312789144765, 0.16718972475202487, 0.9885502925728502, 0.9977327815412422, 0.9855143596325238, 0.9911277181922699, 0.9980700409671219, 0.9858981544879368, 0.9707584903946158, 0.9916713962075937, 0.9893788947141353, 0.2821513474962891, 0.6331200968209414, 0.08258088219403584, 0.9942763308128915, 0.9954087282541523, 0.991559350353764, 0.21515122433289668, 0.7817161150761913, 0.8209116301013774, 0.17896502587267574, 0.3205801438289311, 0.16622674124463094, 0.40369351445124657, 0.10923471567504318, 0.9965385980584041, 0.9853001586178379, 0.9981116148460317, 0.9908944999142201, 0.9810567864973276, 0.997614232232136, 0.7592577994777131, 0.2367578084392869, 0.9861107921599852, 0.9813350176669674, 0.9850670848829169, 0.9890066909086064, 0.2738272321794264, 0.7208099200017254, 0.9561847244406811, 0.03984103018502838, 0.9921511416824131, 0.9775847918895816, 0.1329426167468213, 0.854631107658137, 0.9795537649234051, 0.2237148423840463, 0.057526673755897616, 0.7094956429894039, 0.9943711179728733, 0.9803218468356169, 0.010541095127264697, 0.7725873038038317, 0.10378038409305201, 0.10378038409305201, 0.9935724929601131, 0.9703923894700018, 0.09381761967644846, 0.7036321475733635, 0.20042855112695807, 0.9795167443269328, 0.9761510333585395, 0.995577523208652, 0.062612075750825, 0.92665872111221, 0.9951778313431833, 0.9895327900317701, 0.982400155092039, 0.9721064354179919, 0.6157630527689402, 0.14013917752672433, 0.050959700918808845, 0.0721929096349792, 0.11890596881055397, 0.9796709705356513, 0.9756821493447021, 0.22393602062900708, 0.489860045125953, 0.1679520154717553, 0.11663334407760785, 0.10097817630856169, 0.26021299279513976, 0.15146726446284253, 0.09321062428482618, 0.04660531214241309, 0.34177228904436263, 0.9951131462245948, 0.9907937007562985, 0.9748744167289538, 0.23468700481055352, 0.7603858955861934, 0.9787402744484963, 0.9944775296122997, 0.996836200031073, 0.4413783561123037, 0.5575305550892258, 0.9825768492391769, 0.9806804790768324, 0.8899728530154091, 0.10171118320176104, 0.9875180327007708, 0.8786325236652762, 0.11981352595435585, 0.9911851190526344, 0.9893520761974838, 0.7100289485889035, 0.2782545879605162, 0.8090788060648508, 0.1903714837799649, 0.11980823222515233, 0.8626192720210968, 0.4762276591399923, 0.055699141419882144, 0.10582836869777608, 0.15595759597567, 0.027849570709941072, 0.17545229547262875, 0.9698418039053072, 0.9943835089767378, 0.9911758179649982, 0.9958220699986242, 0.9878131223431325, 0.8201050036119734, 0.17573678648828, 0.9911992359265803, 0.9781440514162706, 0.9756821430042003, 0.8688150928342634, 0.11740744497760315, 0.9839542067775571, 0.09332944845817605, 0.11199533814981126, 0.12491787716709718, 0.3173201247577986, 0.13066122784144646, 0.08902193545241407, 0.06461269508642957, 0.06748437042360422, 0.9899069875401162, 0.9236694692312694, 0.06971090333820901, 0.9879604125649537, 0.9968392350367002, 0.9928421360357277, 0.9891957399906742, 0.9817223026168854, 0.9674693348652469, 0.9882534342626743, 0.9977634676168327, 0.9916605663086558, 0.9784967641368872, 0.012616967464526776, 0.9715064947685618, 0.9838463453953403, 0.15731331431252413, 0.731848897019134, 0.1094353490869733, 0.9881372341152257, 0.9909434286559893, 0.9290630077762438, 0.06704578406632687, 0.996013728588035, 0.9837079553820303, 0.9946892763672984, 0.9930497229963136, 0.7528739255919221, 0.24335318807011624, 0.9965888416577772, 0.34233365214690925, 0.6504339390791276, 0.9973792678961898, 0.7411568126660911, 0.2562363701782397, 0.9835192594855086, 0.9649811696978305, 0.9886431121681979, 0.7169086244044787, 0.2767015743315532, 0.9961717963704302, 0.9748744133625338, 0.20607169123867378, 0.7846575935626425, 0.8996683324126676, 0.09508689692166405, 0.9969302416516771, 0.993437308531826, 0.9845822201356177, 0.9934058240965592, 0.9939807102465028, 0.9939632512665905, 0.9686041115482695, 0.2009066149843967, 0.7861563195041609, 0.011646760288950533, 0.04698894911868771, 0.15224419514454818, 0.6465679398731429, 0.15224419514454818, 0.9920457158607437, 0.21071364742860954, 0.7826506904491212, 0.9698418013738728, 0.9703923824021008, 0.9972790290032684, 0.9856077195475819, 0.9907509376352545, 0.05959842400492983, 0.22349409001848689, 0.5885344370486821, 0.11919684800985966, 0.9805597559187363, 0.9837922551246727, 0.1161514448838351, 0.05420400761245638, 0.7433692472565446, 0.08517772624814574, 0.9893520845892838, 0.9865530976959059, 0.9962560717059318, 0.9857585551009042, 0.9920457138907731, 0.20736008278528106, 0.7924117449294669, 0.990224530822759, 0.9924706243368517, 0.9841147827165705, 0.9943835130529783, 0.10070757633358586, 0.8880577185779843, 0.591613585532277, 0.25808646348723496, 0.07544065855780714, 0.07147009758108044, 0.9748744206128711, 0.24074786903704937, 0.1430006139393, 0.2669948171651487, 0.08417124744528418, 0.08869658332943924, 0.08869658332943924, 0.08779151615260822, 0.07701264560175171, 0.5390885192122619, 0.09901625863082361, 0.28237970053975625, 0.9947629336916247, 0.9686041080632081, 0.9857226525088049, 0.36028425254133406, 0.6344135751271317, 0.9915084542999011, 0.9870399098224079, 0.975675875701166, 0.5483590912069632, 0.12624094186059584, 0.1183508829943086, 0.20514153052346826, 0.9881792913582772, 0.9920457133459463, 0.9915848679523328, 0.9866765837949725, 0.9435748049675142, 0.04354960638311604, 0.9920591129629557, 0.2893027336398979, 0.1944493783481281, 0.10433869082094678, 0.4078694277546101, 0.993558646836517, 0.8415855716527837, 0.1542906881363437, 0.9850670942501195, 0.6432238243424024, 0.3508493587322195, 0.9887809985306076, 0.9834969621471923, 0.9751503874921751, 0.9853461058545859, 0.9721064391509402, 0.9857248561115249, 0.06677131299166347, 0.921444119284956, 0.9808781114228114, 0.08307263743307541, 0.15056915534744916, 0.5815084620315278, 0.18172139438485246, 0.9811416915447246, 0.9966663332689728, 0.9843699108101258, 0.9865625354646829, 0.7825203990057046, 0.17556547413589527, 0.04012925123106177, 0.3081228006113548, 0.3732487561951184, 0.10574214293707856, 0.050420094645494413, 0.16246474941325978, 0.05965714443455387, 0.23040000609207012, 0.0864000022845263, 0.6212571592839747, 0.9733249437307816, 0.9941753957911066, 0.9828731745271065, 0.9963277321394292, 0.20912490351585974, 0.7860211890768521, 0.8038356856420685, 0.19083868795818892, 0.013610034554056311, 0.9844591660767399, 0.9786773951737778, 0.9916574539901852, 0.9875898463408798, 0.9792854448916793, 0.16337440452362129, 0.7404549624377029, 0.09486255746532848, 0.9760941802426946, 0.9821182047237054, 0.9902078823596614, 0.34424218782476657, 0.0773407558549035, 0.20017607397739728, 0.06824184340138544, 0.15619799711872667, 0.15164854089196764, 0.9963280022085093, 0.9885599616411804, 0.9964219936306287, 0.981952402936738, 0.3295091027514804, 0.6693692767935832, 0.640004678049434, 0.35343541922132915, 0.9792464579281747, 0.9721064369057993, 0.049515456080322436, 0.7529261998096088, 0.19660548737775085, 0.16225468101431717, 0.21633957468575624, 0.6129621282763092, 0.0025837165882824443, 0.10679361898234103, 0.06717663129534356, 0.1343532625906871, 0.23770192612198487, 0.06200919811877866, 0.24200812043578895, 0.06631539243258273, 0.08267893082503822, 0.993429260826121, 0.7248556338042471, 0.27362100084001384, 0.9947783206175164, 0.21522557109102775, 0.614025893994991, 0.08229213012304003, 0.08229213012304003, 0.9944899535532453, 0.9955121580654385, 0.9839535896542856, 0.996715169894418, 0.9830860097539111, 0.9848702569112069, 0.6478005362114144, 0.1558001289622389, 0.1968001628996702, 0.9226810232265661, 0.07408387777731552, 0.6695143624862429, 0.16557882082993103, 0.1583797416634123, 0.9880481182691344, 0.9893607258589759, 0.9926385478137563, 0.986097845133785, 0.9821182075094804, 0.9927785081210979, 0.48996972341898704, 0.08204144206085365, 0.09343608679152776, 0.1481303814987635, 0.1845932446369207, 0.9923091457510539, 0.9907201417819059, 0.9941639741402736, 0.9844341566502722, 0.9946781094559003, 0.9966113685921754, 0.9931984163421136, 0.9795158965130175, 0.5964247131116891, 0.33300379815402636, 0.0646126772537663, 0.9957642802172776, 0.9901403117494552, 0.7698879855258618, 0.2298863924716501, 0.9866765784023467, 0.9721064382560877, 0.24803221921102855, 0.5342232413775999, 0.21368929655104, 0.8229046638325509, 0.17469484483596054, 0.3064675074719523, 0.6895518918118927, 0.9800946178732352, 0.2855762030581251, 0.01393054649064025, 0.22114742553891395, 0.11318569023645202, 0.3656768453793065, 0.0944404784070387, 0.10624553820791854, 0.7909390066589492, 0.9889551575188397, 0.9985135186072763, 0.9756758753072949, 0.9822227785321624, 0.3204329559897317, 0.5963613347586674, 0.08010823899743293, 0.9915826951618513, 0.9856077170029244, 0.3463317900258065, 0.5011624726255788, 0.06111737471043644, 0.08963881624197345, 0.15075611122999316, 0.8442342228879617, 0.6715367918808919, 0.3271034050774667, 0.9843429758502366, 0.9886431082848491, 0.9940752004864093, 0.9811416946254722, 0.9943156336018156, 0.9916750836153596, 0.21060363767772264, 0.08944556040366598, 0.13579462352192928, 0.14636546247872617, 0.3146857443292612, 0.10326896519332346, 0.06871528949429447, 0.12249247257678579, 0.07469053205901573, 0.11352960872970391, 0.20913348976524404, 0.4003412518363243, 0.008962863847081887, 0.3429132289710388, 0.13587127940361915, 0.4464342037547486, 0.0711706701638005, 0.9957524487606096, 0.9897644862971564, 0.9878593812212095, 0.9930996691126043, 0.21526462843105554, 0.06577530313171141, 0.714558974930865, 0.9756758750819025, 0.9893343933134877, 0.09385760857937034, 0.7285138189732079, 0.17877639729403874, 0.9727690905833843, 0.9943157048662404, 0.9857442032012153, 0.9857353742112945, 0.13753678265640468, 0.850227383694138, 0.912408130907443, 0.0680901590229435, 0.9900133900405084, 0.9908263542714861, 0.9907937080785543, 0.9965572375965711, 0.9878508373753129, 0.9885316786028414, 0.9913893142024264, 0.9950366777833168, 0.9976593937947162, 0.9985050801535349, 0.9984193650080903, 0.9953042199342006, 0.9795158956181653, 0.06527814044920982, 0.9269495943787794, 0.9802378902559358, 0.9877157548282685, 0.9788900393218173, 0.9937682188362442, 0.9698418019350126, 0.982222776993298, 0.9913795622912166, 0.9933690696738671, 0.9926150108780701, 0.9837780172916054, 0.9925148023033766, 0.6308513693166363, 0.08119869110016112, 0.2810723922697885, 0.9927408026803128, 0.9945347033527525, 0.1805449307599298, 0.8148919847813048, 0.9760941875915489, 0.9948702759720168, 0.9825384218395845, 0.976340382575882, 0.9889752770474478, 0.9946307769220288, 0.3072947273562272, 0.21949623382587655, 0.46938425387379756, 0.8983448725121727, 0.091357105679204, 0.9825779596387761, 0.9781440645284819, 0.9919483088371575, 0.9883174966060784, 0.981851782867961, 0.9762518584635198, 0.9928424593144707, 0.5128039596304267, 0.48552715326710616, 0.9939811298799994, 0.9958137363055877, 0.9894087333602641, 0.037923540044868365, 0.18013681521312472, 0.7774325709198014, 0.9702641138037162, 0.9842476610173255, 0.9856077264341161, 0.2123079543281739, 0.7861700487003668, 0.6880653741561761, 0.14525824565519274, 0.16054858730310775, 0.9878593811389331, 0.9857248530541992, 0.99773789334646, 0.983032176173548, 0.7747987818570043, 0.22227833905733732, 0.9955766614448469, 0.9914260044937758, 0.9950206126614236, 0.1523986945999391, 0.7848532771896863, 0.06095947783997564, 0.9844177564171841, 0.3164936062606733, 0.47913615392240816, 0.20220424844431903, 0.9724079233532177, 0.8308614477684083, 0.16741238126676883, 0.9775847571910328, 0.9920927728973029, 0.9969024582055187, 0.7320573132259356, 0.2649078993385681, 0.5926985678111923, 0.22091492072962624, 0.18499379540773578, 0.9795167474992109, 0.09962362670972665, 0.09108445870603579, 0.515196469556015, 0.2946012961273345, 0.9811980026312033, 0.015699168042099254, 0.9918928516412532, 0.9308345523836291, 0.06346599220797472, 0.9937682206414216, 0.991660566258854, 0.9991119801459799, 0.98702742940153, 0.9892027067236161, 0.8875684496029113, 0.10510679008455528, 0.9855943944074655, 0.9960137274924861, 0.9955310158703157, 0.7888461004709416, 0.20604189191405192, 0.9856077236934755, 0.07038696684387723, 0.7422625594445235, 0.18556563986113087, 0.07168694669957426, 0.2471313162537955, 0.011318991584143305, 0.04150296914185879, 0.13394140041236244, 0.07357344529693148, 0.16789837516479236, 0.11130341724407583, 0.14148739480179132, 0.9819107446401335, 0.9813350203963885, 0.9922166656980163, 0.9821181979046669, 0.07482783489602408, 0.25192037748328105, 0.05487374559041766, 0.1870695872400602, 0.11972453583363853, 0.05487374559041766, 0.1845753260768594, 0.07233357373282327, 0.9957877117321273, 0.9856077231832461, 0.9923108584401661, 0.9895327939101258, 0.8955237109165208, 0.10008794416125821, 0.9113592356561973, 0.08697110985428765, 0.808248411693177, 0.186518864236887, 0.9957432948181741, 0.7041269173074787, 0.2933862155447828, 0.9900576516880679, 0.9968976020740583, 0.9524872598082109, 0.045719388470794126, 0.774641483710598, 0.12185371653874576, 0.09574220585187167, 0.9957203299667103, 0.9912241469238366, 0.9926677057850122, 0.9969294567564069, 0.9968284806825065, 0.07887386901490992, 0.8676125591640091, 0.053293154739804005, 0.15079897556610744, 0.7313750314956211, 0.1130992316745806, 0.9976867216102316, 0.8030735815001198, 0.18738383568336128, 0.9880292727622422, 0.7294274762075146, 0.2620273458221169, 0.9878124816454336, 0.15549636983499093, 0.45235307588360996, 0.17811402362917142, 0.05088972103690612, 0.16115078328353605, 0.06985214079530022, 0.22701945758472572, 0.10914396999265659, 0.480233467967689, 0.10914396999265659, 0.9915654580337637, 0.9843699100148791, 0.9893038574153937], \"Term\": [\"1\", \"1\", \"1\", \"1\", \"1\", \"1\", \"1\", \"1\", \"10\", \"10\", \"10\", \"10\", \"10\", \"1000\", \"2\", \"2\", \"2\", \"2\", \"2\", \"2\", \"2\", \"2\", \"20\", \"20\", \"2000\", \"2016\", \"2016\", \"2016\", \"2016\", \"2016\", \"2017\", \"2017\", \"2017\", \"2017\", \"3\", \"3\", \"3\", \"3\", \"3\", \"3\", \"3\", \"5\", \"5\", \"5\", \"5\", \"5\", \"500\", \"access\", \"account\", \"account\", \"account\", \"acne\", \"add\", \"add\", \"advantages\", \"age\", \"alcohol\", \"america\", \"android\", \"android\", \"android\", \"android\", \"answer\", \"answers\", \"app\", \"app\", \"apple\", \"ask\", \"asked\", \"attractive\", \"average\", \"b.tech\", \"baby\", \"ban\", \"bang\", \"bank\", \"bank\", \"bank\", \"banning\", \"battle\", \"beautiful\", \"believe\", \"believe\", \"best\", \"best\", \"better\", \"better\", \"better\", \"better\", \"big\", \"biggest\", \"black\", \"blocked\", \"blowing\", \"book\", \"books\", \"books\", \"boyfriend\", \"boys\", \"break\", \"british\", \"business\", \"business\", \"buy\", \"buy\", \"california\", \"camera\", \"canada\", \"canada\", \"candy\", \"car\", \"car\", \"car\", \"card\", \"cat\", \"cat\", \"causes\", \"causes\", \"causes\", \"center\", \"certificate\", \"change\", \"change\", \"change\", \"changed\", \"channel\", \"china\", \"city\", \"city\", \"clinton\", \"cloud\", \"coaching\", \"coffee\", \"college\", \"college\", \"college\", \"college\", \"college\", \"commit\", \"communication\", \"company\", \"company\", \"company\", \"company\", \"compare\", \"compare\", \"compare\", \"compare\", \"compare\", \"compare\", \"computer\", \"cons\", \"contrast\", \"control\", \"control\", \"corporate\", \"cost\", \"countries\", \"country\", \"country\", \"county\", \"couples\", \"course\", \"course\", \"courses\", \"created\", \"created\", \"culture\", \"currency\", \"current\", \"current\", \"data\", \"data\", \"date\", \"date\", \"day\", \"day\", \"day\", \"day\", \"day\", \"day\", \"dead\", \"deal\", \"death\", \"decision\", \"degree\", \"delhi\", \"delhi\", \"desert\", \"determined\", \"develop\", \"die\", \"die\", \"diet\", \"difference\", \"difference\", \"difference\", \"difference\", \"difference\", \"difference\", \"difference\", \"difference\", \"digital\", \"disadvantages\", \"disadvantages\", \"dogs\", \"donald\", \"download\", \"dream\", \"drive\", \"driving\", \"drug\", \"earn\", \"earth\", \"earthquake\", \"easily\", \"easily\", \"easy\", \"eat\", \"eat\", \"eat\", \"economy\", \"education\", \"effects\", \"effects\", \"election\", \"elections\", \"electrical\", \"email\", \"employees\", \"employees\", \"energy\", \"engineer\", \"engineer\", \"engineering\", \"english\", \"english\", \"enjoy\", \"everyday\", \"ex\", \"exam\", \"exam\", \"examples\", \"exercise\", \"exist\", \"exist\", \"experience\", \"experience\", \"facebook\", \"facts\", \"fall\", \"fast\", \"faster\", \"favorite\", \"favourite\", \"feel\", \"feel\", \"feel\", \"find\", \"find\", \"find\", \"find\", \"following\", \"food\", \"food\", \"forgot\", \"formula\", \"free\", \"french\", \"friend\", \"friends\", \"friends\", \"friends\", \"friends\", \"function\", \"funniest\", \"future\", \"future\", \"future\", \"future\", \"g\", \"gain\", \"game\", \"gate\", \"gift\", \"girl\", \"girl\", \"girlfriend\", \"girls\", \"global\", \"gmail\", \"god\", \"god\", \"going\", \"going\", \"going\", \"going\", \"gold\", \"good\", \"good\", \"good\", \"good\", \"good\", \"good\", \"good\", \"google\", \"google\", \"google\", \"google\", \"government\", \"grads\", \"growth\", \"guy\", \"guy\", \"guys\", \"hacker\", \"handling\", \"happen\", \"happen\", \"happen\", \"happen\", \"happy\", \"harry\", \"hate\", \"head\", \"healthy\", \"healthy\", \"height\", \"help\", \"help\", \"help\", \"help\", \"hillary\", \"history\", \"history\", \"hollywood\", \"home\", \"home\", \"hotel\", \"hours\", \"hp\", \"humans\", \"hurt\", \"ias\", \"iit\", \"iit\", \"impact\", \"important\", \"important\", \"important\", \"important\", \"imported\", \"improve\", \"improvement\", \"income\", \"increase\", \"increase\", \"increase\", \"india\", \"india\", \"india\", \"india\", \"india\", \"indian\", \"indian\", \"indian\", \"indian\", \"inpatient\", \"instagram\", \"installation\", \"interesting\", \"internet\", \"internet\", \"interview\", \"interview\", \"iphone\", \"iphone\", \"iq\", \"java\", \"jee\", \"jio\", \"job\", \"job\", \"job\", \"kerala\", \"key\", \"kill\", \"know\", \"know\", \"know\", \"know\", \"know\", \"know\", \"language\", \"languages\", \"laptop\", \"late\", \"learn\", \"learn\", \"learning\", \"learning\", \"letter\", \"license\", \"life\", \"life\", \"life\", \"light\", \"light\", \"light\", \"like\", \"like\", \"like\", \"like\", \"like\", \"like\", \"like\", \"like\", \"like\", \"likes\", \"live\", \"live\", \"living\", \"look\", \"look\", \"look\", \"look\", \"looking\", \"lose\", \"loss\", \"love\", \"macbook\", \"mail\", \"major\", \"major\", \"major\", \"making\", \"making\", \"man\", \"man\", \"man\", \"management\", \"market\", \"marketing\", \"marks\", \"masturbation\", \"mba\", \"mean\", \"mean\", \"mean\", \"mean\", \"mean\", \"meaning\", \"mechanical\", \"men\", \"message\", \"messages\", \"mind\", \"minister\", \"mix\", \"mobile\", \"mobile\", \"mobile\", \"modi\", \"moment\", \"money\", \"money\", \"moon\", \"mother\", \"movie\", \"movie\", \"movie\", \"movies\", \"movies\", \"music\", \"music\", \"narendra\", \"new\", \"new\", \"new\", \"new\", \"new\", \"night\", \"night\", \"night\", \"note\", \"notes\", \"nra\", \"nuclear\", \"number\", \"number\", \"number\", \"obama\", \"officer\", \"old\", \"old\", \"old\", \"old\", \"ones\", \"ones\", \"online\", \"online\", \"options\", \"pain\", \"pakistan\", \"pan\", \"panel\", \"password\", \"people\", \"people\", \"people\", \"people\", \"people\", \"people\", \"person\", \"person\", \"person\", \"person\", \"person\", \"person\", \"person\", \"phone\", \"phone\", \"phone\", \"phone\", \"places\", \"plan\", \"police\", \"porn\", \"possible\", \"possible\", \"possible\", \"precautions\", \"preparation\", \"prepare\", \"prepare\", \"prepare\", \"preparing\", \"president\", \"presidential\", \"prime\", \"pro\", \"pro\", \"problems\", \"problems\", \"process\", \"product\", \"profile\", \"programming\", \"proposed\", \"pros\", \"provider\", \"purpose\", \"question\", \"questions\", \"quora\", \"read\", \"reasons\", \"recover\", \"recover\", \"recruit\", \"reduce\", \"rehab\", \"religion\", \"remember\", \"rich\", \"rid\", \"rs\", \"rupee\", \"rupees\", \"russia\", \"safe\", \"safe\", \"safe\", \"safety\", \"school\", \"science\", \"science\", \"screen\", \"search\", \"sentence\", \"seo\", \"series\", \"service\", \"sex\", \"sex\", \"sex\", \"short\", \"short\", \"significance\", \"singapore\", \"skills\", \"sleep\", \"smartphone\", \"smoking\", \"social\", \"software\", \"software\", \"solar\", \"song\", \"songs\", \"space\", \"space\", \"space\", \"spanish\", \"speak\", \"ssc\", \"start\", \"start\", \"state\", \"state\", \"state\", \"states\", \"stock\", \"stop\", \"story\", \"student\", \"student\", \"study\", \"studying\", \"suicide\", \"support\", \"support\", \"support\", \"sydney\", \"system\", \"system\", \"system\", \"taffy\", \"tell\", \"tell\", \"temperatures\", \"test\", \"thing\", \"things\", \"things\", \"think\", \"think\", \"think\", \"thinking\", \"time\", \"time\", \"time\", \"time\", \"tips\", \"tips\", \"track\", \"traffic\", \"traffic\", \"train\", \"travel\", \"trump\", \"turn\", \"twitter\", \"u.s.\", \"u.s.\", \"uk\", \"united\", \"universe\", \"university\", \"university\", \"upsc\", \"usa\", \"usa\", \"usa\", \"use\", \"use\", \"use\", \"use\", \"use\", \"use\", \"use\", \"use\", \"use\", \"useful\", \"vacuum\", \"visit\", \"voice\", \"want\", \"want\", \"want\", \"want\", \"want\", \"want\", \"want\", \"want\", \"war\", \"wars\", \"watch\", \"watching\", \"water\", \"water\", \"way\", \"way\", \"ways\", \"ways\", \"web\", \"website\", \"website\", \"week\", \"weight\", \"whatsapp\", \"whatsapp\", \"white\", \"white\", \"white\", \"win\", \"windows\", \"woman\", \"women\", \"word\", \"work\", \"work\", \"work\", \"working\", \"working\", \"working\", \"world\", \"worst\", \"worst\", \"worth\", \"write\", \"write\", \"writing\", \"year\", \"year\", \"year\", \"year\", \"year\", \"years\", \"years\", \"years\", \"years\", \"years\", \"youtube\", \"\\u201c\", \"\\u201d\"]}, \"R\": 30, \"lambda.step\": 0.01, \"plot.opts\": {\"xlab\": \"PC1\", \"ylab\": \"PC2\"}, \"topic.order\": [6, 7, 1, 2, 10, 5, 3, 4, 8, 9]};\n",
       "\n",
       "function LDAvis_load_lib(url, callback){\n",
       "  var s = document.createElement('script');\n",
       "  s.src = url;\n",
       "  s.async = true;\n",
       "  s.onreadystatechange = s.onload = callback;\n",
       "  s.onerror = function(){console.warn(\"failed to load library \" + url);};\n",
       "  document.getElementsByTagName(\"head\")[0].appendChild(s);\n",
       "}\n",
       "\n",
       "if(typeof(LDAvis) !== \"undefined\"){\n",
       "   // already loaded: just create the visualization\n",
       "   !function(LDAvis){\n",
       "       new LDAvis(\"#\" + \"ldavis_el7362246412180166874796171\", ldavis_el7362246412180166874796171_data);\n",
       "   }(LDAvis);\n",
       "}else if(typeof define === \"function\" && define.amd){\n",
       "   // require.js is available: use it to load d3/LDAvis\n",
       "   require.config({paths: {d3: \"https://cdnjs.cloudflare.com/ajax/libs/d3/3.5.5/d3.min\"}});\n",
       "   require([\"d3\"], function(d3){\n",
       "      window.d3 = d3;\n",
       "      LDAvis_load_lib(\"https://cdn.rawgit.com/bmabey/pyLDAvis/files/ldavis.v1.0.0.js\", function(){\n",
       "        new LDAvis(\"#\" + \"ldavis_el7362246412180166874796171\", ldavis_el7362246412180166874796171_data);\n",
       "      });\n",
       "    });\n",
       "}else{\n",
       "    // require.js not available: dynamically load d3 & LDAvis\n",
       "    LDAvis_load_lib(\"https://cdnjs.cloudflare.com/ajax/libs/d3/3.5.5/d3.min.js\", function(){\n",
       "         LDAvis_load_lib(\"https://cdn.rawgit.com/bmabey/pyLDAvis/files/ldavis.v1.0.0.js\", function(){\n",
       "                 new LDAvis(\"#\" + \"ldavis_el7362246412180166874796171\", ldavis_el7362246412180166874796171_data);\n",
       "            })\n",
       "         });\n",
       "}\n",
       "</script>"
      ],
      "text/plain": [
       "PreparedData(topic_coordinates=               x          y  topics  cluster       Freq\n",
       "topic                                                  \n",
       "5      32.420952   8.115230       1        1  12.600976\n",
       "6       0.648955  71.707100       2        1  10.703525\n",
       "0      71.019684   9.971006       3        1  10.575377\n",
       "1       3.785981  33.185135       4        1   9.788488\n",
       "9     -42.666500  -9.222070       5        1   9.786325\n",
       "4      -3.621689 -43.526516       6        1   9.558416\n",
       "2      -3.632402  -4.171708       7        1   9.496135\n",
       "3     -36.584400  35.804413       8        1   9.299050\n",
       "7      44.391380  50.615383       9        1   9.275775\n",
       "8      40.235809 -31.591665      10        1   8.915932, topic_info=      Category         Freq     Term        Total  loglift  logprob\n",
       "1406   Default  3179.000000     best  3179.000000  30.0000  30.0000\n",
       "8769   Default   793.000000    quora   793.000000  29.0000  29.0000\n",
       "11806  Default   816.000000      way   816.000000  28.0000  28.0000\n",
       "11971  Default   525.000000    world   525.000000  27.0000  27.0000\n",
       "7123   Default   648.000000    money   648.000000  26.0000  26.0000\n",
       "...        ...          ...      ...          ...      ...      ...\n",
       "7123   Topic10   148.860512    money   648.146236   0.9462  -4.7486\n",
       "5071   Topic10    86.475420     help   210.851793   1.5260  -5.2918\n",
       "7996   Topic10   126.676956   people  1229.798321   0.1444  -4.9100\n",
       "10942  Topic10   103.147117    think   556.775430   0.7313  -5.1155\n",
       "2443   Topic10    88.061027  compare   257.481378   1.3444  -5.2736\n",
       "\n",
       "[514 rows x 6 columns], token_table=       Topic      Freq     Term\n",
       "term                           \n",
       "24         1  0.102555        1\n",
       "24         2  0.065262        1\n",
       "24         3  0.009323        1\n",
       "24         4  0.083908        1\n",
       "24         5  0.149170        1\n",
       "...      ...       ...      ...\n",
       "12033      6  0.480233    years\n",
       "12033      9  0.109144    years\n",
       "12051      6  0.991565  youtube\n",
       "12096      8  0.984370        “\n",
       "12097      8  0.989304        ”\n",
       "\n",
       "[736 rows x 3 columns], R=30, lambda_step=0.01, plot_opts={'xlab': 'PC1', 'ylab': 'PC2'}, topic_order=[6, 7, 1, 2, 10, 5, 3, 4, 8, 9])"
      ]
     },
     "execution_count": 14,
     "metadata": {},
     "output_type": "execute_result"
    }
   ],
   "source": [
    "pyLDAvis.enable_notebook()\n",
    "panel = persist('simple-lda-viz', pyLDAvis.sklearn, 'prepare', model, X, count_vectorizor, mds='tsne', task = 'data')\n",
    "panel"
   ]
  },
  {
   "cell_type": "markdown",
   "metadata": {},
   "source": [
    "## Grid Search"
   ]
  },
  {
   "cell_type": "code",
   "execution_count": 15,
   "metadata": {
    "scrolled": false
   },
   "outputs": [
    {
     "name": "stdout",
     "output_type": "stream",
     "text": [
      "Loading grid-lda from disk\n",
      "1104.442 seconds elapsed in original job\n"
     ]
    }
   ],
   "source": [
    "learner = sk_decomp.LatentDirichletAllocation(n_jobs = -1, verbose = 1, random_state = 42)\n",
    "param_grid = {'n_components': [15, 20, 25],'learning_decay': [.5, .7]}\n",
    "splitter = sk_cv.KFold(n_splits = 5, shuffle = True, random_state = 42)\n",
    "model = sk_cv.GridSearchCV(learner, param_grid, verbose = 2, cv = splitter)\n",
    "\n",
    "model = persist('grid-lda', model, 'fit', X, force_fit = False)"
   ]
  },
  {
   "cell_type": "code",
   "execution_count": 16,
   "metadata": {},
   "outputs": [
    {
     "data": {
      "text/plain": [
       "{'learning_decay': 0.5, 'n_components': 15}"
      ]
     },
     "execution_count": 16,
     "metadata": {},
     "output_type": "execute_result"
    }
   ],
   "source": [
    "model.best_params_"
   ]
  },
  {
   "cell_type": "code",
   "execution_count": 17,
   "metadata": {},
   "outputs": [],
   "source": [
    "model = model.best_estimator_"
   ]
  },
  {
   "cell_type": "code",
   "execution_count": 18,
   "metadata": {},
   "outputs": [
    {
     "name": "stdout",
     "output_type": "stream",
     "text": [
      "Loading grid-lda-train-score from disk\n",
      "6.939 seconds elapsed in original job\n",
      "Loading grid-lda-test-score from disk\n",
      "7.709 seconds elapsed in original job\n",
      "Loading grid-lda-train-perplexity from disk\n",
      "10.636 seconds elapsed in original job\n",
      "Loading grid-lda-test-perplexity from disk\n",
      "9.466 seconds elapsed in original job\n",
      "Log likelihood - train -1.64e+06\n",
      "Log likelihood - test  -1.61e+06\n",
      "Perplexity     - train  4.97e+03\n",
      "Perplexity     - test   6.05e+03\n"
     ]
    }
   ],
   "source": [
    "train_score      = persist('grid-lda-train-score', model, 'score', X, task = 'data', force_fit = False)\n",
    "test_score       = persist('grid-lda-test-score', model, 'score', X_test, task = 'data', force_fit = False)\n",
    "train_perplexity = persist('grid-lda-train-perplexity', model, 'perplexity', X, task = 'data', force_fit = False)\n",
    "test_perplexity  = persist('grid-lda-test-perplexity', model, 'perplexity', X_test, task = 'data', force_fit = False)\n",
    "\n",
    "print(f'Log likelihood - train {train_score : .3}\\n'\n",
    "      f'Log likelihood - test  {test_score : .3}\\n'\n",
    "      f'Perplexity     - train {train_perplexity : .3}\\n'\n",
    "      f'Perplexity     - test  {test_perplexity : .3}')"
   ]
  },
  {
   "cell_type": "code",
   "execution_count": 19,
   "metadata": {},
   "outputs": [
    {
     "data": {
      "text/html": [
       "<div>\n",
       "<style scoped>\n",
       "    .dataframe tbody tr th:only-of-type {\n",
       "        vertical-align: middle;\n",
       "    }\n",
       "\n",
       "    .dataframe tbody tr th {\n",
       "        vertical-align: top;\n",
       "    }\n",
       "\n",
       "    .dataframe thead th {\n",
       "        text-align: right;\n",
       "    }\n",
       "</style>\n",
       "<table border=\"1\" class=\"dataframe\">\n",
       "  <thead>\n",
       "    <tr style=\"text-align: right;\">\n",
       "      <th></th>\n",
       "      <th>0</th>\n",
       "      <th>1</th>\n",
       "      <th>2</th>\n",
       "      <th>3</th>\n",
       "      <th>4</th>\n",
       "      <th>5</th>\n",
       "      <th>6</th>\n",
       "      <th>7</th>\n",
       "      <th>8</th>\n",
       "      <th>9</th>\n",
       "      <th>10</th>\n",
       "      <th>11</th>\n",
       "      <th>12</th>\n",
       "      <th>13</th>\n",
       "      <th>14</th>\n",
       "    </tr>\n",
       "  </thead>\n",
       "  <tbody>\n",
       "    <tr>\n",
       "      <th>0</th>\n",
       "      <td>world</td>\n",
       "      <td>canada</td>\n",
       "      <td>eat</td>\n",
       "      <td>times</td>\n",
       "      <td>video</td>\n",
       "      <td>way</td>\n",
       "      <td>facts</td>\n",
       "      <td>states</td>\n",
       "      <td>modi</td>\n",
       "      <td>like</td>\n",
       "      <td>prepare</td>\n",
       "      <td>interview</td>\n",
       "      <td>college</td>\n",
       "      <td>people</td>\n",
       "      <td>find</td>\n",
       "    </tr>\n",
       "    <tr>\n",
       "      <th>1</th>\n",
       "      <td>good</td>\n",
       "      <td>engineer</td>\n",
       "      <td>purpose</td>\n",
       "      <td>important</td>\n",
       "      <td>card</td>\n",
       "      <td>tv</td>\n",
       "      <td>code</td>\n",
       "      <td>english</td>\n",
       "      <td>think</td>\n",
       "      <td>state</td>\n",
       "      <td>business</td>\n",
       "      <td>tell</td>\n",
       "      <td>energy</td>\n",
       "      <td>improve</td>\n",
       "      <td>password</td>\n",
       "    </tr>\n",
       "    <tr>\n",
       "      <th>2</th>\n",
       "      <td>hillary</td>\n",
       "      <td>like</td>\n",
       "      <td>time</td>\n",
       "      <td>test</td>\n",
       "      <td>today</td>\n",
       "      <td>10</td>\n",
       "      <td>bank</td>\n",
       "      <td>favorite</td>\n",
       "      <td>governmen</td>\n",
       "      <td>looking</td>\n",
       "      <td>programmi</td>\n",
       "      <td>tips</td>\n",
       "      <td>average</td>\n",
       "      <td>google</td>\n",
       "      <td>instagram</td>\n",
       "    </tr>\n",
       "    <tr>\n",
       "      <th>3</th>\n",
       "      <td>win</td>\n",
       "      <td>company</td>\n",
       "      <td>food</td>\n",
       "      <td>india</td>\n",
       "      <td>happen</td>\n",
       "      <td>laptop</td>\n",
       "      <td>market</td>\n",
       "      <td>believe</td>\n",
       "      <td>rs</td>\n",
       "      <td>big</td>\n",
       "      <td>language</td>\n",
       "      <td>process</td>\n",
       "      <td>going</td>\n",
       "      <td>ask</td>\n",
       "      <td>people</td>\n",
       "    </tr>\n",
       "    <tr>\n",
       "      <th>4</th>\n",
       "      <td>president</td>\n",
       "      <td>software</td>\n",
       "      <td>culture</td>\n",
       "      <td>days</td>\n",
       "      <td>age</td>\n",
       "      <td>windows</td>\n",
       "      <td>write</td>\n",
       "      <td>possible</td>\n",
       "      <td>people</td>\n",
       "      <td>differenc</td>\n",
       "      <td>free</td>\n",
       "      <td>good</td>\n",
       "      <td>day</td>\n",
       "      <td>question</td>\n",
       "      <td>phone</td>\n",
       "    </tr>\n",
       "    <tr>\n",
       "      <th>5</th>\n",
       "      <td>clinton</td>\n",
       "      <td>country</td>\n",
       "      <td>like</td>\n",
       "      <td>relations</td>\n",
       "      <td>5</td>\n",
       "      <td>india</td>\n",
       "      <td>interesti</td>\n",
       "      <td>travel</td>\n",
       "      <td>india</td>\n",
       "      <td>men</td>\n",
       "      <td>india</td>\n",
       "      <td>social</td>\n",
       "      <td>engineeri</td>\n",
       "      <td>lose</td>\n",
       "      <td>account</td>\n",
       "    </tr>\n",
       "    <tr>\n",
       "      <th>6</th>\n",
       "      <td>india</td>\n",
       "      <td>china</td>\n",
       "      <td>thing</td>\n",
       "      <td>3</td>\n",
       "      <td>youtube</td>\n",
       "      <td>read</td>\n",
       "      <td>history</td>\n",
       "      <td>earth</td>\n",
       "      <td>1000</td>\n",
       "      <td>earn</td>\n",
       "      <td>start</td>\n",
       "      <td>water</td>\n",
       "      <td>new</td>\n",
       "      <td>weight</td>\n",
       "      <td>black</td>\n",
       "    </tr>\n",
       "    <tr>\n",
       "      <th>7</th>\n",
       "      <td>war</td>\n",
       "      <td>india</td>\n",
       "      <td>think</td>\n",
       "      <td>system</td>\n",
       "      <td>increase</td>\n",
       "      <td>best</td>\n",
       "      <td>2016</td>\n",
       "      <td>people</td>\n",
       "      <td>500</td>\n",
       "      <td>women</td>\n",
       "      <td>learn</td>\n",
       "      <td>examples</td>\n",
       "      <td>year</td>\n",
       "      <td>world</td>\n",
       "      <td>number</td>\n",
       "    </tr>\n",
       "    <tr>\n",
       "      <th>8</th>\n",
       "      <td>donald</td>\n",
       "      <td>job</td>\n",
       "      <td>mean</td>\n",
       "      <td>2</td>\n",
       "      <td>person</td>\n",
       "      <td>school</td>\n",
       "      <td>ways</td>\n",
       "      <td>stop</td>\n",
       "      <td>indian</td>\n",
       "      <td>online</td>\n",
       "      <td>way</td>\n",
       "      <td>work</td>\n",
       "      <td>things</td>\n",
       "      <td>questions</td>\n",
       "      <td>like</td>\n",
       "    </tr>\n",
       "    <tr>\n",
       "      <th>9</th>\n",
       "      <td>trump</td>\n",
       "      <td>better</td>\n",
       "      <td>life</td>\n",
       "      <td>sex</td>\n",
       "      <td>years</td>\n",
       "      <td>buy</td>\n",
       "      <td>study</td>\n",
       "      <td>time</td>\n",
       "      <td>notes</td>\n",
       "      <td>money</td>\n",
       "      <td>best</td>\n",
       "      <td>love</td>\n",
       "      <td>know</td>\n",
       "      <td>quora</td>\n",
       "      <td>facebook</td>\n",
       "    </tr>\n",
       "  </tbody>\n",
       "</table>\n",
       "</div>"
      ],
      "text/plain": [
       "           0         1        2          3         4        5          6  \\\n",
       "0      world    canada      eat      times     video      way      facts   \n",
       "1       good  engineer  purpose  important      card       tv       code   \n",
       "2    hillary      like     time       test     today       10       bank   \n",
       "3        win   company     food      india    happen   laptop     market   \n",
       "4  president  software  culture       days       age  windows      write   \n",
       "5    clinton   country     like  relations         5    india  interesti   \n",
       "6      india     china    thing          3   youtube     read    history   \n",
       "7        war     india    think     system  increase     best       2016   \n",
       "8     donald       job     mean          2    person   school       ways   \n",
       "9      trump    better     life        sex     years      buy      study   \n",
       "\n",
       "          7          8          9         10         11         12         13  \\\n",
       "0    states       modi       like    prepare  interview    college     people   \n",
       "1   english      think      state   business       tell     energy    improve   \n",
       "2  favorite  governmen    looking  programmi       tips    average     google   \n",
       "3   believe         rs        big   language    process      going        ask   \n",
       "4  possible     people  differenc       free       good        day   question   \n",
       "5    travel      india        men      india     social  engineeri       lose   \n",
       "6     earth       1000       earn      start      water        new     weight   \n",
       "7    people        500      women      learn   examples       year      world   \n",
       "8      stop     indian     online        way       work     things  questions   \n",
       "9      time      notes      money       best       love       know      quora   \n",
       "\n",
       "          14  \n",
       "0       find  \n",
       "1   password  \n",
       "2  instagram  \n",
       "3     people  \n",
       "4      phone  \n",
       "5    account  \n",
       "6      black  \n",
       "7     number  \n",
       "8       like  \n",
       "9   facebook  "
      ]
     },
     "execution_count": 19,
     "metadata": {},
     "output_type": "execute_result"
    }
   ],
   "source": [
    "# Most common words in each topic\n",
    "words = count_vectorizor.get_feature_names()\n",
    "num_words = 10\n",
    "\n",
    "def get_top_words(array):\n",
    "    return lmap(lambda n : words[n], array.argsort()[-num_words:])\n",
    "\n",
    "top_words = pd.DataFrame(np.apply_along_axis(get_top_words, 1, model.components_).T)\n",
    "top_words"
   ]
  },
  {
   "cell_type": "code",
   "execution_count": 20,
   "metadata": {},
   "outputs": [
    {
     "name": "stdout",
     "output_type": "stream",
     "text": [
      "Loading grid-lda-viz from disk\n",
      "562.804 seconds elapsed in original job\n"
     ]
    },
    {
     "data": {
      "text/html": [
       "\n",
       "<link rel=\"stylesheet\" type=\"text/css\" href=\"https://cdn.rawgit.com/bmabey/pyLDAvis/files/ldavis.v1.0.0.css\">\n",
       "\n",
       "\n",
       "<div id=\"ldavis_el7362247028399366390278271\"></div>\n",
       "<script type=\"text/javascript\">\n",
       "\n",
       "var ldavis_el7362247028399366390278271_data = {\"mdsDat\": {\"x\": [114.34487915039062, 105.821044921875, -138.33447265625, -7.436697483062744, -207.55062866210938, 52.817649841308594, 168.01084899902344, -94.16960144042969, -122.84917449951172, -94.8942642211914, 24.927400588989258, -53.41346740722656, -12.255849838256836, -224.21795654296875, 36.15425491333008], \"y\": [114.30829620361328, -93.74962615966797, 95.32076263427734, 111.25969696044922, -105.47260284423828, 14.603764533996582, 6.806949615478516, -157.78955078125, -39.059417724609375, 195.40829467773438, -180.46487426757812, 26.832107543945312, -72.09320068359375, 28.070581436157227, 209.42758178710938], \"topics\": [1, 2, 3, 4, 5, 6, 7, 8, 9, 10, 11, 12, 13, 14, 15], \"cluster\": [1, 1, 1, 1, 1, 1, 1, 1, 1, 1, 1, 1, 1, 1, 1], \"Freq\": [9.9213659012444, 7.058639219557068, 6.942744158856925, 6.841691922366391, 6.755951947842095, 6.520408838535867, 6.376632918434019, 6.367247509344858, 6.352883595454297, 6.321041155534397, 6.207761104152799, 6.150585040046765, 6.125558525914985, 6.086476894741641, 5.971011267973482]}, \"tinfo\": {\"Category\": [\"Default\", \"Default\", \"Default\", \"Default\", \"Default\", \"Default\", \"Default\", \"Default\", \"Default\", \"Default\", \"Default\", \"Default\", \"Default\", \"Default\", \"Default\", \"Default\", \"Default\", \"Default\", \"Default\", \"Default\", \"Default\", \"Default\", \"Default\", \"Default\", \"Default\", \"Default\", \"Default\", \"Default\", \"Default\", \"Default\", \"Topic1\", \"Topic1\", \"Topic1\", \"Topic1\", \"Topic1\", \"Topic1\", \"Topic1\", \"Topic1\", \"Topic1\", \"Topic1\", \"Topic1\", \"Topic1\", \"Topic1\", \"Topic1\", \"Topic1\", \"Topic1\", \"Topic1\", \"Topic1\", \"Topic1\", \"Topic1\", \"Topic1\", \"Topic1\", \"Topic1\", \"Topic1\", \"Topic1\", \"Topic1\", \"Topic1\", \"Topic1\", \"Topic1\", \"Topic1\", \"Topic1\", \"Topic1\", \"Topic1\", \"Topic1\", \"Topic1\", \"Topic1\", \"Topic1\", \"Topic1\", \"Topic1\", \"Topic1\", \"Topic1\", \"Topic1\", \"Topic1\", \"Topic1\", \"Topic1\", \"Topic1\", \"Topic1\", \"Topic1\", \"Topic1\", \"Topic1\", \"Topic1\", \"Topic1\", \"Topic1\", \"Topic1\", \"Topic2\", \"Topic2\", \"Topic2\", \"Topic2\", \"Topic2\", \"Topic2\", \"Topic2\", \"Topic2\", \"Topic2\", \"Topic2\", \"Topic2\", \"Topic2\", \"Topic2\", \"Topic2\", \"Topic2\", \"Topic2\", \"Topic2\", \"Topic2\", \"Topic2\", \"Topic2\", \"Topic2\", \"Topic2\", \"Topic2\", \"Topic2\", \"Topic2\", \"Topic2\", \"Topic2\", \"Topic2\", \"Topic2\", \"Topic2\", \"Topic2\", \"Topic2\", \"Topic2\", \"Topic2\", \"Topic2\", \"Topic2\", \"Topic2\", \"Topic2\", \"Topic2\", \"Topic2\", \"Topic2\", \"Topic2\", \"Topic2\", \"Topic2\", \"Topic2\", \"Topic2\", \"Topic2\", \"Topic2\", \"Topic2\", \"Topic2\", \"Topic2\", \"Topic2\", \"Topic2\", \"Topic2\", \"Topic2\", \"Topic3\", \"Topic3\", \"Topic3\", \"Topic3\", \"Topic3\", \"Topic3\", \"Topic3\", \"Topic3\", \"Topic3\", \"Topic3\", \"Topic3\", \"Topic3\", \"Topic3\", \"Topic3\", \"Topic3\", \"Topic3\", \"Topic3\", \"Topic3\", \"Topic3\", \"Topic3\", \"Topic3\", \"Topic3\", \"Topic3\", \"Topic3\", \"Topic3\", \"Topic3\", \"Topic3\", \"Topic3\", \"Topic3\", \"Topic3\", \"Topic3\", \"Topic3\", \"Topic3\", \"Topic3\", \"Topic3\", \"Topic3\", \"Topic3\", \"Topic3\", \"Topic3\", \"Topic3\", \"Topic3\", \"Topic3\", \"Topic3\", \"Topic3\", \"Topic3\", \"Topic3\", \"Topic3\", \"Topic3\", \"Topic3\", \"Topic3\", \"Topic3\", \"Topic3\", \"Topic3\", \"Topic3\", \"Topic3\", \"Topic3\", \"Topic3\", \"Topic3\", \"Topic3\", \"Topic4\", \"Topic4\", \"Topic4\", \"Topic4\", \"Topic4\", \"Topic4\", \"Topic4\", \"Topic4\", \"Topic4\", \"Topic4\", \"Topic4\", \"Topic4\", \"Topic4\", \"Topic4\", \"Topic4\", \"Topic4\", \"Topic4\", \"Topic4\", \"Topic4\", \"Topic4\", \"Topic4\", \"Topic4\", \"Topic4\", \"Topic4\", \"Topic4\", \"Topic4\", \"Topic4\", \"Topic4\", \"Topic4\", \"Topic4\", \"Topic4\", \"Topic4\", \"Topic4\", \"Topic4\", \"Topic4\", \"Topic4\", \"Topic4\", \"Topic4\", \"Topic4\", \"Topic4\", \"Topic4\", \"Topic4\", \"Topic4\", \"Topic4\", \"Topic4\", \"Topic4\", \"Topic4\", \"Topic4\", \"Topic4\", \"Topic4\", \"Topic4\", \"Topic4\", \"Topic4\", \"Topic4\", \"Topic4\", \"Topic4\", \"Topic4\", \"Topic5\", \"Topic5\", \"Topic5\", \"Topic5\", \"Topic5\", \"Topic5\", \"Topic5\", \"Topic5\", \"Topic5\", \"Topic5\", \"Topic5\", \"Topic5\", \"Topic5\", \"Topic5\", \"Topic5\", \"Topic5\", \"Topic5\", \"Topic5\", \"Topic5\", \"Topic5\", \"Topic5\", \"Topic5\", \"Topic5\", \"Topic5\", \"Topic5\", \"Topic5\", \"Topic5\", \"Topic5\", \"Topic5\", \"Topic5\", \"Topic5\", \"Topic5\", \"Topic5\", \"Topic5\", \"Topic5\", \"Topic5\", \"Topic5\", \"Topic5\", \"Topic5\", \"Topic5\", \"Topic5\", \"Topic5\", \"Topic5\", \"Topic5\", \"Topic5\", \"Topic5\", \"Topic5\", \"Topic5\", \"Topic5\", \"Topic5\", \"Topic5\", \"Topic5\", \"Topic5\", \"Topic5\", \"Topic5\", \"Topic5\", \"Topic5\", \"Topic5\", \"Topic5\", \"Topic5\", \"Topic5\", \"Topic5\", \"Topic5\", \"Topic6\", \"Topic6\", \"Topic6\", \"Topic6\", \"Topic6\", \"Topic6\", \"Topic6\", \"Topic6\", \"Topic6\", \"Topic6\", \"Topic6\", \"Topic6\", \"Topic6\", \"Topic6\", \"Topic6\", \"Topic6\", \"Topic6\", \"Topic6\", \"Topic6\", \"Topic6\", \"Topic6\", \"Topic6\", \"Topic6\", \"Topic6\", \"Topic6\", \"Topic6\", \"Topic6\", \"Topic6\", \"Topic6\", \"Topic6\", \"Topic6\", \"Topic6\", \"Topic6\", \"Topic6\", \"Topic6\", \"Topic6\", \"Topic6\", \"Topic6\", \"Topic6\", \"Topic6\", \"Topic6\", \"Topic6\", \"Topic6\", \"Topic6\", \"Topic6\", \"Topic6\", \"Topic6\", \"Topic6\", \"Topic6\", \"Topic6\", \"Topic6\", \"Topic6\", \"Topic6\", \"Topic6\", \"Topic6\", \"Topic6\", \"Topic6\", \"Topic6\", \"Topic6\", \"Topic6\", \"Topic6\", \"Topic7\", \"Topic7\", \"Topic7\", \"Topic7\", \"Topic7\", \"Topic7\", \"Topic7\", \"Topic7\", \"Topic7\", \"Topic7\", \"Topic7\", \"Topic7\", \"Topic7\", \"Topic7\", \"Topic7\", \"Topic7\", \"Topic7\", \"Topic7\", \"Topic7\", \"Topic7\", \"Topic7\", \"Topic7\", \"Topic7\", \"Topic7\", \"Topic7\", \"Topic7\", \"Topic7\", \"Topic7\", \"Topic7\", \"Topic7\", \"Topic7\", \"Topic7\", \"Topic7\", \"Topic7\", \"Topic7\", \"Topic7\", \"Topic7\", \"Topic7\", \"Topic7\", \"Topic7\", \"Topic7\", \"Topic7\", \"Topic8\", \"Topic8\", \"Topic8\", \"Topic8\", \"Topic8\", \"Topic8\", \"Topic8\", \"Topic8\", \"Topic8\", \"Topic8\", \"Topic8\", \"Topic8\", \"Topic8\", \"Topic8\", \"Topic8\", \"Topic8\", \"Topic8\", \"Topic8\", \"Topic8\", \"Topic8\", \"Topic8\", \"Topic8\", \"Topic8\", \"Topic8\", \"Topic8\", \"Topic8\", \"Topic8\", \"Topic8\", \"Topic8\", \"Topic8\", \"Topic8\", \"Topic8\", \"Topic8\", \"Topic8\", \"Topic8\", \"Topic8\", \"Topic8\", \"Topic8\", \"Topic8\", \"Topic8\", \"Topic8\", \"Topic8\", \"Topic8\", \"Topic8\", \"Topic8\", \"Topic8\", \"Topic8\", \"Topic8\", \"Topic8\", \"Topic8\", \"Topic8\", \"Topic8\", \"Topic8\", \"Topic8\", \"Topic8\", \"Topic8\", \"Topic8\", \"Topic8\", \"Topic8\", \"Topic8\", \"Topic8\", \"Topic8\", \"Topic8\", \"Topic8\", \"Topic8\", \"Topic9\", \"Topic9\", \"Topic9\", \"Topic9\", \"Topic9\", \"Topic9\", \"Topic9\", \"Topic9\", \"Topic9\", \"Topic9\", \"Topic9\", \"Topic9\", \"Topic9\", \"Topic9\", \"Topic9\", \"Topic9\", \"Topic9\", \"Topic9\", \"Topic9\", \"Topic9\", \"Topic9\", \"Topic9\", \"Topic9\", \"Topic9\", \"Topic9\", \"Topic9\", \"Topic9\", \"Topic9\", \"Topic9\", \"Topic9\", \"Topic9\", \"Topic9\", \"Topic9\", \"Topic9\", \"Topic9\", \"Topic9\", \"Topic9\", \"Topic9\", \"Topic9\", \"Topic9\", \"Topic9\", \"Topic9\", \"Topic9\", \"Topic9\", \"Topic9\", \"Topic9\", \"Topic9\", \"Topic9\", \"Topic9\", \"Topic9\", \"Topic9\", \"Topic9\", \"Topic9\", \"Topic9\", \"Topic9\", \"Topic9\", \"Topic10\", \"Topic10\", \"Topic10\", \"Topic10\", \"Topic10\", \"Topic10\", \"Topic10\", \"Topic10\", \"Topic10\", \"Topic10\", \"Topic10\", \"Topic10\", \"Topic10\", \"Topic10\", \"Topic10\", \"Topic10\", \"Topic10\", \"Topic10\", \"Topic10\", \"Topic10\", \"Topic10\", \"Topic10\", \"Topic10\", \"Topic10\", \"Topic10\", \"Topic10\", \"Topic10\", \"Topic10\", \"Topic10\", \"Topic10\", \"Topic10\", \"Topic10\", \"Topic10\", \"Topic10\", \"Topic10\", \"Topic10\", \"Topic10\", \"Topic10\", \"Topic10\", \"Topic10\", \"Topic10\", \"Topic10\", \"Topic10\", \"Topic10\", \"Topic11\", \"Topic11\", \"Topic11\", \"Topic11\", \"Topic11\", \"Topic11\", \"Topic11\", \"Topic11\", \"Topic11\", \"Topic11\", \"Topic11\", \"Topic11\", \"Topic11\", \"Topic11\", \"Topic11\", \"Topic11\", \"Topic11\", \"Topic11\", \"Topic11\", \"Topic11\", \"Topic11\", \"Topic11\", \"Topic11\", \"Topic11\", \"Topic11\", \"Topic11\", \"Topic11\", \"Topic11\", \"Topic11\", \"Topic11\", \"Topic11\", \"Topic11\", \"Topic11\", \"Topic11\", \"Topic11\", \"Topic11\", \"Topic11\", \"Topic11\", \"Topic11\", \"Topic11\", \"Topic11\", \"Topic11\", \"Topic11\", \"Topic11\", \"Topic11\", \"Topic11\", \"Topic11\", \"Topic11\", \"Topic11\", \"Topic11\", \"Topic11\", \"Topic11\", \"Topic12\", \"Topic12\", \"Topic12\", \"Topic12\", \"Topic12\", \"Topic12\", \"Topic12\", \"Topic12\", \"Topic12\", \"Topic12\", \"Topic12\", \"Topic12\", \"Topic12\", \"Topic12\", \"Topic12\", \"Topic12\", \"Topic12\", \"Topic12\", \"Topic12\", \"Topic12\", \"Topic12\", \"Topic12\", \"Topic12\", \"Topic12\", \"Topic12\", \"Topic12\", \"Topic12\", \"Topic12\", \"Topic12\", \"Topic12\", \"Topic12\", \"Topic12\", \"Topic12\", \"Topic12\", \"Topic12\", \"Topic12\", \"Topic12\", \"Topic12\", \"Topic12\", \"Topic12\", \"Topic12\", \"Topic12\", \"Topic12\", \"Topic12\", \"Topic12\", \"Topic12\", \"Topic13\", \"Topic13\", \"Topic13\", \"Topic13\", \"Topic13\", \"Topic13\", \"Topic13\", \"Topic13\", \"Topic13\", \"Topic13\", \"Topic13\", \"Topic13\", \"Topic13\", \"Topic13\", \"Topic13\", \"Topic13\", \"Topic13\", \"Topic13\", \"Topic13\", \"Topic13\", \"Topic13\", \"Topic13\", \"Topic13\", \"Topic13\", \"Topic13\", \"Topic13\", \"Topic13\", \"Topic13\", \"Topic13\", \"Topic13\", \"Topic13\", \"Topic13\", \"Topic13\", \"Topic13\", \"Topic13\", \"Topic13\", \"Topic13\", \"Topic13\", \"Topic13\", \"Topic13\", \"Topic13\", \"Topic13\", \"Topic13\", \"Topic13\", \"Topic13\", \"Topic13\", \"Topic13\", \"Topic13\", \"Topic13\", \"Topic13\", \"Topic13\", \"Topic13\", \"Topic13\", \"Topic13\", \"Topic13\", \"Topic14\", \"Topic14\", \"Topic14\", \"Topic14\", \"Topic14\", \"Topic14\", \"Topic14\", \"Topic14\", \"Topic14\", \"Topic14\", \"Topic14\", \"Topic14\", \"Topic14\", \"Topic14\", \"Topic14\", \"Topic14\", \"Topic14\", \"Topic14\", \"Topic14\", \"Topic14\", \"Topic14\", \"Topic14\", \"Topic14\", \"Topic14\", \"Topic14\", \"Topic14\", \"Topic14\", \"Topic14\", \"Topic14\", \"Topic14\", \"Topic14\", \"Topic14\", \"Topic14\", \"Topic14\", \"Topic14\", \"Topic14\", \"Topic14\", \"Topic14\", \"Topic14\", \"Topic14\", \"Topic14\", \"Topic14\", \"Topic14\", \"Topic14\", \"Topic14\", \"Topic14\", \"Topic14\", \"Topic14\", \"Topic14\", \"Topic14\", \"Topic14\", \"Topic14\", \"Topic14\", \"Topic14\", \"Topic14\", \"Topic14\", \"Topic14\", \"Topic14\", \"Topic14\", \"Topic14\", \"Topic14\", \"Topic14\", \"Topic14\", \"Topic15\", \"Topic15\", \"Topic15\", \"Topic15\", \"Topic15\", \"Topic15\", \"Topic15\", \"Topic15\", \"Topic15\", \"Topic15\", \"Topic15\", \"Topic15\", \"Topic15\", \"Topic15\", \"Topic15\", \"Topic15\", \"Topic15\", \"Topic15\", \"Topic15\", \"Topic15\", \"Topic15\", \"Topic15\", \"Topic15\", \"Topic15\", \"Topic15\", \"Topic15\", \"Topic15\", \"Topic15\", \"Topic15\", \"Topic15\", \"Topic15\", \"Topic15\", \"Topic15\", \"Topic15\", \"Topic15\", \"Topic15\", \"Topic15\", \"Topic15\", \"Topic15\", \"Topic15\", \"Topic15\", \"Topic15\", \"Topic15\", \"Topic15\", \"Topic15\", \"Topic15\", \"Topic15\", \"Topic15\", \"Topic15\", \"Topic15\", \"Topic15\", \"Topic15\", \"Topic15\", \"Topic15\", \"Topic15\", \"Topic15\", \"Topic15\", \"Topic15\", \"Topic15\", \"Topic15\", \"Topic15\"], \"Freq\": [3111.0, 776.0, 687.0, 670.0, 507.0, 803.0, 636.0, 562.0, 459.0, 522.0, 359.0, 556.0, 359.0, 357.0, 1228.0, 706.0, 576.0, 325.0, 465.0, 298.0, 317.0, 306.0, 287.0, 460.0, 438.0, 427.0, 283.0, 294.0, 281.0, 300.0, 458.82025223805044, 231.13864841233587, 200.77713668865573, 202.53995811745745, 194.50471785090343, 118.33963343063049, 111.17115472544538, 78.91300129140382, 88.58156338315919, 212.50804497988338, 57.40756560775852, 49.34302716038473, 43.07049232533942, 42.174548601781616, 40.3824290892551, 36.7981896120809, 35.006070157520504, 34.11001016208698, 32.313219451174476, 30.525770694204542, 29.629711277246678, 27.83638437008381, 26.045471900690202, 25.149412057492786, 539.1659323537576, 19.77305310304475, 19.77305273908448, 233.7570077695844, 17.98093325833578, 16.18881383989737, 2862.984180990139, 227.26978073566283, 112.29436250844158, 96.75667069046405, 180.11187403391804, 233.42518381231088, 656.5276048953218, 91.98597451579133, 83.90120840479044, 105.93632177530513, 163.16171914598948, 80.13379548458181, 168.071225880563, 113.03396431262756, 142.5677004355805, 140.11852087326588, 151.12577772466076, 92.68808145489861, 255.31460690750916, 206.2993332727977, 141.19579515060977, 117.59301980804398, 99.25299869956471, 104.98746019671675, 506.763484173845, 305.40677083544887, 223.16247943891028, 220.30620560882676, 209.92776573995064, 203.3104091068068, 114.42924356993171, 106.88606735359082, 104.99539412890043, 94.59669055283462, 70.01793681381542, 50.16586645903076, 90.09861568086984, 48.275193103364266, 44.49384646913347, 40.71249965955222, 39.76716303124865, 34.09514296972409, 31.259132911612824, 29.36829667011596, 28.42312278412811, 28.400794649349386, 27.477785820379815, 26.5324494347503, 41.10991098605758, 22.75110274624714, 19.915092664136203, 19.91509259598504, 18.969755937665866, 18.96975592997989, 87.35052367389744, 255.26972458835255, 35.942278246190234, 34.55652986281347, 43.02740987141464, 74.48664722285697, 101.27160964112898, 132.21115679002446, 75.0034818955259, 68.75412777343892, 59.998447271737575, 111.2465779174685, 105.07055719529997, 55.649218381815345, 174.41530380385893, 127.24140318507251, 245.01926885019387, 56.123884057225034, 181.085747779974, 88.51960348026829, 109.36659755076523, 70.42979839265217, 80.47981589749688, 113.26020141837839, 77.12343069345084, 244.49054800313553, 153.66465541563718, 132.12288115809417, 131.1862823575695, 117.13031805444803, 105.5982645078356, 290.8085598823396, 60.00476731733657, 65.36528392411533, 47.82898240130427, 46.89238357299126, 39.39959260543382, 39.399592573752244, 38.4629937435255, 35.653197178151935, 34.71659801380265, 32.843400322560356, 88.96023900416803, 27.22380717106611, 97.02617186457324, 23.477411554744055, 22.50204718462516, 19.73101599979363, 19.65373490898476, 16.92121945034782, 16.921218849831796, 15.98462055992526, 15.984620407614274, 15.976273725362796, 15.048021819761999, 38.70699338098549, 98.25077807930941, 71.02291171006291, 68.69062376894601, 178.105628106734, 36.356618562816465, 36.188649167110995, 42.13335831068885, 233.97481899739356, 130.1084239907842, 103.00084845500338, 246.27579600221713, 235.1512117351992, 117.09034813372973, 66.34540357811143, 87.55394442325279, 81.48839192198406, 81.14087398104456, 53.73419208211938, 128.78106619672533, 47.08022600204859, 269.3929119641871, 92.90890861028387, 145.49499043877327, 140.0394973610718, 179.6234703537925, 93.96427592389517, 71.2075521138294, 69.65286181223142, 358.49480761679933, 356.1760791212539, 161.15442068952856, 93.48574186432401, 85.8585329074161, 75.37327664651103, 110.72072892326254, 55.35423607715711, 62.68020724532401, 38.19505838336015, 38.19505830740342, 35.335195396622574, 34.38190743375968, 29.61545327050081, 28.66218161430307, 26.755606652346287, 25.80231900214041, 25.802318655968598, 647.8748050936779, 22.942455873519584, 21.98916834028378, 20.082593117928525, 19.12930525366753, 18.176017688154346, 18.17601747060464, 18.163366548539113, 26.290894160936023, 18.118994462788002, 16.26944238854202, 21.6688544060564, 47.18025752017095, 44.392605729679104, 165.38926326318997, 68.38633601450734, 86.67332703624585, 98.01067359217144, 25.78337048233374, 189.3512217933872, 45.65664721222344, 101.32051509697807, 103.45301257063127, 127.9853537481748, 76.3586283033556, 350.9663003754161, 236.4312284297878, 114.59637072753468, 153.4504975385399, 199.86410104487655, 69.63993410958706, 139.69124269153002, 103.9311392348489, 49.42799774125018, 112.39739597973481, 94.73050195090512, 84.29921884002272, 74.7555922935298, 73.44714430177025, 358.4618459375173, 126.32820154178123, 124.23678889307543, 94.76862116066074, 85.48364827055822, 82.69815650328762, 43.70127138987241, 42.77277394309652, 39.98728211455696, 37.20179034050566, 33.48780137818877, 43.330838281717995, 29.77381238309742, 26.05982296151589, 24.202828597620634, 24.202827755294365, 19.560342194245372, 27.49003600063659, 18.631845012034546, 16.77485055287289, 16.774850498190546, 15.846353306942238, 15.84635314898573, 15.846353076762465, 15.846353063672543, 15.829055351618965, 14.917855963929258, 14.917855946180275, 14.917855879875525, 13.989358602154919, 212.61648485764886, 170.90017904997623, 63.54093777150691, 78.56957156264926, 65.11547042590632, 79.7264930635248, 58.59015135474791, 130.7313037192171, 27.974719157293215, 37.17248481448686, 337.42174577377153, 107.88989177666102, 119.49381649390878, 53.06220057941634, 93.1635831133673, 103.89577514723054, 116.07407937271431, 78.05615952142279, 75.42679323267062, 61.57651832115911, 102.59076253592298, 56.36801568783744, 90.0890327949674, 54.36766825473475, 59.780325192297916, 96.2079088054582, 127.19228599948433, 88.02290560228839, 61.923880689095654, 84.89346874848954, 90.76763930214136, 68.96927517512101, 63.083519203501574, 118.00584908852231, 170.22750281195547, 50.474290896485186, 48.57199291220887, 104.2396981751008, 40.01165519357068, 38.10935781877436, 32.402465557547266, 33.2955691245218, 26.69557326799598, 22.89097863812237, 21.900086590033187, 20.03753227620401, 19.08638377763996, 18.134841721365383, 18.11828346255829, 18.094452197756166, 15.28178903670033, 15.281789008202812, 15.281788842645117, 74.5963704553101, 14.330640392794805, 14.330640314787146, 14.330640308891509, 13.379491588575299, 90.65161909398024, 35.53896088092232, 12.428343028347287, 12.428342883179322, 11.477194354345096, 35.96333315433619, 55.92440953944987, 62.6997786163881, 40.5829984821295, 305.7306376966098, 134.38850564848826, 47.42364312015475, 28.868280516597515, 26.36000682935338, 88.68678111972997, 129.95687677453205, 206.26404433462818, 47.9045273629459, 136.62572542136806, 44.23241554950032, 46.99342893715815, 85.15202220647106, 54.44738767964167, 54.43532696779756, 63.54879896408656, 179.31769189702507, 95.84686640367715, 59.458344401829685, 62.51210244504998, 125.727389722806, 92.9568310803729, 86.49285691134303, 52.20612556423357, 60.45228621874146, 61.038382308425454, 60.557562446386555, 144.43542954926886, 96.62273515267769, 93.76192251650102, 188.38670011277782, 278.2652023088238, 280.9756716161073, 66.03490934993455, 90.4852339754446, 64.08523785865579, 58.386078299020696, 57.429974329985335, 52.64945480512369, 52.649454753150884, 76.0973096391081, 95.79747491523112, 62.82036247163211, 42.132311277265735, 41.176207873393444, 41.176207758134844, 41.176207734598115, 81.40515266324391, 84.97547798748187, 34.48348059492835, 32.571272577986235, 31.60747212066698, 25.87854528513072, 128.43732934320093, 23.966337712431756, 23.010233765462683, 23.010233665042954, 301.8645211499049, 169.36260675397307, 83.0067558252102, 64.58720012720492, 290.61259027231637, 118.89549671552622, 60.83033333301807, 261.3741830821326, 271.76664926508505, 155.06620285577804, 126.12610364725731, 84.83184820648019, 261.6645685003192, 114.45480763859663, 106.95367321355803, 74.13621058431924, 54.445732984483804, 39.44346391255741, 27.254121056553608, 26.31526682354778, 26.226826210901063, 22.565912258692226, 22.565912239420815, 20.690628733714487, 658.1465393451749, 18.81534394564572, 17.87770313642857, 14.12713581027235, 13.189494316304884, 13.189494310950383, 13.189494144444707, 37.72465317631206, 17.53844771669701, 12.251852591699228, 12.251852535101108, 12.251852520093697, 12.251852486519855, 12.25185234607893, 12.251802906486077, 12.231701664614064, 25.255653154339754, 11.314210831607399, 94.6399120635134, 48.65208394029375, 111.42514121121629, 22.15951312394555, 321.0614104584578, 35.731688954027334, 33.381732965435965, 22.565913105235545, 36.68651219060276, 60.8684533360409, 24.764596922702967, 84.90239743629105, 106.27453436184389, 85.67500982519446, 70.90355079419024, 290.8651499259153, 36.124353726655585, 38.20571972628497, 32.37902049661066, 105.38296088470808, 34.880125532757376, 42.386259139105135, 42.870352615579726, 41.8628840631797, 56.52454294348207, 150.88285517024835, 108.70666078616121, 69.70928242820689, 74.32866309608974, 64.64729630942027, 86.1873231471807, 50.623971222395845, 50.754917517410874, 45.592960425635866, 42.01858941081761, 106.68012863222481, 93.23305385446724, 80.74648403566948, 80.74648309294324, 78.82547330017543, 77.864967961555, 119.55761024954744, 73.0624411255577, 74.9359929098246, 61.52784191339435, 56.73385012385776, 55.773344666877136, 53.85233406282146, 50.0103126069681, 47.12879621644895, 46.168290895286134, 45.20778557470111, 91.20218287054422, 33.681721222116735, 29.839699798547645, 28.879194451788575, 22.15565672174866, 21.195151362309442, 19.27414092347261, 19.27414089810333, 18.31363556652269, 18.31363545906351, 16.392624267418206, 15.432119273034637, 14.471613908736007, 274.16048110016885, 112.46598271776425, 86.70710395557786, 34.558988478396614, 30.5759925920688, 66.1368001587322, 42.881243244973476, 73.90914326245797, 66.9164870444572, 49.78685069186762, 118.61110681358781, 75.00376350179478, 129.66753313287472, 133.5019587633815, 110.20288526890057, 57.444651805406586, 123.0528243628, 85.89121460031535, 60.91424038752345, 72.33417965614022, 73.36079315140542, 86.13222872790513, 117.96847507313024, 90.58558583420646, 65.23715477682482, 64.7452217718786, 775.2379130591086, 324.4461443243391, 297.49158496740114, 248.22980401687644, 260.25524699118984, 212.91003654459965, 147.8473069205621, 170.69661332207025, 106.95073391231087, 102.30339643550835, 84.6435126121217, 80.92564242615296, 79.99617481283741, 67.91309661928365, 73.3748479144799, 64.19522596604679, 53.971082668115734, 43.74693978684984, 40.9585372721773, 40.029069685631455, 82.69678812970898, 36.311199509649754, 31.663861687183644, 27.94599126860598, 27.945991255984787, 27.016523800819975, 20.510250595229095, 19.580783228190807, 24.01748796321081, 17.720753584645408, 73.07868146005427, 48.9466849191149, 81.07068471996165, 65.5781736817551, 200.62598000208817, 84.85355162639672, 202.69361852750407, 318.43751300125973, 59.164656459056516, 57.81965052831014, 197.08209785464265, 59.87106404227343, 73.49078778922512, 84.3787829763214, 158.2300553246647, 126.02840101271494, 107.08626248736367, 105.19204791384743, 95.72097521996034, 75.8317224722023, 157.19391261939285, 65.41354234683644, 64.46643518613233, 60.67800560247352, 54.048255136839465, 48.36561136257065, 40.78875302730555, 36.053216604954464, 33.20796303261099, 32.264787741705234, 30.363628801354402, 26.582143521245282, 26.579861272544672, 23.740822189555402, 22.793714937727692, 20.899500317066774, 31.78479842800769, 19.952393247365148, 47.91517904269682, 18.058178578511395, 16.16396382092236, 22.442816049631485, 132.75006229648926, 15.216855503935106, 38.13209195004511, 23.162827023627834, 57.52874608406584, 76.26846535890287, 239.81140512298282, 43.602839160668914, 67.66835612532263, 99.39475619946435, 364.8190066043993, 97.9401363083969, 38.10426128533113, 84.568361181487, 68.11330606961032, 135.62646874328092, 230.7426274431793, 119.16006730297781, 61.453901359547324, 41.895816084270244, 65.12462032041176, 46.432664435653, 54.11505573483387, 54.17755375918375, 286.1806731169975, 186.6711866288348, 177.1015786983392, 148.39273906391458, 86.18816846213576, 77.57761231698854, 72.79283226727979, 57.48145651735879, 53.653612542101826, 143.81182972858298, 49.82576871399575, 45.99792483873473, 45.99792480689651, 45.99792476836687, 45.04096371553441, 45.03990994207248, 47.8201249317953, 42.17008089079685, 41.21311961297405, 41.15190397341812, 35.47135322964716, 31.64350975356632, 101.37500165047787, 30.658484443392386, 28.77262673455346, 28.77262671823354, 23.98782192984712, 23.030861051178675, 22.07390004650944, 20.14590353140182, 50.32724597171437, 107.3146063528214, 74.04931578046443, 74.50941569035129, 137.19912323179176, 35.09142911524404, 57.23100813382363, 74.74570778104446, 99.98082507029977, 160.75053899533046, 183.51269070168655, 64.88059936900005, 102.36133728215039, 51.82082082735406, 53.74285673950109, 53.32303261194497, 247.03237062461002, 195.38572596956118, 129.6519825937198, 202.2125014148266, 94.90700441483213, 111.64554486127227, 85.5164694137699, 68.48402762949262, 52.64959773889601, 51.71054445999352, 46.07622366650306, 45.1371702606713, 40.44190289821745, 37.62474230707634, 33.868528456641144, 31.990421532740505, 30.069946194853735, 28.234207354466243, 27.29515414572903, 25.417047346940578, 25.417046914094403, 24.47799385862282, 25.379862515767538, 22.599886596062284, 21.660827691893438, 28.825952727631204, 19.76552849082311, 17.904619339637534, 14.148405545601902, 13.209351727973155, 46.60950123801995, 72.6069477022778, 92.3824213984206, 52.08473698303745, 109.72701931526896, 449.0366457461218, 43.7145963661453, 55.55288375611371, 55.495482963360374, 40.23423809693432, 266.94044313140614, 68.33375400196671, 85.91945124815186, 74.14934641328938, 56.88456237345861, 45.0616476627092, 147.03011296385492, 60.136569886882945, 80.45392814954593, 105.44978061634765, 52.24835366126139, 52.446469407719555, 50.4495249699669, 62.33477235909627, 60.34157012029408, 150.9601543333757, 84.10728124886417, 39.2203520600874, 32.53506380564949, 28.71489871858257, 26.80481860729935, 25.84977734986026, 25.82810431377689, 24.89473620148724, 22.0296130255139, 21.074572063568837, 20.119531193559286, 20.119531102379145, 21.017277845234325, 18.20944925283053, 18.20944925283053, 17.25440788941548, 17.25440783946482, 17.254407826706544, 16.299367021321157, 15.344326025347101, 15.34432578086418, 14.389284898075598, 13.434243842788856, 12.479202882722149, 12.479202813935853, 11.524161781330205, 11.524161697776066, 11.524161636721422, 11.524161446777764, 12.40645081462701, 22.871371018931484, 174.17635439767022, 113.02572861040123, 191.9301990899736, 145.56513014726974, 65.68045526226834, 97.56319342673686, 54.82845940238678, 23.190039740052985, 80.1100312201687, 36.08104931011213, 80.7262995019941, 57.41307173559552, 87.51029587506207, 35.054991741832026, 88.89188646527205, 175.83092747460316, 82.12876351836663, 91.01744851309326, 97.28429534294764, 57.97851690138553, 46.89769136778208, 112.7811053314751, 46.07206469270883, 53.35034646608479, 67.93826559450304, 79.11443136903468, 78.01492029982495, 90.55805760711478, 60.55139471766794, 68.520944708914, 47.92804320722067, 191.19472466497876, 128.62713414245474, 118.1515972472276, 99.10512810126558, 79.1038561773114, 77.98681711601205, 61.96394166578331, 57.202895514113024, 38.156407692497154, 33.39480931334813, 33.39480910182381, 27.68086828893582, 26.728544920696297, 25.776221581040346, 22.91925117106638, 21.01460440660918, 21.01460409307784, 20.062280690909173, 31.672594104122147, 16.252986828868085, 16.252986764340584, 14.348339900483996, 14.34833946680453, 99.46417734663291, 13.396016638022692, 13.39601637759253, 13.396016221140043, 13.396015528615989, 19.636408660701285, 20.51393213280057, 131.19530056452854, 27.42380344620215, 27.3707618576112, 98.52426291011749, 120.60399118806225, 36.46996020555126, 54.94425184070399, 98.00629741693899, 45.251704924313266, 50.98307133773733, 105.99660711470385, 35.528768557286746, 52.486511759161836, 80.78796523863527, 163.5523122518269, 56.09711932222724, 59.84541226865405, 137.27202257634912, 43.333559475609995, 43.268673174870976, 54.076744100117836, 89.55897268493838, 95.8402436994689, 45.92822679085268, 83.83775451991816, 63.609580922060076, 98.12027246834693, 62.10059663135981, 75.70437768529013, 62.01597880412196, 55.117119504249224], \"Term\": [\"best\", \"quora\", \"life\", \"know\", \"trump\", \"way\", \"money\", \"learn\", \"start\", \"world\", \"love\", \"think\", \"things\", \"year\", \"people\", \"time\", \"new\", \"questions\", \"work\", \"weight\", \"notes\", \"donald\", \"buy\", \"online\", \"mean\", \"better\", \"500\", \"facebook\", \"1000\", \"sex\", \"start\", \"programming\", \"computer\", \"learning\", \"science\", \"places\", \"visit\", \"python\", \"preparation\", \"prepare\", \"c++\", \"kerala\", \"beginners\", \"upsc\", \"spotify\", \"preparing\", \"beginner\", \"trip\", \"goa\", \"marked\", \"algorithms\", \"received\", \"structures\", \"hacking\", \"learn\", \"editing\", \"laptops\", \"free\", \"meant\", \"sql\", \"best\", \"business\", \"c\", \"apps\", \"data\", \"language\", \"way\", \"websites\", \"development\", \"download\", \"app\", \"site\", \"books\", \"exam\", \"movies\", \"website\", \"book\", \"web\", \"india\", \"good\", \"online\", \"use\", \"android\", \"english\", \"trump\", \"donald\", \"clinton\", \"president\", \"win\", \"hillary\", \"america\", \"police\", \"election\", \"hotel\", \"obama\", \"elections\", \"score\", \"couples\", \"presidency\", \"moral\", \"unmarried\", \"wins\", \"harassment\", \"olympics\", \"hill\", \"competitive\", \"issue\", \"gifts\", \"kashmir\", \"invited\", \"barack\", \"visitor\", \"supreme\", \"supporters\", \"presidential\", \"war\", \"staff\", \"station\", \"buying\", \"credit\", \"jobs\", \"home\", \"foreign\", \"u.s.\", \"vote\", \"pakistan\", \"safe\", \"solve\", \"world\", \"2016\", \"india\", \"rate\", \"good\", \"real\", \"think\", \"usa\", \"happen\", \"people\", \"time\", \"black\", \"password\", \"friends\", \"whatsapp\", \"email\", \"gmail\", \"facebook\", \"blue\", \"message\", \"harry\", \"blocked\", \"forgot\", \"potter\", \"log\", \"hacker\", \"boys\", \"eyes\", \"hack\", \"messenger\", \"snapchat\", \"depressed\", \"nose\", \"tattoo\", \"lives\", \"watched\", \"printing\", \"holes\", \"\\u20b9500\", \"superman\", \"grey\", \"viewed\", \"family\", \"recover\", \"messages\", \"instagram\", \"sent\", \"acne\", \"intelligence\", \"phone\", \"girls\", \"girlfriend\", \"number\", \"account\", \"watch\", \"hate\", \"delete\", \"list\", \"white\", \"track\", \"movie\", \"accounts\", \"like\", \"mobile\", \"find\", \"money\", \"people\", \"feel\", \"movies\", \"girl\", \"things\", \"year\", \"energy\", \"battle\", \"dark\", \"desert\", \"light\", \"temperatures\", \"matter\", \"sahara\", \"resolution\", \"vacuum\", \"dangerous\", \"undergraduate\", \"waves\", \"resolutions\", \"somme\", \"anal\", \"know\", \"experiment\", \"gravitational\", \"gobi\", \"inventions\", \"ipod\", \"electoral\", \"ionic\", \"completing\", \"bits\", \"vinegar\", \"flying\", \"insurance\", \"contrast\", \"average\", \"created\", \"ones\", \"mechanical\", \"expanding\", \"going\", \"significance\", \"universe\", \"employees\", \"2017\", \"apple\", \"new\", \"engineering\", \"student\", \"college\", \"day\", \"speed\", \"compare\", \"university\", \"graduate\", \"old\", \"want\", \"like\", \"good\", \"people\", \"love\", \"process\", \"tips\", \"fat\", \"benefits\", \"review\", \"belly\", \"personality\", \"milk\", \"drinking\", \"positions\", \"root\", \"departments\", \"shopping\", \"scam\", \"notice\", \"sentences\", \"honey\", \"hydrogen\", \"vagina\", \"harvard\", \"procrastination\", \"habit\", \"cgpa\", \"shy\", \"exercises\", \"cyber\", \"arranged\", \"lemon\", \"newton\", \"examples\", \"water\", \"drink\", \"wrong\", \"fall\", \"reduce\", \"overcome\", \"social\", \"disorder\", \"balance\", \"work\", \"marketing\", \"tell\", \"chemical\", \"body\", \"making\", \"interview\", \"digital\", \"makes\", \"differ\", \"bad\", \"health\", \"1\", \"security\", \"technology\", \"feel\", \"good\", \"job\", \"great\", \"time\", \"like\", \"person\", \"day\", \"engineer\", \"china\", \"memory\", \"microsoft\", \"canada\", \"growth\", \"masturbation\", \"electronics\", \"campus\", \"muscle\", \"historical\", \"linkedin\", \"vietnam\", \"ceo\", \"interviews\", \"faith\", \"dna\", \"agriculture\", \"coast\", \"smartest\", \"story\", \"described\", \"zone\", \"curve\", \"wing\", \"mba\", \"abroad\", \"edmonton\", \"holmes\", \"auckland\", \"voice\", \"drive\", \"product\", \"gold\", \"better\", \"software\", \"depression\", \"functions\", \"century\", \"working\", \"company\", \"job\", \"male\", \"country\", \"scope\", \"quality\", \"hair\", \"civil\", \"salary\", \"happens\", \"india\", \"engineering\", \"hard\", \"companies\", \"like\", \"good\", \"people\", \"career\", \"work\", \"find\", \"difference\", \"modi\", \"currency\", \"economy\", \"rs\", \"1000\", \"500\", \"prime\", \"2000\", \"muslims\", \"narendra\", \"jio\", \"minister\", \"sim\", \"ban\", \"g\", \"rupees\", \"demonetization\", \"definition\", \"animal\", \"license\", \"banning\", \"decision\", \"gps\", \"pm\", \"trading\", \"kejriwal\", \"rupee\", \"chip\", \"reliance\", \"cells\", \"notes\", \"government\", \"note\", \"value\", \"indian\", \"live\", \"successful\", \"people\", \"india\", \"think\", \"new\", \"use\", \"thing\", \"culture\", \"purpose\", \"dream\", \"corporate\", \"remember\", \"ice\", \"angel\", \"investors\", \"regret\", \"6s\", \"lewis\", \"life\", \"jokes\", \"drugs\", \"fitness\", \"prize\", \"illness\", \"millionaire\", \"dead\", \"nepal\", \"nobel\", \"strangest\", \"flow\", \"burning\", \"superpower\", \"pride\", \"hamsters\", \"mental\", \"craziest\", \"deal\", \"let\", \"food\", \"thought\", \"mean\", \"favourite\", \"spanish\", \"cream\", \"laws\", \"understand\", \"heat\", \"worst\", \"eat\", \"chinese\", \"traffic\", \"think\", \"western\", \"structure\", \"existence\", \"iphone\", \"wants\", \"japanese\", \"chance\", \"said\", \"differences\", \"like\", \"time\", \"different\", \"find\", \"feel\", \"people\", \"companies\", \"important\", \"website\", \"change\", \"times\", \"drug\", \"cons\", \"alcohol\", \"\\u201d\", \"pros\", \"relationship\", \"\\u201c\", \"iit\", \"gay\", \"county\", \"meth\", \"rehab\", \"inpatient\", \"attack\", \"pass\", \"reservation\", \"jee\", \"mains\", \"caste\", \"urine\", \"cope\", \"...\", \"goswami\", \"uri\", \"arnab\", \"smoke\", \"grades\", \"happiness\", \"lesbian\", \"sex\", \"test\", \"months\", \"experiences\", \"born\", \"week\", \"enjoy\", \"dog\", \"center\", \"train\", \"days\", \"living\", \"system\", \"2\", \"important\", \"legal\", \"3\", \"friend\", \"date\", \"having\", \"4\", \"long\", \"india\", \"good\", \"work\", \"difference\", \"quora\", \"questions\", \"weight\", \"question\", \"lose\", \"ask\", \"answer\", \"meaning\", \"skills\", \"answers\", \"solar\", \"provider\", \"gain\", \"panel\", \"add\", \"topics\", \"distance\", \"wars\", \"imported\", \"candy\", \"search\", \"taffy\", \"saltwater\", \"writer\", \"stupid\", \"answered\", \"gym\", \"warming\", \"comment\", \"posts\", \"easily\", \"speaking\", \"asked\", \"installation\", \"improve\", \"california\", \"google\", \"world\", \"follow\", \"improvement\", \"people\", \"post\", \"english\", \"good\", \"earth\", \"favorite\", \"states\", \"united\", \"sleep\", \"sentence\", \"travel\", \"humans\", \"speak\", \"reasons\", \"dogs\", \"thinking\", \"morning\", \"german\", \"cats\", \"anger\", \"invented\", \"mars\", \"went\", \"sense\", \"atheist\", \"cry\", \"temperature\", \"fluently\", \"blowing\", \"astrology\", \"reviews\", \"wordpress\", \"believe\", \"blind\", \"eye\", \"environment\", \"late\", \"night\", \"stop\", \"sun\", \"death\", \"mind\", \"time\", \"word\", \"flat\", \"man\", \"control\", \"possible\", \"people\", \"english\", \"exist\", \"negative\", \"different\", \"pay\", \"use\", \"like\", \"buy\", \"school\", \"read\", \"windows\", \"porn\", \"suicide\", \"easiest\", \"safety\", \"proposed\", \"laptop\", \"commit\", \"precautions\", \"nra\", \"handling\", \"hp\", \"mac\", \"season\", \"shotguns\", \"cloud\", \"watching\", \"thrones\", \"league\", \"series\", \"player\", \"mbbs\", \"cool\", \"computing\", \"15000\", \"printer\", \"africa\", \"studying\", \"tv\", \"medical\", \"die\", \"10\", \"character\", \"popular\", \"game\", \"book\", \"india\", \"best\", \"high\", \"way\", \"type\", \"books\", \"better\", \"women\", \"men\", \"big\", \"earn\", \"majors\", \"looking\", \"pregnant\", \"advantages\", \"political\", \"bang\", \"recruit\", \"earthquake\", \"grads\", \"prospects\", \"strongest\", \"embarrassing\", \"isis\", \"listen\", \"surgical\", \"weakest\", \"parts\", \"cambodia\", \"stanford\", \"hotels\", \"raise\", \"funding\", \"fighter\", \"lyrics\", \"christ\", \"ignore\", \"break\", \"easy\", \"effects\", \"disadvantages\", \"state\", \"money\", \"difficult\", \"terms\", \"wear\", \"animals\", \"online\", \"universities\", \"major\", \"song\", \"courses\", \"army\", \"difference\", \"music\", \"job\", \"like\", \"worth\", \"period\", \"songs\", \"india\", \"good\", \"youtube\", \"height\", \"channel\", \"ancient\", \"met\", \"quickbooks\", \"21\", \"alternatives\", \"include\", \"mathematical\", \"object\", \"channels\", \"scientifically\", \"empire\", \"cyrus\", \"mistry\", \"vegetarian\", \"restore\", \"lessons\", \"sons\", \"tested\", \"define\", \"5s\", \"grammatically\", \"aadhaar\", \"stamina\", \"roman\", \"citizenship\", \"pin\", \"sick\", \"wwii\", \"tata\", \"increase\", \"age\", \"years\", \"5\", \"20\", \"today\", \"kill\", \"bay\", \"design\", \"british\", \"6\", \"size\", \"future\", \"pan\", \"service\", \"person\", \"support\", \"video\", \"card\", \"air\", \"videos\", \"happen\", \"correct\", \"exist\", \"10\", \"number\", \"possible\", \"difference\", \"iphone\", \"like\", \"old\", \"study\", \"interesting\", \"market\", \"facts\", \"stock\", \"pro\", \"macbook\", \"deleted\", \"tcs\", \"kvpy\", \"teacher\", \"blogs\", \"gmat\", \"sa\", \"cutoff\", \"pronunciation\", \"centre\", \"path\", \"unknown\", \"complex\", \"sources\", \"spoken\", \"equity\", \"code\", \"innovations\", \"arts\", \"pr\", \"species\", \"graphics\", \"dress\", \"history\", \"confidence\", \"operating\", \"open\", \"write\", \"phones\", \"source\", \"delhi\", \"letter\", \"effective\", \"bank\", \"expected\", \"products\", \"rid\", \"ways\", \"services\", \"education\", \"2016\", \"hyderabad\", \"transfer\", \"cat\", \"account\", \"use\", \"ias\", \"find\", \"system\", \"good\", \"english\", \"like\", \"best\", \"indian\"], \"Total\": [3111.0, 776.0, 687.0, 670.0, 507.0, 803.0, 636.0, 562.0, 459.0, 522.0, 359.0, 556.0, 359.0, 357.0, 1228.0, 706.0, 576.0, 325.0, 465.0, 298.0, 317.0, 306.0, 287.0, 460.0, 438.0, 427.0, 283.0, 294.0, 281.0, 300.0, 459.7272114722577, 232.13300565602566, 201.66040879682754, 203.4545197082639, 195.3879900552333, 119.22290527477134, 112.05442671778724, 79.79627316342165, 89.66474174585277, 215.19954895504895, 58.29083746529785, 50.22629908292037, 43.95388822990291, 43.05782051691199, 41.265700866832866, 37.681461598042084, 35.889341943402066, 34.99328213188209, 33.20144966491152, 31.40904285184149, 30.51298301693273, 28.720940470777602, 26.928743738624583, 26.03268391936539, 562.2260481820023, 20.656324994083135, 20.656325020835887, 245.17589110045077, 18.864205366747917, 17.072085712537532, 3111.3680550626846, 240.9315158730929, 118.51843134462317, 103.43627763472175, 202.99939747520318, 269.9090344342823, 803.1382253627725, 102.81395623523296, 94.6118003226336, 122.93394574200663, 199.93032288132363, 91.84294759974065, 242.90775057053696, 154.9645862349506, 214.59647297554136, 218.91857366004754, 251.92607747013625, 138.9429990327546, 1430.839974434324, 1104.6768584274107, 460.5863512742313, 526.7514940414723, 209.34142934244312, 361.39921179216645, 507.64347080065573, 306.28675740587295, 224.04246601927403, 221.20629667148776, 210.8077524632411, 204.19039568464737, 115.3287842527589, 107.76605405977243, 105.87538069401648, 95.47667718253881, 70.89792343778393, 51.04585310197835, 91.70089475392783, 49.15517973776885, 45.373833007226565, 41.59248627727777, 40.64714959289667, 34.975129498044716, 32.13911945031779, 30.248443352947117, 29.303109399737668, 29.30324666667398, 28.35777271863421, 27.412436036599757, 42.54344769236399, 23.63108930680888, 20.795079260009793, 20.7950792611965, 19.84974257816657, 19.849742576251977, 91.73479415547213, 271.1809838300503, 37.8045669584322, 36.88657012257004, 46.35786850471406, 83.97648697699927, 117.69388492518758, 170.25088364223382, 90.64125199941424, 86.19692945460103, 72.92275251291575, 161.81730969919715, 160.92076609239558, 73.71961492200815, 522.3512408900782, 377.9758644916323, 1430.839974434324, 78.44982615938406, 1104.6768584274107, 236.540115750578, 556.1590323029075, 157.19189685191077, 255.55846401667992, 1228.6491343418554, 706.0041045002955, 245.39580533037017, 154.54522460511362, 133.00345045436814, 132.06685157902294, 118.01798564273471, 106.783716085829, 294.08011239615087, 60.88533699869856, 66.50295762670977, 48.709551606625844, 47.77295273082264, 40.2801617216458, 40.28016172091246, 39.34356284452026, 36.533766215724384, 35.59716734285281, 33.72396958924713, 91.82587699470523, 28.104376332446087, 100.27098700446341, 24.357980829239988, 23.422371434899468, 20.611585324918355, 20.61246177625785, 17.801788696720223, 17.801788705443602, 16.865189822260096, 16.86518982570173, 16.86536358846209, 15.928590942730084, 41.24884044199822, 106.74748745908616, 76.90599385953385, 75.04035837063925, 202.35694118515266, 39.38508058296863, 39.38174688301529, 46.72179641533961, 311.32975538578467, 163.99749450925512, 126.25250871827073, 336.9898322326716, 325.54754128250073, 159.14368894076944, 84.45960040341446, 121.68558173624714, 114.49313074317098, 114.61216033464895, 64.76379149208066, 261.20664486502005, 54.388557071199784, 1166.058064674921, 200.22020724998004, 532.5859176978536, 636.7543242953092, 1228.6491343418554, 344.7142780153916, 214.59647297554136, 268.22286798113146, 359.37917358144057, 357.46622368073224, 162.04873306631825, 94.36519842841099, 86.73888234411179, 76.25273311666251, 112.46456152853551, 56.23369250888939, 63.86082837564696, 39.07451484501745, 39.07451484478206, 36.21465189932137, 35.2613642487879, 30.494925588252002, 29.541638362776403, 27.635063068871442, 26.681775420886858, 26.6817754188825, 670.0918899007181, 23.82191247487579, 22.868624828340856, 20.962049532860604, 20.008761881972134, 19.055474234495687, 19.05547423425113, 19.055252752795553, 27.635917818436457, 19.05404938196985, 17.14889893810594, 22.869571112786076, 50.44645593058964, 47.64875895994056, 186.79266437993013, 76.20743526280793, 98.01969161508225, 116.25177140651432, 27.63288160952072, 256.0767273479272, 52.318045749650665, 130.1671381738346, 133.62128404312693, 173.52136278143095, 95.35520638828868, 576.479920766605, 371.6199231636479, 162.9987666742713, 241.58688882155124, 362.7870922437255, 92.8948083283105, 257.688724232651, 174.5822790948179, 59.10143070497698, 246.24933572424553, 402.8699700096622, 1166.058064674921, 1104.6768584274107, 1228.6491343418554, 359.34295530576, 127.21886523823127, 125.36494923320912, 95.6497305095246, 86.36475781093579, 83.57926599591374, 44.58238063539605, 43.65388336919379, 40.868391557345994, 38.08289974709412, 34.3689106619009, 44.593394569584866, 30.654921579074742, 26.940932497384132, 25.083937959357588, 25.083937971424774, 20.44145160996162, 28.783017239177767, 19.512954337795353, 17.655959794216592, 17.655959796451967, 16.7274625221427, 16.727462526880963, 16.727462528664166, 16.72746252873474, 16.727613455146923, 15.798965252865571, 15.798965256100733, 15.79896525386957, 14.870467985488407, 227.7769218796064, 187.60208545378723, 68.77186254865713, 89.32615895131411, 73.54557395142602, 91.0979862685571, 66.13605458504682, 156.72722035820857, 30.672640363836152, 41.892945606555635, 465.1187806407108, 136.0575657031649, 158.20234345482314, 63.37763060859788, 127.67651184240003, 146.09777051481512, 169.9869703154463, 111.7973027069763, 108.82069798048963, 83.97318744106256, 210.57708371605707, 80.46821354840398, 214.29623926391145, 79.36215727565227, 101.15144363597538, 344.7142780153916, 1104.6768584274107, 381.0515510352253, 121.31468034702146, 706.0041045002955, 1166.058064674921, 336.53992214571787, 362.7870922437255, 118.88544830145418, 173.11131168084168, 51.35389026947306, 49.45159286208436, 106.51210227386468, 40.89125451911893, 38.98895711041568, 33.28206487905431, 34.23321703061214, 27.57517264999553, 23.770577833166588, 22.819611327114714, 20.91713171975214, 19.96598301681939, 19.014828722613476, 19.01459358818848, 19.01464797853689, 16.16138819873696, 16.1613881968138, 16.161388195038512, 78.97125150637893, 15.210239492611471, 15.210239495096358, 15.210239492604712, 14.259090788955376, 96.8423992044031, 38.04144976946988, 13.307942085586962, 13.307942084303544, 12.356793380807481, 39.008333085386234, 64.70377011297944, 73.28285875801973, 47.512125109781074, 427.0520268961403, 184.35061046871962, 57.87406166269593, 33.24661909701133, 30.383332745953897, 133.94423696073935, 215.39417746403234, 381.0515510352253, 64.44438305331904, 257.9808186870633, 59.94751579633675, 68.56013178582593, 158.5441696132205, 93.30661596935126, 102.80689386019597, 149.87734180198032, 1430.839974434324, 371.6199231636479, 132.59507254002392, 169.23860395294352, 1166.058064674921, 1104.6768584274107, 1228.6491343418554, 161.95220486519472, 465.1187806407108, 532.5859176978536, 697.5996075457263, 145.31469830754938, 97.50935015880728, 94.64119143549947, 190.231474733199, 281.04193711207836, 283.9070287528237, 66.9141782437768, 91.7645486218681, 65.00181710022952, 59.26534701962493, 58.30924311563917, 53.52872359920391, 53.52872359853975, 77.42660098610465, 97.49342278392798, 64.03474313484269, 43.01158065230668, 42.05547675852689, 42.05547675907233, 42.05547675813706, 83.1499202568854, 86.96922528025084, 35.36274943544465, 33.45054163061614, 32.494444619657514, 26.757814311292133, 132.81254318217927, 24.84560650226212, 23.889502599725883, 23.88950259897194, 317.1141330340902, 197.9051222175594, 96.30303356153493, 73.49295310748963, 482.8176278961082, 209.12340968619017, 81.15443505899454, 1228.6491343418554, 1430.839974434324, 556.1590323029075, 576.479920766605, 526.7514940414723, 262.54506820900247, 115.33530725023996, 107.8341729345568, 75.01671030110624, 55.32623272013889, 40.32396408741417, 28.13462082402567, 27.196996499467758, 27.197114009835232, 23.446411875927325, 23.44641187617099, 21.571128295282367, 687.0213630202929, 19.695844665569712, 18.758202931064627, 15.007635770231136, 14.06999397787859, 14.069993980202833, 14.069993982437307, 40.34131547580833, 18.763089969061678, 13.132352189834041, 13.132352188650552, 13.132352189933282, 13.132352188084447, 13.132352192489568, 13.132349991057914, 13.131458542603742, 27.21226044245685, 12.194710400028502, 107.09234871352561, 54.383189729402034, 133.4155104598004, 24.377956625852587, 438.3575506736598, 41.35740260466704, 38.50071704031539, 25.36033383352675, 43.10520491488159, 75.2623119134238, 28.155051464567535, 111.74202308923347, 146.47185540146583, 117.54279613184252, 94.9938506177923, 556.1590323029075, 44.03338187336377, 49.7211416904733, 40.01374161916564, 214.60079138059407, 45.00342924827496, 63.96252082757927, 66.9502379123138, 66.63519691505475, 132.20828010671977, 1166.058064674921, 706.0041045002955, 265.79637547084087, 532.5859176978536, 344.7142780153916, 1228.6491343418554, 169.23860395294352, 194.9926981095938, 218.91857366004754, 234.86613721834138, 107.55910431173498, 94.11202922227052, 81.62545949101013, 81.62545946625804, 79.70444876211863, 78.74394339956828, 120.98777354293499, 73.9414165782779, 75.86093287277698, 62.41515245678022, 57.61282539526965, 56.652320029778565, 54.73130930410876, 50.88928784844072, 48.007771751119826, 47.04726638607221, 46.08676102620852, 93.07970719472847, 34.5606966562754, 30.718675204039275, 29.758169839942564, 23.034632288689252, 22.074126925221655, 20.153116202579017, 20.153116201975696, 19.192610838931003, 19.19261083740835, 17.271600102783587, 16.311094741248155, 15.350589378541205, 300.9885047588179, 133.3360422087328, 101.72681446009092, 38.38913229367722, 33.57026757997128, 80.32495786708982, 49.79101456861289, 93.88875710712173, 85.36694476570761, 60.249714760595964, 176.9999882616829, 107.20546596803807, 229.47522487248756, 250.66954593866518, 194.9926981095938, 75.2636436663117, 257.0725282188814, 144.96879261201866, 84.29596310703054, 153.12325145329507, 161.20440368124792, 325.5714119380298, 1430.839974434324, 1104.6768584274107, 465.1187806407108, 697.5996075457263, 776.1189576001472, 325.32718888748644, 298.3726295208746, 249.110848610076, 261.1958515702547, 213.79108116553144, 148.72835166310418, 171.97239266044667, 107.83177883472442, 103.18444100669966, 85.52455728645424, 81.80668702500239, 80.87721946311619, 68.79414112457367, 74.37363155679876, 65.0762708718522, 54.852127668305414, 44.627984453462766, 41.839581757723934, 40.91011419371992, 84.61993368921321, 37.192243934846175, 32.54490611307832, 28.82703585773751, 28.827035859021855, 27.897568292154368, 21.391295344804224, 20.461827778365564, 25.111337930453153, 18.602853325780604, 78.19035239842128, 52.10225525787202, 87.5101959377117, 71.72350760771765, 255.04305886515738, 99.82572570270332, 270.14092995797665, 522.3512408900782, 69.96159146564995, 71.11953304519822, 1228.6491343418554, 97.57116398499657, 361.39921179216645, 1104.6768584274107, 159.1099242272114, 126.90827641680882, 107.96613125432067, 106.07191669916364, 96.60084392614371, 76.71159110482384, 159.0540779041339, 66.29341105372433, 65.3463037771533, 61.557874670520505, 54.928123728274336, 49.24548006287449, 41.668621843108255, 36.93308545607019, 34.09180097721397, 33.144656349907194, 31.250428813023976, 27.462012688781172, 27.462026902856298, 24.62069085513147, 23.673583577748836, 21.779369024302706, 33.14260162094641, 20.832261745031545, 50.20170702038219, 18.938047191824637, 17.043832634798722, 23.675873371208272, 140.10630649904905, 16.096725365003493, 40.730928137764465, 24.623161383345355, 63.50456156662346, 85.31343688729889, 301.3619556953131, 49.23073282528054, 86.34126896449142, 139.64298989248337, 706.0041045002955, 155.18762827505353, 45.51853759881999, 140.29969512535618, 107.18128512284058, 334.972798026286, 1228.6491343418554, 361.39921179216645, 127.2511605445608, 54.698020179495174, 265.79637547084087, 103.43103628464853, 526.7514940414723, 1166.058064674921, 287.074298330348, 187.55040151987404, 177.98079180359352, 149.27196210384776, 87.06945284541628, 78.45684885771281, 73.672044059128, 58.360668246718944, 54.53282428978284, 146.29504533616458, 50.70498033724457, 46.87713638321226, 46.877136382708386, 46.877136382222446, 45.92017539347168, 45.920108338071934, 48.789341980761364, 43.04929242848682, 42.09233143523784, 42.09102880291856, 36.35056550167537, 32.52272154938178, 104.25137641310816, 31.565471584665566, 29.65183858300431, 29.651838581108308, 24.86703363812837, 23.910072650622283, 22.953111663465606, 21.039135657236315, 53.425073935419924, 121.49565055283901, 83.20136773602702, 86.83354460718964, 223.06698319367874, 40.09346271611805, 85.5437271186628, 133.17486706658283, 251.92607747013625, 1430.839974434324, 3111.3680550626846, 166.98120138412187, 803.1382253627725, 112.4900328059192, 242.90775057053696, 427.0520268961403, 247.9140710152763, 196.2661315671238, 130.53238837199706, 203.77676712987045, 95.7874098232682, 112.69147011402193, 86.39687508363942, 69.49545944494261, 53.530003484317, 52.59095000865493, 46.95662916330487, 46.0175756884938, 41.3223083176161, 38.50514789702161, 34.74893399833195, 32.87082704947947, 30.99348938413306, 29.114613154419786, 28.17555967963, 26.297452729375337, 26.29745273079774, 25.358399254222856, 26.29770153280442, 23.48029230372093, 22.541238825803433, 30.058574520747648, 20.663524756390704, 18.785024935540676, 15.028811040157445, 14.089757568186476, 49.81720298752127, 78.0304075230264, 104.1155056209909, 57.364675297357394, 130.8460265633111, 636.7543242953092, 48.898537190632894, 65.85556820606234, 65.85584449864963, 45.12957790534439, 460.5863512742313, 87.45718134295264, 121.68088843638766, 100.8754639757833, 80.8577218548091, 57.49219379053097, 697.5996075457263, 117.14171990594119, 381.0515510352253, 1166.058064674921, 103.93506509233099, 108.35852716447461, 90.55093151218011, 1430.839974434324, 1104.6768584274107, 151.8394940802924, 84.98662091065505, 40.09969177960562, 33.414404465457004, 29.594240250620192, 27.684158192286063, 26.729117144108475, 26.728938344870677, 25.774076097188765, 22.90895296332158, 21.953911913331485, 20.998870873601295, 20.998870873324947, 21.953329740442953, 19.08878878569885, 19.08878878569885, 18.13374773391323, 18.133747736953964, 18.133747733260286, 17.178706692156858, 16.223665649154892, 16.22366564603769, 15.268624604200106, 14.313583557140378, 13.358542512467553, 13.358542511563074, 12.403501467018454, 12.403501465954378, 12.403501465800161, 12.403501460536326, 13.35840894408847, 24.817073677058254, 200.57495584363377, 129.8033593898205, 231.00182626228374, 178.5926071456074, 77.29654627335204, 119.26609065333112, 65.8600266539474, 25.669045060078933, 104.5652500871003, 42.976885763573804, 115.30428441795513, 77.07960319808302, 130.58198835954877, 42.912467146019196, 140.03446074430371, 336.53992214571787, 131.591067432187, 153.7525025088072, 194.09990113331395, 93.15849823442778, 70.26935217338539, 255.55846401667992, 72.39724208118419, 127.2511605445608, 223.06698319367874, 336.9898322326716, 334.972798026286, 697.5996075457263, 214.60079138059407, 1166.058064674921, 246.24933572424553, 192.36031194543196, 129.5066759045607, 119.03111832253046, 99.98464906758278, 79.9858661857214, 79.03261237814971, 62.84403564282414, 58.08241669285696, 39.035946990596145, 34.274330127046994, 34.27433012424395, 28.56038934060065, 27.608065881669752, 26.6557424217437, 23.798772034197306, 21.8941251091426, 21.894125104569394, 20.9418016423004, 33.3215043703011, 17.13250778778037, 17.132507785875184, 15.227860863667171, 15.227860857746387, 105.71984716286046, 14.275537405570534, 14.275537403897937, 14.275537402341676, 14.275537393219917, 20.939854595767784, 21.895553839778835, 145.6437723553352, 29.492743614865475, 29.51516095000855, 113.26964328152665, 143.0876858501817, 40.88749576316085, 63.70109061729885, 121.97750462240717, 53.14092341492801, 60.87007947894915, 147.33222695693567, 40.9546208746611, 67.64823085023706, 121.22397364962387, 322.59257425668875, 81.68876015802378, 98.96353495707788, 377.9758644916323, 60.00348431397639, 60.94429679600317, 95.76280164734249, 325.54754128250073, 526.7514940414723, 78.02568073235045, 532.5859176978536, 229.47522487248756, 1104.6768584274107, 361.39921179216645, 1166.058064674921, 3111.3680550626846, 482.8176278961082], \"loglift\": [30.0, 29.0, 28.0, 27.0, 26.0, 25.0, 24.0, 23.0, 22.0, 21.0, 20.0, 19.0, 18.0, 17.0, 16.0, 15.0, 14.0, 13.0, 12.0, 11.0, 10.0, 9.0, 8.0, 7.0, 6.0, 5.0, 4.0, 3.0, 2.0, 1.0, 2.3085, 2.3062, 2.3061, 2.306, 2.3059, 2.303, 2.3026, 2.2993, 2.2983, 2.2979, 2.2952, 2.2927, 2.2902, 2.2898, 2.2888, 2.2868, 2.2856, 2.2849, 2.2834, 2.282, 2.2811, 2.2792, 2.2771, 2.276, 2.2686, 2.2668, 2.2668, 2.2628, 2.2625, 2.2574, 2.2273, 2.2521, 2.2565, 2.2437, 2.1909, 2.1653, 2.1089, 2.1992, 2.1903, 2.1617, 2.1073, 2.1741, 1.9422, 1.995, 1.9015, 1.8643, 1.7995, 1.9057, 0.587, 0.6325, 1.1281, 0.811, 1.5642, 1.0743, 2.6492, 2.648, 2.647, 2.6468, 2.6467, 2.6466, 2.6431, 2.6427, 2.6426, 2.6417, 2.6384, 2.6335, 2.6333, 2.6329, 2.6313, 2.6295, 2.629, 2.6254, 2.6232, 2.6214, 2.6204, 2.6196, 2.6194, 2.6183, 2.6166, 2.613, 2.6077, 2.6077, 2.6056, 2.6056, 2.6019, 2.5905, 2.6004, 2.5857, 2.5764, 2.531, 2.5006, 2.398, 2.4615, 2.4248, 2.4558, 2.2762, 2.2246, 2.3697, 1.554, 1.5622, 0.8862, 2.316, 0.8426, 1.668, 1.0246, 1.8481, 1.4955, 0.2669, 0.4367, 2.6638, 2.6618, 2.6608, 2.6608, 2.6599, 2.6563, 2.6563, 2.6529, 2.6502, 2.6492, 2.6489, 2.6454, 2.6454, 2.6448, 2.6431, 2.6424, 2.641, 2.6358, 2.6356, 2.6346, 2.6307, 2.6274, 2.6238, 2.6198, 2.6167, 2.6167, 2.6138, 2.6138, 2.6133, 2.6106, 2.6039, 2.5845, 2.5879, 2.5791, 2.5398, 2.5875, 2.5829, 2.5641, 2.3818, 2.436, 2.4639, 2.3539, 2.3422, 2.3606, 2.4261, 2.3383, 2.3274, 2.3221, 2.4808, 1.9603, 2.5232, 1.2023, 1.8997, 1.3699, 1.153, 0.7447, 1.3677, 1.5643, 1.3192, 2.6797, 2.6785, 2.6766, 2.6728, 2.6719, 2.6705, 2.6665, 2.6664, 2.6635, 2.6594, 2.6594, 2.6576, 2.6569, 2.6529, 2.6519, 2.6498, 2.6486, 2.6486, 2.6484, 2.6445, 2.6429, 2.6393, 2.6372, 2.6349, 2.6349, 2.6342, 2.6322, 2.6318, 2.6295, 2.6282, 2.6152, 2.6114, 2.5604, 2.5738, 2.5591, 2.5115, 2.6129, 2.3803, 2.5459, 2.4316, 2.4262, 2.3778, 2.46, 2.1859, 2.2299, 2.3298, 2.2283, 2.086, 2.394, 2.0698, 2.1635, 2.5034, 1.8978, 1.2346, 0.0551, -0.0109, -0.135, 2.6923, 2.6877, 2.6857, 2.6855, 2.6845, 2.6841, 2.6748, 2.6744, 2.673, 2.6713, 2.6688, 2.666, 2.6656, 2.6615, 2.659, 2.659, 2.6507, 2.6488, 2.6485, 2.6436, 2.6436, 2.6406, 2.6406, 2.6406, 2.6406, 2.6395, 2.6374, 2.6374, 2.6374, 2.6337, 2.6259, 2.6015, 2.6156, 2.5664, 2.573, 2.5614, 2.5736, 2.5134, 2.6027, 2.5752, 2.3738, 2.4628, 2.4141, 2.5171, 2.3796, 2.3539, 2.3133, 2.3355, 2.3282, 2.3845, 1.9756, 2.3388, 1.8282, 2.3165, 2.1688, 1.4185, 0.5331, 1.2294, 2.0223, 0.5765, 0.1417, 1.1097, 0.9454, 2.7228, 2.7134, 2.713, 2.7123, 2.7087, 2.7085, 2.7074, 2.7034, 2.7025, 2.6978, 2.6925, 2.6891, 2.6873, 2.6852, 2.6828, 2.6819, 2.6806, 2.6743, 2.6743, 2.6743, 2.6732, 2.6707, 2.6707, 2.6707, 2.6666, 2.6642, 2.6622, 2.6619, 2.6619, 2.6564, 2.649, 2.5844, 2.5743, 2.5726, 2.396, 2.4141, 2.5311, 2.589, 2.5882, 2.3179, 2.225, 2.1165, 2.4336, 2.0946, 2.4262, 2.3525, 2.1086, 2.1916, 2.0944, 1.8722, 0.6534, 1.3751, 1.9282, 1.7343, 0.503, 0.2551, 0.0766, 1.5981, 0.6898, 0.564, 0.2862, 2.7465, 2.7434, 2.7432, 2.7428, 2.7426, 2.7422, 2.7393, 2.7385, 2.7383, 2.7376, 2.7373, 2.736, 2.736, 2.7352, 2.735, 2.7334, 2.7319, 2.7314, 2.7314, 2.7314, 2.7313, 2.7293, 2.7274, 2.7259, 2.7249, 2.7191, 2.719, 2.7165, 2.715, 2.715, 2.7032, 2.5968, 2.604, 2.6234, 2.2449, 2.1879, 2.4643, 1.2048, 1.0915, 1.4753, 1.2329, 0.9265, 2.7506, 2.7463, 2.7458, 2.7422, 2.738, 2.7319, 2.7222, 2.721, 2.7177, 2.7157, 2.7157, 2.7123, 2.7111, 2.7083, 2.7059, 2.6935, 2.6894, 2.6894, 2.6894, 2.6869, 2.6865, 2.6846, 2.6846, 2.6846, 2.6846, 2.6846, 2.6846, 2.683, 2.6794, 2.6791, 2.6304, 2.6426, 2.5739, 2.6586, 2.4426, 2.6078, 2.6113, 2.6373, 2.5928, 2.5417, 2.6257, 2.4793, 2.4332, 2.4378, 2.4615, 2.1058, 2.556, 2.4906, 2.5423, 2.0428, 2.4992, 2.3425, 2.3082, 2.2892, 1.9043, 0.7091, 0.883, 1.4156, 0.7848, 1.0802, 0.0969, 1.5471, 1.408, 1.1851, 1.0331, 2.7481, 2.7469, 2.7454, 2.7454, 2.7452, 2.745, 2.7444, 2.7443, 2.744, 2.7419, 2.7409, 2.7406, 2.7401, 2.7388, 2.7378, 2.7374, 2.737, 2.7359, 2.7305, 2.7272, 2.7263, 2.7174, 2.7156, 2.7117, 2.7117, 2.7094, 2.7094, 2.704, 2.7009, 2.6973, 2.6629, 2.586, 2.5965, 2.6512, 2.6628, 2.5619, 2.6069, 2.517, 2.5127, 2.5655, 2.356, 2.3991, 2.1854, 2.1262, 2.1856, 2.4861, 2.0195, 2.2328, 2.4314, 2.0063, 1.969, 1.4266, 0.2607, 0.2552, 0.792, 0.3791, 2.7602, 2.7586, 2.7583, 2.7577, 2.7577, 2.7572, 2.7553, 2.7538, 2.7531, 2.7527, 2.7509, 2.7505, 2.7503, 2.7484, 2.7478, 2.7477, 2.7451, 2.7413, 2.74, 2.7395, 2.7383, 2.7373, 2.7338, 2.7302, 2.7302, 2.7292, 2.7192, 2.7173, 2.7167, 2.7127, 2.6937, 2.6988, 2.6849, 2.6717, 2.5213, 2.5988, 2.474, 2.2664, 2.5937, 2.5543, 0.9312, 2.2729, 1.1685, 0.1893, 2.7738, 2.7724, 2.7712, 2.771, 2.7702, 2.7678, 2.7676, 2.766, 2.7658, 2.765, 2.7632, 2.7613, 2.758, 2.7553, 2.7531, 2.7525, 2.7506, 2.7468, 2.7467, 2.743, 2.7415, 2.7381, 2.7375, 2.7362, 2.7328, 2.7318, 2.7264, 2.7259, 2.7254, 2.7232, 2.7134, 2.7182, 2.6805, 2.6673, 2.5509, 2.658, 2.5357, 2.4394, 2.1192, 2.3191, 2.6016, 2.2731, 2.326, 1.8752, 1.107, 1.6699, 2.0515, 2.5127, 1.3729, 1.9785, 0.5038, -0.2897, 2.7855, 2.7839, 2.7837, 2.7827, 2.7784, 2.7774, 2.7766, 2.7734, 2.7724, 2.7715, 2.7711, 2.7697, 2.7697, 2.7697, 2.7693, 2.7693, 2.7686, 2.768, 2.7675, 2.7661, 2.7641, 2.7612, 2.7606, 2.7595, 2.7585, 2.7585, 2.7526, 2.7512, 2.7496, 2.7452, 2.7289, 2.6645, 2.6721, 2.6356, 2.3026, 2.6554, 2.3867, 2.2111, 1.8645, 0.6025, -0.0419, 1.8433, 0.7286, 2.0136, 1.2802, 0.7081, 2.7891, 2.7882, 2.7859, 2.785, 2.7835, 2.7834, 2.7825, 2.778, 2.7761, 2.7758, 2.7738, 2.7734, 2.7712, 2.7696, 2.767, 2.7656, 2.7624, 2.762, 2.761, 2.7586, 2.7586, 2.7574, 2.7572, 2.7545, 2.7529, 2.7508, 2.7483, 2.7447, 2.7323, 2.7282, 2.7261, 2.7207, 2.6731, 2.6961, 2.6167, 2.4434, 2.6806, 2.6226, 2.6215, 2.6779, 2.2472, 2.546, 2.4447, 2.4849, 2.441, 2.5491, 1.2357, 2.1259, 1.2375, 0.3896, 2.1049, 2.067, 2.2078, -0.3408, -0.1146, 2.7933, 2.7887, 2.7769, 2.7724, 2.7689, 2.7668, 2.7656, 2.7648, 2.7644, 2.76, 2.7582, 2.7563, 2.7563, 2.7555, 2.7519, 2.7519, 2.7494, 2.7494, 2.7494, 2.7466, 2.7434, 2.7434, 2.7398, 2.7357, 2.731, 2.731, 2.7256, 2.7256, 2.7256, 2.7256, 2.7252, 2.7175, 2.658, 2.6607, 2.6138, 2.5946, 2.6363, 2.5982, 2.6158, 2.6975, 2.5327, 2.6242, 2.4426, 2.5045, 2.3989, 2.5969, 2.3446, 2.1499, 2.3277, 2.2748, 2.1084, 2.3249, 2.3947, 1.9811, 2.3471, 1.9298, 1.6102, 1.3499, 1.342, 0.7574, 1.5338, -0.0351, 1.1625, 2.8122, 2.8114, 2.8108, 2.8094, 2.8072, 2.8049, 2.8042, 2.803, 2.7955, 2.7923, 2.7923, 2.787, 2.7859, 2.7847, 2.7806, 2.7773, 2.7773, 2.7753, 2.7675, 2.7656, 2.7656, 2.7588, 2.7588, 2.7573, 2.7547, 2.7547, 2.7547, 2.7547, 2.754, 2.7531, 2.7138, 2.7455, 2.7428, 2.6788, 2.6473, 2.7039, 2.6704, 2.5994, 2.6575, 2.641, 2.489, 2.6761, 2.5645, 2.4124, 2.139, 2.4424, 2.3153, 1.8054, 2.4928, 2.4757, 2.2468, 1.5276, 1.1142, 2.2883, 0.9694, 1.5352, 0.3971, 1.057, 0.0837, -1.0972, 0.6481], \"logprob\": [30.0, 29.0, 28.0, 27.0, 26.0, 25.0, 24.0, 23.0, 22.0, 21.0, 20.0, 19.0, 18.0, 17.0, 16.0, 15.0, 14.0, 13.0, 12.0, 11.0, 10.0, 9.0, 8.0, 7.0, 6.0, 5.0, 4.0, 3.0, 2.0, 1.0, -3.7298, -4.4155, -4.5563, -4.5476, -4.588, -5.0849, -5.1474, -5.4901, -5.3746, -4.4995, -5.8083, -5.9597, -6.0957, -6.1167, -6.1601, -6.253, -6.303, -6.3289, -6.383, -6.4399, -6.4697, -6.5321, -6.5986, -6.6337, -3.5685, -6.8742, -6.8742, -4.4042, -6.9692, -7.0742, -1.8989, -4.4324, -5.1374, -5.2863, -4.6649, -4.4056, -3.3715, -5.3369, -5.4289, -5.1957, -4.7638, -5.4748, -4.7341, -5.1308, -4.8987, -4.916, -4.8404, -5.3293, -4.316, -4.5292, -4.9083, -5.0913, -5.2608, -5.2047, -3.29, -3.7964, -4.1102, -4.123, -4.1713, -4.2033, -4.7781, -4.8463, -4.8641, -4.9684, -5.2693, -5.6027, -5.0172, -5.6411, -5.7227, -5.8115, -5.835, -5.9889, -6.0757, -6.1381, -6.1709, -6.1716, -6.2047, -6.2397, -5.8018, -6.3934, -6.5266, -6.5266, -6.5752, -6.5752, -5.0481, -3.9757, -5.9361, -5.9755, -5.7562, -5.2074, -4.9002, -4.6337, -5.2005, -5.2875, -5.4237, -4.8063, -4.8634, -5.499, -4.3566, -4.672, -4.0167, -5.4905, -4.3191, -5.0348, -4.8233, -5.2634, -5.13, -4.7884, -5.1726, -4.0023, -4.4667, -4.6178, -4.6249, -4.7382, -4.8419, -3.8288, -5.4071, -5.3215, -5.6339, -5.6536, -5.8277, -5.8277, -5.8518, -5.9277, -5.9543, -6.0097, -5.0133, -6.1974, -4.9265, -6.3455, -6.3879, -6.5193, -6.5232, -6.6729, -6.6729, -6.7299, -6.7299, -6.7304, -6.7903, -5.8455, -4.914, -5.2385, -5.2719, -4.3191, -5.9081, -5.9128, -5.7607, -4.0463, -4.6331, -4.8668, -3.995, -4.0413, -4.7386, -5.3066, -5.0292, -5.101, -5.1053, -5.5175, -4.6434, -5.6496, -3.9053, -4.9699, -4.5214, -4.5596, -4.3106, -4.9586, -5.2359, -5.258, -3.6049, -3.6114, -4.4045, -4.949, -5.0341, -5.1644, -4.7798, -5.4731, -5.3488, -5.8441, -5.8441, -5.922, -5.9493, -6.0985, -6.1313, -6.2001, -6.2364, -6.2364, -3.0131, -6.3538, -6.3963, -6.487, -6.5356, -6.5867, -6.5867, -6.5874, -6.2176, -6.5899, -6.6975, -6.411, -5.6329, -5.6938, -4.3785, -5.2617, -5.0247, -4.9018, -6.2371, -4.2432, -5.6657, -4.8685, -4.8477, -4.6349, -5.1514, -3.6261, -4.0212, -4.7454, -4.4535, -4.1892, -5.2435, -4.5474, -4.8431, -5.5863, -4.7648, -4.9358, -5.0525, -5.1726, -5.1903, -3.5924, -4.6353, -4.652, -4.9228, -5.0259, -5.059, -5.6968, -5.7183, -5.7857, -5.8579, -5.963, -5.7054, -6.0806, -6.2138, -6.2878, -6.2878, -6.5007, -6.1604, -6.5494, -6.6543, -6.6543, -6.7113, -6.7113, -6.7113, -6.7113, -6.7124, -6.7717, -6.7717, -6.7717, -6.8359, -4.1147, -4.3331, -5.3225, -5.1102, -5.2981, -5.0956, -5.4037, -4.6011, -6.1429, -5.8587, -3.6529, -4.7931, -4.691, -5.5028, -4.9399, -4.8308, -4.72, -5.1168, -5.1511, -5.3539, -4.8435, -5.4423, -4.9734, -5.4785, -5.3835, -4.9077, -4.6285, -4.9966, -5.3483, -5.0328, -4.9659, -5.2406, -5.3298, -4.668, -4.3016, -5.5173, -5.5557, -4.792, -5.7496, -5.7983, -5.9605, -5.9333, -6.1542, -6.308, -6.3522, -6.4411, -6.4898, -6.5409, -6.5418, -6.5431, -6.7121, -6.7121, -6.7121, -5.1266, -6.7763, -6.7763, -6.7763, -6.845, -4.9317, -5.8681, -6.9188, -6.9188, -6.9984, -5.8562, -5.4147, -5.3004, -5.7354, -3.716, -4.538, -5.5796, -6.076, -6.1669, -4.9536, -4.5715, -4.1096, -5.5695, -4.5215, -5.6493, -5.5887, -4.9943, -5.4415, -5.4417, -5.2869, -4.2496, -4.876, -5.3535, -5.3034, -4.6046, -4.9066, -4.9787, -5.4835, -5.3369, -5.3272, -5.3351, -4.4436, -4.8456, -4.8757, -4.1779, -3.7879, -3.7782, -5.2263, -4.9113, -5.2562, -5.3494, -5.3659, -5.4528, -5.4528, -5.0844, -4.8542, -5.2762, -5.6756, -5.6986, -5.6986, -5.6986, -5.017, -4.9741, -5.876, -5.933, -5.963, -6.163, -4.561, -6.2398, -6.2805, -6.2805, -3.7065, -4.2844, -4.9975, -5.2484, -3.7445, -4.6382, -5.3084, -3.8505, -3.8115, -4.3726, -4.5792, -4.9758, -3.8479, -4.6748, -4.7426, -5.1091, -5.4178, -5.7401, -6.1098, -6.1448, -6.1482, -6.2985, -6.2985, -6.3853, -2.9255, -6.4803, -6.5314, -6.7669, -6.8355, -6.8355, -6.8355, -5.7847, -6.5506, -6.9093, -6.9093, -6.9093, -6.9093, -6.9093, -6.9093, -6.9109, -6.1859, -6.9889, -4.8649, -5.5303, -4.7016, -6.3167, -3.6433, -5.8389, -5.907, -6.2985, -5.8126, -5.3063, -6.2056, -4.9735, -4.7489, -4.9644, -5.1536, -3.7421, -5.828, -5.772, -5.9375, -4.7574, -5.8631, -5.6681, -5.6568, -5.6806, -5.3803, -4.3985, -4.7263, -5.1706, -5.1065, -5.246, -4.9584, -5.4905, -5.488, -5.5952, -5.6769, -4.7429, -4.8776, -5.0214, -5.0214, -5.0455, -5.0577, -4.6289, -5.1214, -5.0961, -5.2932, -5.3743, -5.3914, -5.4265, -5.5005, -5.5598, -5.5804, -5.6014, -4.8996, -5.8958, -6.0169, -6.0496, -6.3146, -6.3589, -6.4539, -6.4539, -6.5051, -6.5051, -6.6159, -6.6763, -6.7405, -3.799, -4.6901, -4.9502, -5.87, -5.9925, -5.221, -5.6543, -5.1099, -5.2093, -5.505, -4.6369, -5.0952, -4.5477, -4.5186, -4.7104, -5.3619, -4.6001, -4.9596, -5.3032, -5.1314, -5.1173, -4.9568, -4.6423, -4.9064, -5.2347, -5.2423, -2.7545, -3.6256, -3.7123, -3.8933, -3.846, -4.0468, -4.4115, -4.2678, -4.7353, -4.7797, -4.9692, -5.0142, -5.0257, -5.1895, -5.1121, -5.2458, -5.4192, -5.6293, -5.6951, -5.7181, -4.9925, -5.8156, -5.9525, -6.0774, -6.0774, -6.1112, -6.3868, -6.4331, -6.2289, -6.533, -5.1161, -5.517, -5.0124, -5.2244, -4.1062, -4.9668, -4.096, -3.6443, -5.3274, -5.3504, -4.1241, -5.3155, -5.1105, -4.9724, -4.3256, -4.5531, -4.716, -4.7338, -4.8282, -5.0611, -4.3321, -5.2089, -5.2235, -5.284, -5.3997, -5.5108, -5.6812, -5.8046, -5.8868, -5.9156, -5.9764, -6.1094, -6.1094, -6.2224, -6.2631, -6.3499, -5.9306, -6.3963, -5.5202, -6.496, -6.6068, -6.2786, -4.5011, -6.6672, -5.7485, -6.2471, -5.3373, -5.0553, -3.9098, -5.6145, -5.175, -4.7905, -3.4902, -4.8052, -5.7493, -4.952, -5.1684, -4.4797, -3.9483, -4.6091, -5.2713, -5.6544, -5.2133, -5.5516, -5.3985, -5.3973, -3.7237, -4.151, -4.2036, -4.3805, -4.9238, -5.0291, -5.0927, -5.3289, -5.3978, -4.4118, -5.4718, -5.5518, -5.5518, -5.5518, -5.5728, -5.5728, -5.5129, -5.6386, -5.6616, -5.6631, -5.8116, -5.9258, -4.7615, -5.9574, -6.0209, -6.0209, -6.2028, -6.2435, -6.286, -6.3773, -5.4618, -4.7046, -5.0756, -5.0694, -4.4589, -5.8224, -5.3333, -5.0663, -4.7754, -4.3005, -4.1681, -5.2078, -4.7518, -5.4326, -5.3961, -5.404, -3.8668, -4.1013, -4.5114, -4.067, -4.8234, -4.6609, -4.9276, -5.1497, -5.4126, -5.4306, -5.546, -5.5666, -5.6764, -5.7486, -5.8538, -5.9108, -5.9727, -6.0357, -6.0696, -6.1409, -6.1409, -6.1785, -6.1423, -6.2583, -6.3008, -6.015, -6.3923, -6.4912, -6.7267, -6.7953, -5.5345, -5.0912, -4.8503, -5.4234, -4.6783, -3.2692, -5.5986, -5.3589, -5.36, -5.6816, -3.7892, -5.1519, -4.9229, -5.0702, -5.3352, -5.5682, -4.3856, -5.2797, -4.9886, -4.718, -5.4203, -5.4165, -5.4553, -5.2438, -5.2763, -4.3529, -4.9378, -5.7007, -5.8876, -6.0125, -6.0813, -6.1176, -6.1184, -6.1552, -6.2775, -6.3218, -6.3682, -6.3682, -6.3245, -6.4679, -6.4679, -6.5218, -6.5218, -6.5218, -6.5787, -6.6391, -6.6391, -6.7034, -6.7721, -6.8458, -6.8458, -6.9254, -6.9254, -6.9254, -6.9254, -6.8517, -6.24, -4.2098, -4.6423, -4.1127, -4.3892, -5.1851, -4.7894, -5.3657, -6.2261, -4.9865, -5.7841, -4.9788, -5.3196, -4.8981, -5.813, -4.8825, -4.2003, -4.9616, -4.8588, -4.7922, -5.3098, -5.5219, -4.6444, -5.5397, -5.393, -5.1513, -4.999, -5.013, -4.8639, -5.2664, -5.1427, -5.5002, -4.0974, -4.4938, -4.5788, -4.7545, -4.98, -4.9942, -5.2242, -5.3041, -5.709, -5.8423, -5.8423, -6.03, -6.065, -6.1013, -6.2187, -6.3055, -6.3055, -6.3519, -5.8953, -6.5624, -6.5624, -6.6871, -6.6871, -4.7509, -6.7558, -6.7558, -6.7558, -6.7558, -6.3733, -6.3296, -4.474, -6.0393, -6.0412, -4.7604, -4.5582, -5.7542, -5.3444, -4.7657, -5.5385, -5.4192, -4.6873, -5.7804, -5.3902, -4.9589, -4.2536, -5.3236, -5.259, -4.4288, -5.5818, -5.5833, -5.3603, -4.8558, -4.788, -5.5236, -4.9218, -5.198, -4.7645, -5.222, -5.0239, -5.2233, -5.3413]}, \"token.table\": {\"Topic\": [9, 2, 5, 9, 10, 11, 12, 13, 1, 5, 8, 12, 13, 14, 3, 7, 12, 2, 3, 5, 8, 9, 11, 12, 13, 14, 15, 2, 12, 14, 7, 1, 2, 3, 4, 7, 12, 15, 1, 4, 13, 14, 2, 6, 7, 9, 11, 12, 13, 15, 2, 5, 6, 7, 9, 10, 11, 12, 13, 14, 9, 10, 12, 14, 3, 7, 14, 5, 8, 9, 11, 12, 14, 8, 14, 4, 6, 3, 15, 2, 3, 3, 15, 10, 13, 12, 6, 14, 6, 4, 5, 9, 14, 15, 9, 1, 14, 2, 4, 14, 1, 3, 5, 7, 8, 12, 14, 15, 8, 11, 7, 6, 13, 10, 10, 10, 1, 3, 7, 8, 15, 4, 7, 15, 1, 15, 7, 13, 9, 5, 15, 10, 6, 10, 11, 11, 9, 6, 4, 6, 9, 2, 4, 5, 6, 10, 11, 12, 13, 5, 15, 7, 13, 2, 4, 7, 8, 15, 3, 7, 2, 4, 1, 14, 1, 1, 8, 11, 5, 5, 1, 5, 9, 12, 15, 2, 6, 7, 10, 12, 13, 4, 3, 11, 3, 15, 4, 11, 3, 5, 8, 10, 11, 1, 12, 1, 11, 12, 9, 11, 3, 12, 13, 12, 14, 8, 1, 6, 12, 2, 9, 1, 5, 1, 9, 10, 11, 13, 6, 2, 6, 10, 2, 4, 6, 7, 12, 14, 1, 4, 6, 12, 15, 9, 1, 2, 4, 6, 14, 15, 11, 7, 9, 14, 15, 6, 8, 6, 5, 4, 6, 8, 12, 1, 3, 4, 5, 6, 7, 8, 10, 11, 15, 14, 14, 8, 12, 5, 6, 6, 7, 6, 7, 8, 13, 15, 7, 13, 14, 1, 4, 6, 2, 12, 6, 7, 15, 4, 5, 11, 12, 13, 14, 15, 10, 12, 1, 4, 5, 6, 8, 14, 1, 4, 6, 8, 13, 15, 4, 5, 6, 11, 12, 13, 14, 2, 4, 14, 15, 1, 12, 3, 15, 9, 4, 6, 6, 11, 12, 9, 8, 7, 8, 10, 12, 14, 15, 1, 2, 6, 9, 10, 12, 13, 9, 2, 5, 12, 13, 8, 8, 12, 4, 11, 2, 5, 11, 8, 7, 6, 15, 5, 14, 4, 4, 1, 14, 15, 4, 6, 9, 13, 15, 1, 2, 4, 5, 8, 9, 11, 13, 1, 8, 9, 11, 13, 14, 8, 11, 8, 9, 10, 9, 11, 13, 3, 7, 14, 7, 3, 10, 12, 15, 15, 9, 14, 15, 7, 5, 3, 6, 8, 6, 4, 1, 6, 14, 1, 5, 7, 14, 8, 12, 4, 5, 7, 8, 13, 1, 2, 3, 4, 5, 6, 8, 9, 10, 11, 12, 13, 14, 15, 6, 7, 8, 9, 10, 11, 13, 15, 1, 2, 3, 5, 6, 7, 8, 10, 11, 13, 15, 4, 13, 1, 5, 13, 15, 7, 13, 5, 8, 10, 6, 6, 9, 11, 15, 11, 2, 1, 6, 12, 8, 14, 15, 5, 13, 5, 6, 7, 15, 9, 8, 3, 13, 11, 13, 12, 10, 15, 12, 13, 1, 5, 7, 8, 11, 14, 7, 1, 6, 2, 9, 11, 12, 13, 15, 5, 6, 15, 5, 13, 2, 2, 4, 6, 3, 13, 14, 4, 5, 4, 6, 1, 4, 6, 12, 13, 1, 10, 11, 12, 15, 9, 13, 6, 11, 15, 1, 9, 15, 5, 11, 5, 11, 13, 14, 1, 8, 4, 6, 6, 7, 15, 7, 9, 4, 11, 15, 3, 3, 10, 15, 6, 5, 6, 1, 3, 4, 7, 5, 11, 8, 12, 3, 4, 5, 8, 9, 11, 15, 13, 1, 3, 5, 6, 8, 9, 10, 11, 13, 14, 15, 8, 7, 11, 8, 11, 4, 10, 15, 3, 7, 8, 9, 13, 2, 8, 12, 3, 1, 3, 12, 3, 5, 9, 10, 3, 6, 12, 13, 13, 2, 6, 14, 7, 8, 10, 1, 3, 6, 10, 12, 14, 9, 11, 2, 3, 4, 5, 9, 10, 11, 13, 3, 5, 3, 13, 3, 15, 1, 4, 2, 4, 12, 14, 2, 6, 1, 2, 3, 4, 5, 6, 7, 8, 9, 10, 11, 12, 13, 14, 15, 3, 6, 10, 15, 9, 3, 7, 12, 7, 9, 13, 4, 12, 13, 14, 15, 4, 1, 2, 4, 5, 6, 11, 13, 3, 6, 10, 5, 3, 15, 3, 1, 2, 3, 6, 11, 15, 8, 12, 2, 11, 12, 13, 14, 2, 3, 4, 6, 7, 11, 13, 9, 2, 3, 5, 6, 7, 8, 12, 15, 3, 5, 2, 3, 3, 4, 5, 7, 8, 9, 12, 13, 14, 4, 5, 2, 8, 14, 1, 2, 4, 5, 6, 7, 8, 11, 12, 13, 14, 15, 2, 2, 6, 6, 8, 15, 3, 6, 1, 2, 3, 14, 5, 2, 13, 12, 11, 5, 14, 15, 5, 1, 15, 8, 13, 9, 8, 6, 8, 9, 10, 10, 10, 15, 1, 10, 14, 7, 14, 1, 2, 3, 4, 5, 6, 7, 9, 11, 12, 13, 14, 15, 1, 2, 3, 4, 7, 8, 9, 12, 13, 15, 15, 9, 3, 10, 14, 15, 10, 14, 4, 5, 1, 3, 15, 15, 5, 10, 6, 11, 4, 8, 2, 4, 3, 7, 8, 12, 14, 15, 4, 13, 2, 8, 9, 13, 15, 1, 9, 7, 5, 6, 11, 12, 13, 1, 2, 15, 8, 2, 14, 7, 1, 4, 6, 14, 3, 4, 6, 15, 1, 8, 11, 15, 1, 12, 1, 11, 12, 4, 5, 8, 12, 1, 8, 11, 15, 1, 5, 9, 5, 9, 14, 3, 8, 5, 15, 8, 7, 5, 8, 4, 13, 2, 3, 4, 5, 6, 7, 8, 9, 10, 11, 12, 13, 14, 15, 6, 3, 4, 10, 12, 13, 3, 7, 8, 9, 15, 3, 6, 9, 11, 13, 14, 3, 2, 3, 4, 5, 7, 8, 9, 10, 11, 13, 14, 15, 13, 10, 5, 13, 12, 15, 9, 7, 11, 13, 13, 1, 5, 8, 10, 1, 5, 7, 6, 8, 7, 8, 9, 11, 1, 15, 1, 5, 13, 15, 11, 6, 14, 4, 1, 6, 8, 14, 12, 4, 8, 9, 10, 11, 13, 14, 10, 1, 4, 6, 12, 15, 6, 13, 6, 8, 3, 3, 12, 15, 3, 14, 9, 6, 5, 8, 4, 5, 10, 11, 7, 14, 1, 3, 4, 7, 12, 7, 1, 2, 3, 7, 13, 14, 15, 9, 12, 14, 2, 11, 1, 3, 6, 8, 12, 13, 1, 3, 6, 1, 5, 11, 13, 15, 7, 7, 5, 10, 11, 8, 4, 7, 13, 14, 15, 5, 7, 11, 8, 3, 3, 7, 15, 3, 7, 5, 12, 3, 7, 10, 12, 14, 2, 14, 3, 4, 7, 8, 9, 11, 13, 14, 2, 4, 13, 1, 3, 12, 13, 14, 3, 7, 8, 14, 15, 14, 15, 5, 12, 2, 9, 13, 2, 4, 7, 14, 10, 13, 9, 3, 15, 2, 4, 7, 9, 11, 2, 3, 4, 6, 7, 8, 10, 11, 5, 8, 9, 10, 11, 13, 2, 3, 5, 6, 7, 10, 14, 5, 1, 3, 7, 8, 12, 14, 3, 15, 14, 1, 12, 7, 2, 13, 2, 10, 11, 12, 12, 5, 1, 2, 3, 7, 8, 9, 10, 11, 12, 13, 14, 15, 2, 4, 6, 10, 12, 10, 3, 15, 12, 13, 1, 1, 10, 14, 1, 2, 2, 2, 7, 8, 7, 12, 3, 8, 15, 5, 5, 6, 9, 14, 4, 7, 15, 1, 15, 12, 9, 13, 10, 8, 1, 2, 3, 6, 9, 12, 14, 10, 10, 14, 10, 13, 2, 6, 13, 12, 1, 2, 3, 5, 8, 11, 13, 14, 11, 1, 3, 12, 15, 13, 3, 5, 8, 9, 9, 10, 7, 8, 9, 4, 4, 14, 5, 11, 3, 15, 14, 5, 3, 7, 3, 7, 7, 15, 2, 9, 11, 12, 13, 12, 4, 2, 5, 8, 9, 11, 4, 6, 9, 11, 12, 15, 10, 5, 12, 1, 14, 4, 6, 2, 14, 10, 15, 12, 2, 5, 11, 13, 11, 3, 14, 11, 5, 3, 12, 1, 5, 6, 9, 11, 13, 14, 1, 3, 9, 15, 8, 9, 13, 5, 12, 5, 14, 3, 4, 7, 1, 10, 3, 4, 14, 10, 11, 6, 9, 3, 12, 5, 7, 1, 6, 10, 2, 3, 6, 13, 15, 4, 6, 12, 13, 1, 5, 13, 14, 8, 14, 15, 15, 8, 11, 12, 11, 2, 10, 15, 1, 4, 9, 11, 14, 15, 1, 1, 2, 13, 14, 13, 1, 2, 9, 11, 12, 13, 11, 2, 9, 15, 6, 10, 11, 12, 6, 9, 8, 13, 8, 13, 1, 1, 4, 6, 12, 15, 15, 1, 12, 10, 6, 7, 12, 4, 11, 13, 3, 8, 2, 6, 9, 14, 2, 2, 13, 2, 4, 9, 12, 14, 15, 10, 4, 14, 3, 15, 15, 1, 3, 4, 5, 11, 13, 14, 3, 5, 11, 11, 4, 6, 11, 13, 6, 9, 12, 14, 8, 4, 2, 7, 8, 11, 5, 8, 12, 1, 2, 3, 4, 5, 8, 10, 11, 13, 14, 15, 9, 5, 4, 9, 13, 14, 10, 3, 6, 7, 8, 7, 5, 7, 8, 3, 9, 2, 4, 6, 14, 15, 1, 11, 1, 2, 7, 12, 14, 2, 3, 5, 6, 9, 10, 11, 12, 13, 2, 9, 12, 13, 14, 4, 1, 8, 9, 12, 11, 4, 13, 2, 13, 1, 2, 4, 5, 6, 11, 13, 9, 15, 2, 1, 9, 9, 1, 2, 3, 4, 6, 9, 12, 13, 14, 1, 3, 4, 7, 8, 9, 10, 11, 12, 13, 14, 15, 4, 5, 5, 7, 9, 14, 1, 3, 12, 14, 1, 12, 14, 6, 3, 14, 4, 1, 2, 6, 9, 2, 4, 7, 1, 2, 3, 4, 5, 6, 8, 9, 10, 12, 14, 15, 3, 5, 6, 8, 2, 6, 10, 13, 10, 10, 3, 8, 12, 3, 12, 5, 6, 10, 4, 1, 3, 9, 10, 12, 13, 1, 5, 10, 13, 15, 13, 8, 13, 14, 1, 4, 10, 14, 1, 7, 8, 10, 12, 14, 15, 1, 4, 7, 12, 15, 2, 9, 10, 13, 10, 11, 3, 8, 10, 3, 2, 3, 5, 9, 13, 2, 12, 6, 2, 13, 5, 10, 11, 11, 4, 5, 6, 9, 4, 6, 7, 8, 15, 2, 10, 14, 1, 7, 8, 10, 2, 4, 13, 14, 15, 1, 7, 10, 15, 10, 2, 5, 14, 4, 2, 4, 6, 8, 9, 14, 14, 6, 9, 9, 3], \"Freq\": [0.9513400041206446, 0.018665749869151437, 0.4199793720559073, 0.17732462375693864, 0.07466299947660575, 0.05599724960745431, 0.1026616242803329, 0.1493259989532115, 0.03138070860949522, 0.008965916745570063, 0.004482958372785032, 0.6141652970715493, 0.03138070860949522, 0.30484116934938216, 0.007116375657496298, 0.9891762163919855, 0.9619376877719944, 0.007978631758041194, 0.015957263516082388, 0.08776494933845314, 0.04787179054824716, 0.53456832778876, 0.10372221285453552, 0.11170084461257672, 0.02393589527412358, 0.003989315879020597, 0.06382905406432955, 0.07762313181214538, 0.051748754541430256, 0.8538544499335992, 0.9807709115517014, 0.1587402943854588, 0.3360002897825545, 0.04233074516945568, 0.00793701471927294, 0.01058268629236392, 0.07672447561963842, 0.36245700551346427, 0.2535710836677948, 0.7376613343063121, 0.005762979174268063, 0.9727219892756845, 0.16726797024141044, 0.0038899527963118705, 0.1594880646487867, 0.4784641939463601, 0.038899527963118706, 0.1050287255004205, 0.011669858388935611, 0.031119622370494964, 0.03721982689668886, 0.049626435862251815, 0.024813217931125908, 0.22331896138013316, 0.45284122724304776, 0.043423131379470334, 0.024813217931125908, 0.024813217931125908, 0.049626435862251815, 0.06823634931059624, 0.1399833979668452, 0.027996679593369038, 0.011198671837347615, 0.817503044126376, 0.007044559653157613, 0.9897606312686446, 0.9169129743453689, 0.04336352309230759, 0.07805434156615366, 0.09539975080307671, 0.008672704618461518, 0.06070893232923063, 0.702489074095383, 0.98096033292733, 0.8983015915696175, 0.05257423184762789, 0.946336173257302, 0.7218607736191557, 0.2764573175562724, 0.11031732267038138, 0.8641523609179875, 0.9141290788074772, 0.05078494882263762, 0.9815306644566667, 0.9784811920535991, 0.9506093941231417, 0.12326337373094796, 0.87054757697482, 0.9281380915763334, 0.042937574948173164, 0.16101590605564936, 0.053671968685216453, 0.6225948367485108, 0.11807833110747619, 0.9923374463023196, 0.983188041082445, 0.9727284961540359, 0.9884782948041255, 0.9744478990554725, 0.9875980292904695, 0.47291164635192523, 0.0764301650669778, 0.004776885316686113, 0.02866131190011668, 0.11942213291715283, 0.05732262380023336, 0.02866131190011668, 0.20540606861750288, 0.9559879158166902, 0.9654648297504403, 0.9749027513082553, 0.08863366744509939, 0.886336674450994, 0.9951028055178476, 0.9678262892752989, 0.9885211278450134, 0.8152840332116852, 0.08502962309569723, 0.025008712675205068, 0.005001742535041013, 0.06502265295553318, 0.7970199308313191, 0.14681946094261142, 0.04194841741217469, 0.9377754325474567, 0.058006727786440615, 0.20872398857697466, 0.782714957163655, 0.9378609377880018, 0.9494292668444084, 0.9106487295147536, 0.9962997466441599, 0.06856343921650798, 0.9256064294228578, 0.9504675861073162, 0.9715470378391742, 0.9790081540058914, 0.8901985863974349, 0.8833323329249988, 0.10707058580909076, 0.005353529290454538, 0.10922366097069369, 0.15671220921882137, 0.4891320469557152, 0.0759816771970043, 0.009497709649625537, 0.023744274124063845, 0.13296793509475752, 0.004748854824812769, 0.8832035910649845, 0.09548146930432265, 0.9815747951229233, 0.9887632756480407, 0.24434572627835582, 0.013574762571019769, 0.013574762571019769, 0.006787381285509884, 0.7194624162640477, 0.012026469741769753, 0.97414404908335, 0.9617659904024132, 0.9855328187600148, 0.07791485796682185, 0.8960208666184513, 0.9752198871518857, 0.9782979784424634, 0.042824624743360316, 0.9492791818111536, 0.986936977633409, 0.9841977463316296, 0.9201740036320837, 0.00032140202711564223, 0.00032140202711564223, 0.05913797298927817, 0.01992692568116982, 0.1006903077185433, 0.7165403293459128, 0.042149431137994874, 0.01639144544255356, 0.12410665835076268, 0.9959214078694413, 0.944681082701126, 0.9943120244924682, 0.9318665542130745, 0.9838202856085146, 0.9803787919724184, 0.01991964136984414, 0.9561427857525187, 0.9854589455796642, 0.7284033582840699, 0.007832294175097525, 0.07832294175097526, 0.17231047185214557, 0.5993821739946703, 0.39694183708256314, 0.6916205827331771, 0.08233578365871155, 0.2223066158785212, 0.9234361902582882, 0.05957652840376052, 0.9832243016108215, 0.040146774207716576, 0.9434491938813395, 0.13960992969587058, 0.8376595781752235, 0.9137738485941704, 0.9421764486783409, 0.04980668451163036, 0.9962577690284494, 0.927566374101678, 0.06471393307686125, 0.9450006950761175, 0.042187531030183814, 0.9778552252561765, 0.07012220497997779, 0.8514839176140161, 0.07012220497997779, 0.9464319793767485, 0.9639760110915265, 0.009388604474529973, 0.9764148653511171, 0.9777533206235921, 0.34518307123702385, 0.005151986137866028, 0.05151986137866028, 0.08758376434372248, 0.005151986137866028, 0.4997426553730047, 0.09261991840423324, 0.209938481716262, 0.3210823838013419, 0.07409593472338659, 0.29638373889354636, 0.9766046159456521, 0.20884936171408494, 0.1357520851141552, 0.04176987234281699, 0.020884936171408495, 0.020884936171408495, 0.5638932766280293, 0.9679746758481987, 0.9627659640343361, 0.7848471113014962, 0.21085444781234225, 0.959161414292696, 0.8557323259234089, 0.09873834529885486, 0.9516185596268592, 0.9565108857713723, 0.02987293342585943, 0.22404700069394573, 0.6422680686559777, 0.08961880027757829, 0.008515488966128465, 0.21288722415321162, 0.025546466898385394, 0.08941263414434888, 0.03831970034757809, 0.055350678279835024, 0.17882526828869777, 0.16179429035644083, 0.14902105690724812, 0.08089714517822041, 0.9725760540592255, 0.9524321626808504, 0.09976688789197428, 0.872960269054775, 0.8362572013351657, 0.14200593984936777, 0.9820271035403054, 0.011553260041650653, 0.08507539661370184, 0.04253769830685092, 0.7316484108778357, 0.09358293627507201, 0.04253769830685092, 0.9659655520107697, 0.9315440830676206, 0.9674687452521432, 0.16076030455254214, 0.24649913364723128, 0.5787370963891517, 0.9953470159573036, 0.9740491581722321, 0.9281380916867794, 0.04729480919791291, 0.9364372221186756, 0.6333125143766135, 0.07036805715295706, 0.041392974795857095, 0.19040768406094263, 0.05381086723461422, 0.004139297479585709, 0.004139297479585709, 0.9557435795125274, 0.9860964281505353, 0.11226752972556377, 0.07681462560170152, 0.04136172147783928, 0.3722554933005535, 0.30134968505282905, 0.09454107766363265, 0.1624927860728477, 0.07428241649044466, 0.6035446339848629, 0.009285302061305583, 0.111423624735667, 0.04178385927587512, 0.5432911370759195, 0.02328390587468226, 0.058209764686705655, 0.031045207832909684, 0.1513453881854347, 0.14358408622720728, 0.04656781174936452, 0.9555255196975788, 0.940804650340033, 0.03618479424384743, 0.9338971385970639, 0.9967251440142973, 0.9651332100665616, 0.03390664541280458, 0.9154794261457236, 0.9923374460014033, 0.9234238406291304, 0.04197381093768775, 0.354539507120559, 0.6344391180052108, 0.9780169253476374, 0.9550836203624883, 0.9760288627124228, 0.11050144687872267, 0.027625361719680667, 0.06906340429920167, 0.09668876601888234, 0.6353833195526554, 0.041438042579521, 0.16280280143985035, 0.1472977727312932, 0.5310472332680833, 0.02713380023997506, 0.0038762571771392943, 0.10853520095990024, 0.019381285885696473, 0.9893630386799261, 0.9764993283732974, 0.1360414286683958, 0.1484088312746136, 0.7049419485544146, 0.9020304409995903, 0.9069281244868176, 0.07886331517276675, 0.8923013845761391, 0.09185455429460254, 0.8811990434925936, 0.10717285664099112, 0.9642152615425617, 0.9884223896213951, 0.9947763967457712, 0.9204325814072069, 0.9664364181038617, 0.9494292670388235, 0.94296187160316, 0.964228149543838, 0.9914815325705895, 0.8867021392119521, 0.07389184493432933, 0.03448286096935369, 0.13049260717305414, 0.011862964288459467, 0.7236408215960274, 0.023725928576918933, 0.09490371430767573, 0.04685944005025173, 0.008269312950044422, 0.5512875300029615, 0.17365557195093287, 0.008269312950044422, 0.049615877700266535, 0.1075010683505775, 0.05237231535028135, 0.07909605044324589, 0.016949153666409835, 0.67231642876759, 0.101694921998459, 0.062146896776836054, 0.06779661466563934, 0.9419623418772163, 0.04957696536195875, 0.8870848491158513, 0.0840396172846596, 0.0280132057615532, 0.1621472578282075, 0.7875723951655792, 0.046327787950916424, 0.011498320202089718, 0.977357217177626, 0.92457526722165, 0.9749027513208992, 0.7231752418354669, 0.2218833128358819, 0.04108950237701516, 0.008217900475403033, 0.9813641243858561, 0.032792931880205094, 0.1557664264309742, 0.8034268310650248, 0.9764812025746273, 0.9786356791882386, 0.9442490394109421, 0.8121081992469684, 0.17278897856318476, 0.9204325814067978, 0.9835713020968586, 0.05738043943855293, 0.16257791174256664, 0.7650725258473724, 0.8878385118299563, 0.05284753046606883, 0.010569506093213766, 0.042278024372855064, 0.1266791543494036, 0.863721506927752, 0.04763425233569275, 0.7383309112032377, 0.07145137850353914, 0.0952685046713855, 0.04763425233569275, 0.09604363201366664, 0.057339481799203965, 0.05303902066426367, 0.04587158543936317, 0.010034409314860694, 0.08744270974378605, 0.04443809839438307, 0.09317665792370644, 0.06450691702410447, 0.03153671498956218, 0.06594040406908457, 0.21072259561207457, 0.13044732109318902, 0.012901383404820893, 0.09832969606371308, 0.060510582193054205, 0.43113789812551123, 0.08320205051544953, 0.03781911387065888, 0.1588402782567673, 0.052946759418922434, 0.08320205051544953, 0.015049114168371416, 0.030098228336742833, 0.08653240646813565, 0.08653240646813565, 0.003762278542092854, 0.12415519188906418, 0.26335949794649977, 0.003762278542092854, 0.2445481052360355, 0.03386050687883568, 0.10910607772069277, 0.08180203805291436, 0.8998224185820579, 0.18783995223070415, 0.6976912511426154, 0.07155807704026824, 0.03577903852013412, 0.06972932347765362, 0.9064812052094972, 0.9128656570763545, 0.06520468979116817, 0.9844650024615583, 0.9466386135740094, 0.021301805046988892, 0.788166786738589, 0.10650902523494446, 0.07455631766446112, 0.9831029413481207, 0.995798847404402, 0.8622516698720076, 0.008134449715773658, 0.13015119545237852, 0.9864468823409436, 0.04567137270504873, 0.9590988268060233, 0.9306131552670838, 0.058163322204192736, 0.971564671958134, 0.8654827980227154, 0.09273029978814809, 0.030910099929382696, 0.9881839842211438, 0.9595801935904531, 0.004907330772220381, 0.991280815988517, 0.9930241672064, 0.9778872382286702, 0.9908778958462368, 0.9336190177021625, 0.05115720644943356, 0.06407758409469441, 0.9355327277825385, 0.013654500344234629, 0.054618001376938514, 0.020481750516351944, 0.7236885182444354, 0.16385400413081555, 0.020481750516351944, 0.9932250278575957, 0.9682264393946582, 0.9017171793222999, 0.010104732015016606, 0.12125678418019928, 0.1616757122402657, 0.03031419604504982, 0.07073312410511624, 0.6062839209009964, 0.03285686526319823, 0.11499902842119382, 0.837850064211555, 0.10565189050748144, 0.8836339933352994, 0.9917319712261875, 0.9795114972436847, 0.944610445204561, 0.9614788059661177, 0.9913743177602067, 0.9735076014920877, 0.9565747086335288, 0.7708352807532985, 0.21703129263927823, 0.9935282859268696, 0.9925520884674719, 0.07803672029507808, 0.6350574479185664, 0.2583284533906033, 0.02152737111588361, 0.005381842778970902, 0.29053743498583895, 0.2019926928949166, 0.32927575965061745, 0.0027670231903413234, 0.17155543780116203, 0.8636096366493045, 0.1205036702301355, 0.04061216934866785, 0.9340798950193605, 0.9193674758906287, 0.7291988624334743, 0.12906174556344677, 0.1355148328416191, 0.9351254650485756, 0.061463645590047224, 0.9565022555609662, 0.47936694438742683, 0.09430169397785446, 0.4164991484021905, 0.17493990106256807, 0.7997252620003112, 0.9409080228187957, 0.036188770108415216, 0.02441726912966509, 0.09766907651866036, 0.8790216886679432, 0.07814711666442398, 0.9117163610849465, 0.9654976284652781, 0.9329519786898145, 0.04910273572051655, 0.9785324919318522, 0.9895262812195824, 0.006800867912162079, 0.9901519975639738, 0.9466413213891289, 0.8838057344270637, 0.10877609039102322, 0.028103705964506478, 0.9180543948405449, 0.037471607952675304, 0.009367901988168826, 0.9932071893348419, 0.9928430482041555, 0.8704608542301815, 0.12089734086530297, 0.2726896041010604, 0.04351429852676496, 0.27849151057129573, 0.18856196028264816, 0.11313717616958889, 0.03771239205652963, 0.06672192440770627, 0.9678890816444328, 0.05820657093976508, 0.27225654149244954, 0.03943025773338925, 0.11453551055889258, 0.13894471772718114, 0.028164469809563747, 0.08073814678741607, 0.020653944527013416, 0.043185520374664416, 0.045063151695302, 0.157721030933557, 0.9328584604758423, 0.1537834994106108, 0.834824711086173, 0.913773848465525, 0.9600493813289362, 0.9619769383300805, 0.8433198668582044, 0.14293557065393295, 0.00749538038383709, 0.00749538038383709, 0.831987222605917, 0.0749538038383709, 0.0674584234545338, 0.8274378204802895, 0.15445505982298738, 0.011032504273070527, 0.9682185555635974, 0.9544168431476328, 0.03262963566316693, 0.008157408915791732, 0.02069410902820256, 0.3104116354230384, 0.5932311254751401, 0.07587839977007606, 0.992455455471718, 0.8722691445821906, 0.030078246364903128, 0.09023473909470937, 0.9647829433821961, 0.09189628792417222, 0.22974071981043057, 0.6739061114439296, 0.9846818098977014, 0.01025710218643439, 0.9891536891483238, 0.14266956234693035, 0.10512494067668551, 0.11263386501073448, 0.015017848668097931, 0.5631693250536725, 0.060071394672391726, 0.9933485309185507, 0.9747357837952629, 0.9849544186423602, 0.260977002173149, 0.2013251159621435, 0.17149917285664076, 0.14540147263932587, 0.16777092996845291, 0.029825943105502743, 0.018641214440939215, 0.8158253728632188, 0.17425396313583313, 0.7926950371346284, 0.2012225863495595, 0.9926607153735025, 0.977975064089025, 0.9638133371573454, 0.9541051779620846, 0.18744382005000867, 0.7380600414469092, 0.039050795843751804, 0.031240636675001446, 0.12628355364312702, 0.8629376165613679, 0.18647987275958353, 0.16384882024021657, 0.019915326217042898, 0.0678931575581008, 0.114965746798384, 0.08418751537204498, 0.0063366947054227405, 0.008147178906972096, 0.08237703117049563, 0.07604033646507288, 0.0009052421007746772, 0.03802016823253644, 0.054314526046480634, 0.007241936806197418, 0.08871372587591837, 0.007403543033301624, 0.17768503279923897, 0.7514596178801148, 0.0629301157830638, 0.9427822381914589, 0.00505292631537191, 0.8539445472978529, 0.13642901051504158, 0.9614637024213184, 0.9263762422001277, 0.968000134274871, 0.8290831442744359, 0.1353605133509283, 0.016920064168866038, 0.9082281839557158, 0.9551164698174294, 0.9620167441260229, 0.08243025470120295, 0.13188840752192474, 0.07418722923108266, 0.5110675791474584, 0.049458152820721774, 0.10715933111156384, 0.041215127350601476, 0.9417028821903485, 0.9782042754716117, 0.9817077302474221, 0.9565108858733395, 0.9692257009985522, 0.02178035283142814, 0.9853897839994759, 0.9603312542585288, 0.1955291076021695, 0.012614781135623837, 0.536128198264013, 0.12614781135623837, 0.11984042078842645, 0.9138360343648929, 0.9812886099724494, 0.3130399155739898, 0.18391095039971903, 0.02739099261272411, 0.031303991557398984, 0.4421688807482606, 0.04003273562142081, 0.020016367810710405, 0.10675396165712216, 0.4270158466284886, 0.07339334863927148, 0.18014731029639364, 0.14678669727854296, 0.9196194515422312, 0.9645566067210181, 0.09050110060747386, 0.052792308687693086, 0.44496374465341315, 0.007541758383956155, 0.15837692606307927, 0.11312637575934233, 0.12820989252725465, 0.9854330088612574, 0.9628476840673491, 0.20127966410924128, 0.7814386959535249, 0.13061373638673227, 0.052245494554692906, 0.09796030229004919, 0.07836824183203936, 0.013061373638673227, 0.47020945099223616, 0.006530686819336613, 0.05877618137402952, 0.07836824183203936, 0.28582714820883687, 0.6959269695519507, 0.10655281535448191, 0.8879401279540159, 0.9883908678791657, 0.053898282713252796, 0.07186437695100373, 0.035932188475501864, 0.04192088655475217, 0.023954792317001244, 0.059886980792503104, 0.005988698079250311, 0.07186437695100373, 0.3892653751512702, 0.053898282713252796, 0.08983047118875466, 0.09581916926800498, 0.9555299957434096, 0.9941701680891699, 0.9675827050324618, 0.0755267446187997, 0.02059820307785446, 0.8994548677329782, 0.9486996688813935, 0.9017171794092614, 0.09985263886044725, 0.7753263723281787, 0.04111579247194887, 0.0763579003050479, 0.9380531504268139, 0.9950073966061108, 0.979544875442423, 0.9799614137884478, 0.9804895986921515, 0.01666569885787572, 0.24998548286813582, 0.716625050888656, 0.9737121130447278, 0.3973050886456028, 0.5895494863773462, 0.959671721502045, 0.9226560455059171, 0.9886511694468506, 0.9239520655297816, 0.09743954611736913, 0.261548255367675, 0.5641236880479266, 0.07179756029700883, 0.9799333138035268, 0.7881022165212885, 0.21172895369228648, 0.1687300167223216, 0.8155284141578877, 0.9699668731375711, 0.12962734998814776, 0.8675061114591428, 0.17821699460193868, 0.17122809285284304, 0.002795560699638254, 0.020966705247286905, 0.017472254372739086, 0.12510134130881187, 0.19009812757540126, 0.08246904063932849, 0.005591121399276508, 0.11252131816043973, 0.043331190844392936, 0.029353387346201666, 0.020966705247286905, 0.00207117541328706, 0.10355877066435301, 0.020711754132870602, 0.006213526239861181, 0.6027120452665345, 0.00828470165314824, 0.026925280372731782, 0.018640578719583543, 0.09527406901120478, 0.11391464773078831, 0.9106487294080572, 0.9825250482755975, 0.8796337746434577, 0.07412644168343745, 0.02965057667337498, 0.01482528833668749, 0.9202003945621061, 0.06971215110318986, 0.9316809106405474, 0.0396459961974701, 0.06420985985494011, 0.8989380379691616, 0.021403286618313373, 0.9960876464396778, 0.682405244265121, 0.3117886029832018, 0.9466296153692625, 0.959986827044663, 0.9495839928565981, 0.9559837852868388, 0.9732941085103917, 0.9446214245234433, 0.0559177807444243, 0.023299075310176793, 0.4892805815137126, 0.09785611630274253, 0.28424871878415686, 0.046598150620353586, 0.9446104451924379, 0.9679452232105988, 0.9521199096943886, 0.6566345331075585, 0.07817077775089983, 0.1876098666021596, 0.07817077775089983, 0.010743480293808172, 0.9776567067365436, 0.9775465595901721, 0.2309398813911797, 0.5406092678020799, 0.013121584169953394, 0.002624316833990679, 0.2099453467192543, 0.07646956344181241, 0.8581584341803392, 0.05097970896120827, 0.9646704836789195, 0.9637206720168798, 0.023505382244314144, 0.9716787663418262, 0.9755845223456375, 0.10628601832763526, 0.04555115071184368, 0.8351044297171342, 0.001492332641345893, 0.9670315515921387, 0.031338985468263754, 0.9628196926876952, 0.8632538013718508, 0.003704951937218244, 0.11114855811654732, 0.01852475968609122, 0.013671002974873777, 0.984312214190912, 0.9682264381406733, 0.9133202177791818, 0.07873450153268809, 0.023199054545145224, 0.11599527272572611, 0.8583650181703733, 0.9839274967014033, 0.9586891282303527, 0.0035572880453816425, 0.012450508158835749, 0.023122372294980677, 0.997765988640038, 0.22587266802243947, 0.7573377692517088, 0.9494292669784888, 0.9120170994587862, 0.9374785758610281, 0.09194017535342859, 0.9010137184636002, 0.13172522323979047, 0.84680500654151, 0.9735234853057142, 0.9749027513299361, 0.04075564677771592, 0.957757699276324, 0.9869775731249891, 0.008891689847972875, 0.034303609066973335, 0.23069177097539567, 0.072037579040644, 0.07804071062736434, 0.108056368560966, 0.019724575213509666, 0.12949612422782433, 0.033446018840299, 0.012863853400115, 0.046309872240414, 0.020582165440184, 0.090046973800805, 0.059173725640529, 0.06517685722724934, 0.9640830286122869, 0.7074660241556133, 0.07860733601729038, 0.13101222669548396, 0.06987318757092478, 0.9617163673613647, 0.11954663534567894, 0.5690419842454317, 0.18171088572543198, 0.09085544286271599, 0.0334730578967901, 0.9702868205212003, 0.15857400410039102, 0.6995911945605486, 0.027983647782421947, 0.046639412970703245, 0.06529517815898454, 0.9658505039355533, 0.046072841318313115, 0.055287409581975734, 0.07371654610930098, 0.0829311143729636, 0.07371654610930098, 0.1228609101821683, 0.26415095689166185, 0.1197893874276141, 0.07064502335474677, 0.015357613772771037, 0.02457218203643366, 0.046072841318313115, 0.9938640421202928, 0.9954216287775418, 0.996262747645582, 0.9582100668892148, 0.979962844789086, 0.9865693596187673, 0.983776465449993, 0.21367365355482493, 0.07396395699974709, 0.7067667002198056, 0.9917796104444101, 0.009189428284858909, 0.6892071213644181, 0.18378856569717816, 0.10108371113344798, 0.09582623985750914, 0.711852067512925, 0.19165247971501828, 0.7448282957459065, 0.24827609858196883, 0.007127599237521588, 0.1853175801755613, 0.19957277865060447, 0.605845935189335, 0.9869769080907377, 0.9913374054023713, 0.13229694289305732, 0.7937816573583439, 0.02204949048217622, 0.04409898096435244, 0.983176299056554, 0.974634943232388, 0.960323242848468, 0.9865202441380289, 0.020652111228457327, 0.9396710608948083, 0.020652111228457327, 0.010326055614228663, 0.978016925285101, 0.020531185070655145, 0.7322789341867002, 0.05246858406945204, 0.04106237014131029, 0.08896846863950564, 0.0022812427856283494, 0.06159355521196544, 0.9943456467319924, 0.9541880853210356, 0.8429979071657263, 0.1462343308348709, 0.8894084558174548, 0.0961522654937789, 0.973636071924275, 0.9935489044543032, 0.03674814160016599, 0.9187035400041499, 0.977400138575098, 0.9195052035758582, 0.03997848711199383, 0.026652324741329222, 0.9607044710979371, 0.979920408647499, 0.9884855548822064, 0.9908679814754641, 0.9787515112717985, 0.9239520653830475, 0.0644500666086386, 0.02864447404828382, 0.1933501998259158, 0.7089507326950246, 0.9901226189669172, 0.94296187160316, 0.3945655690055624, 0.46448858123439624, 0.0049945008734881315, 0.0799120139758101, 0.049945008734881315, 0.9909527506655459, 0.0015704644033736118, 0.043973003294461126, 0.21986501647230564, 0.02512743045397779, 0.7051385171147516, 0.0031409288067472236, 0.0015704644033736118, 0.8552317347372704, 0.05898149894739796, 0.07864199859653061, 0.9857549684977248, 0.9839538287197075, 0.21821803204683043, 0.49386186200072146, 0.07656773054274751, 0.1569638476126324, 0.045940638325648514, 0.003828386527137376, 0.6663669631527375, 0.3308535271597508, 0.9791416482755685, 0.25610004722560387, 0.008536668240853463, 0.15366002833536233, 0.5122000944512077, 0.0682933459268277, 0.9845878600795919, 0.9786494624049712, 0.07312878943102027, 0.14625757886204055, 0.7678522890257128, 0.9593302611499528, 0.6088676940096005, 0.2185678901572925, 0.07285596338576417, 0.052039973846974404, 0.04510131066737782, 0.9414633092692263, 0.09377186398630491, 0.8908327078698967, 0.9137738484724304, 0.9819671788540535, 0.12460666664599239, 0.8618627776347807, 0.010383888887166032, 0.044148142708275266, 0.952338506992795, 0.9567875676993151, 0.9812886099622772, 0.7299923513126994, 0.0029674485825719487, 0.008902345747715845, 0.02373958866057559, 0.23442843802318394, 0.9873349825461123, 0.9565493422266934, 0.1827416097089164, 0.4548235619421919, 0.0771575685437647, 0.004060924660198142, 0.048731095922377704, 0.028426472621386995, 0.004060924660198142, 0.19492438368951082, 0.9587270214741321, 0.8875767569402692, 0.11222234857865472, 0.30613152041939073, 0.030396037488450142, 0.06296322051178958, 0.579695857815442, 0.019540309814003662, 0.017656981535900923, 0.008828490767950462, 0.02648547230385138, 0.07945641691155414, 0.8740205860270956, 0.03388089266034344, 0.9147841018292728, 0.8921003886636403, 0.10584241899399122, 0.685958753154025, 0.13595578891341037, 0.17303464043524955, 0.11651625582342749, 0.046606502329371, 0.0233032511646855, 0.8156137907639924, 0.9884562680543445, 0.9506624179885584, 0.9777401225083241, 0.9964720708355321, 0.9550276686606537, 0.24170694694770797, 0.22237039119189134, 0.019336555755816637, 0.05800966726744991, 0.4447407823837827, 0.0919709271276459, 0.1465023617962501, 0.05941484672847921, 0.06999557285820839, 0.21242842460456265, 0.06999557285820839, 0.16033869596589595, 0.18801136430518764, 0.06460036125606322, 0.0922862303658046, 0.11997209947554599, 0.018457246073160922, 0.2122583298413506, 0.47988839790218396, 0.005942831350433437, 0.1812563561882198, 0.20502768158995355, 0.0326855724273839, 0.026742741076950464, 0.023771325401733746, 0.5229691588381424, 0.9850211866911425, 0.0032120283484013555, 0.7516146335259173, 0.06745259531642847, 0.03854434018081627, 0.12205707723925152, 0.01606014174200678, 0.07337206507772884, 0.880464780932746, 0.9674687452641719, 0.9897426985867109, 0.9820857552167771, 0.9865311110477275, 0.9928915086809476, 0.9900989454545379, 0.12858920660238762, 0.1636589902212206, 0.023379855745888658, 0.6663258887578268, 0.9877172439877968, 0.9601700887360861, 0.038809121446870036, 0.02686785330937156, 0.05970634068749236, 0.023882536274996945, 0.005970634068749236, 0.050750389584368505, 0.035823804412495414, 0.40600311667494804, 0.035823804412495414, 0.0656769747562416, 0.2328547286812202, 0.017911902206247707, 0.010248929695599093, 0.07174250786919364, 0.22547645330318003, 0.6149357817359455, 0.07174250786919364, 0.9675935021782307, 0.9682185555812247, 0.9106487296140288, 0.9812886099517294, 0.9954063722414126, 0.9925863641280882, 0.9897790261841655, 0.00464684988818857, 0.00464684988818857, 0.9819152026184278, 0.9697219098283418, 0.9945467344752883, 0.9483860600651962, 0.04360395678460672, 0.9137740014674484, 0.9863380487100007, 0.9584757100719085, 0.9549602167113452, 0.9239520656824105, 0.9869343509333978, 0.9904191470663661, 0.956510886144283, 0.8596826197518609, 0.027291511738154313, 0.0955202910835401, 0.07391176291171965, 0.1478235258234393, 0.7686823342818844, 0.9951191531216179, 0.959161414092348, 0.990229292234133, 0.9905523730784817, 0.9868810295607076, 0.9901391065408156, 0.9922642988594808, 0.9900211735228425, 0.02917147251478123, 0.043757208772171846, 0.6855296040973589, 0.17502883508868738, 0.014585736257390614, 0.043757208772171846, 0.9955407457512427, 0.9959204489116787, 0.9752870147781233, 0.9985582653416853, 0.9759889494101865, 0.7138320470746047, 0.14021700924679736, 0.14021700924679736, 0.9944893390255515, 0.11837315590698734, 0.37625753127578115, 0.054958965242529835, 0.16064928301662568, 0.14373883217277034, 0.07186941608638517, 0.05918657795349367, 0.016910450843855333, 0.990937395524026, 0.9748984379006972, 0.9232050252114166, 0.05201155071613615, 0.013002887679034037, 0.9796273884997596, 0.12074910160551708, 0.8781752844037606, 0.9809603329375246, 0.9866381909476106, 0.9918357573330792, 0.00826529797777566, 0.9627659640039516, 0.9671668171178786, 0.9764192361969091, 0.9725008781542032, 0.9770196627636147, 0.9374785756700723, 0.9930692619872725, 0.938755991262933, 0.32996773489386527, 0.6681846631600772, 0.9674687451691455, 0.9642683723685022, 0.00525675365447546, 0.9882696870413865, 0.030117637266483113, 0.9637643925274596, 0.9838409106652657, 0.9753995813971853, 0.6524950293842893, 0.06835662212597317, 0.21128410475300796, 0.012428476750176939, 0.043499668625619284, 0.976685183915874, 0.9725008781483447, 0.1800850084572777, 0.15007084038106475, 0.630297529600472, 0.03001416807621295, 0.015007084038106475, 0.17508553487159784, 0.5252566046147935, 0.02918092247859964, 0.0680888191167325, 0.05836184495719928, 0.136177638233465, 0.9832567925934392, 0.956787568159599, 0.9970653140946983, 0.9980142584243605, 0.9524321626933846, 0.2502188756404917, 0.7339753685454424, 0.9814517103841566, 0.010905019004268407, 0.9808563583237633, 0.011817546485828473, 0.9838214259771608, 0.1386051032079835, 0.680425052111919, 0.12600463927998498, 0.050401855711993994, 0.9747898684572409, 0.9140517035165736, 0.0507806501953652, 0.9907238124698591, 0.9784040968134332, 0.01918439898649173, 0.9688121488178323, 0.22137408060294908, 0.028564397497154722, 0.06426989436859812, 0.014282198748577361, 0.0071410993742886805, 0.028564397497154722, 0.6355578443116925, 0.23259013802199013, 0.012241586211683692, 0.06120793105841846, 0.6855288278542867, 0.006644772037399236, 0.9103337691236953, 0.07973726444879083, 0.965074241677585, 0.9756257915218955, 0.9565108857673367, 0.9674687456747493, 0.11468318271502072, 0.8792377341484922, 0.9901226189792022, 0.871052183000994, 0.11976967516263667, 0.16865681011086617, 0.07784160466655361, 0.7394952443322593, 0.9922863292833247, 0.9937801379188459, 0.928138091788733, 0.9378609378624074, 0.9673785299000018, 0.01994594907010313, 0.835847147040523, 0.1595128143207105, 0.26579787219264056, 0.7268758137513027, 0.9938665886957205, 0.759635004323413, 0.013564910791489517, 0.04069473237446855, 0.10851928633191614, 0.06782455395744759, 0.974447898982271, 0.14869820081919008, 0.10904534726740606, 0.7335777907080043, 0.309218243616121, 0.12147859570633325, 0.5521754350287875, 0.931385597689085, 0.09418991012330678, 0.015698318353884463, 0.8634075094636455, 0.933897138700916, 0.8571268936483596, 0.07792062669530542, 0.025973542231768475, 0.9793973997099436, 0.038386054309958575, 0.9404583305939851, 0.9106487301959136, 0.08611891389803245, 0.7535404966077839, 0.06458918542352433, 0.0753540496607784, 0.010764864237254056, 0.919367475533167, 0.9693280172093195, 0.9372024174087759, 0.9522659005612629, 0.026451830571146192, 0.8983015916304397, 0.9506534237912148, 0.9984181674390584, 0.0534979944279239, 0.0534979944279239, 0.0076425706325605565, 0.04585542379536334, 0.8406827695816612, 0.9910515340033358, 0.948854823956221, 0.0271101378273206, 0.9876744950985178, 0.14600383083684743, 0.01990961329593374, 0.7963845318373496, 0.036500957709211856, 0.949712693788851, 0.050651343668738726, 0.9137738485547797, 0.9784472813362304, 0.7642624185212725, 0.20112168908454542, 0.9655110632846766, 0.006135015745231684, 0.7055268107016437, 0.0368100944713901, 0.116565299159402, 0.14110536214032873, 0.9929283128537562, 0.03743560565620544, 0.935890141405136, 0.9713104093301004, 0.24644370927431344, 0.751653313286656, 0.9941770684858713, 0.040625030041660834, 0.8937506609165383, 0.06093754506249125, 0.9486898942958989, 0.9137738482876537, 0.13678740017270521, 0.13678740017270521, 0.09119160011513681, 0.6231426007867682, 0.9571912545974979, 0.9571912545051727, 0.9582773264135055, 0.1133019915960314, 0.008715537815079338, 0.566509957980157, 0.004357768907539669, 0.021788844537698346, 0.2788972100825388, 0.9679437482466838, 0.040294839472730985, 0.9267813078728127, 0.9703280793166851, 0.9734617174563305, 0.962819692766437, 0.009886166366530644, 0.03954466546612258, 0.18783716096408223, 0.5931699819918387, 0.03954466546612258, 0.03954466546612258, 0.0889754972987758, 0.2275566797168229, 0.7522012468417201, 0.012642037762045717, 0.9655246852973584, 0.9780613284696826, 0.1366627036280207, 0.015184744847557854, 0.8503457114632398, 0.10499786680396213, 0.839982934431697, 0.052498933401981064, 0.9245752670440028, 0.9979239061212586, 0.9961623441678709, 0.1959871074082171, 0.2786972628281986, 0.5232316353742309, 0.9747087435987157, 0.04102066532268376, 0.9024546370990427, 0.9628460937804909, 0.004249267080569422, 0.10906452173461517, 0.0070821118009490374, 0.015580645962087882, 0.12039590061613363, 0.154390037260689, 0.0028328447203796146, 0.5169941614692797, 0.05099120496683306, 0.005665689440759229, 0.012747801241708266, 0.994801887619717, 0.9891121941056269, 0.04192306440674258, 0.06707690305078813, 0.06707690305078813, 0.8216920623721546, 0.9834613929557889, 0.8337992380604082, 0.0772036331537415, 0.0463221798922449, 0.0463221798922449, 0.9847837184034098, 0.06316198323343052, 0.18948594970029153, 0.7474168015955943, 0.16597588950811298, 0.829879447540565, 0.0328168525218124, 0.049225278782718596, 0.049225278782718596, 0.1312674100872496, 0.7055623292189666, 0.006287169830393953, 0.9870856633718506, 0.9716150623385762, 0.9987324355819236, 0.01646149463704621, 0.8806899630819723, 0.09053822050375417, 0.044448382450261864, 0.1333451473507856, 0.16890385331099508, 0.044448382450261864, 0.017779352980104746, 0.0977864413905761, 0.008889676490052373, 0.4622631774827234, 0.017779352980104746, 0.8004925516092952, 0.02320268265534189, 0.11601341327670946, 0.02320268265534189, 0.034804023983012834, 0.9837702313186601, 0.013286862635183545, 0.8104986207461962, 0.02657372527036709, 0.146155488987019, 0.9898944345259287, 0.7759254863936342, 0.2151080556338788, 0.20581500253724394, 0.7775233429184771, 0.005727958216520287, 0.011455916433040574, 0.5957076545181098, 0.005727958216520287, 0.11455916433040574, 0.005727958216520287, 0.2634860779599332, 0.03001064984602806, 0.9603407950728979, 0.9840788444115215, 0.9754325577975665, 0.9427822382196829, 0.9745222960948049, 0.03180825538806533, 0.4453155754329146, 0.038169906465678395, 0.04453155754329146, 0.13995632370748745, 0.08906311508658292, 0.025446604310452262, 0.04453155754329146, 0.13359467262987437, 0.22401455208916715, 0.04935913859591818, 0.04746071018838287, 0.16136641464050175, 0.03607013974317098, 0.06644499426373601, 0.04935913859591818, 0.102515134006907, 0.02467956929795909, 0.02467956929795909, 0.03607013974317098, 0.18224912712339023, 0.9664596555367103, 0.9628476841892527, 0.05442698695410516, 0.8844385380042088, 0.05442698695410516, 0.9374785758272723, 0.2471504488053669, 0.12357522440268345, 0.032519795895443016, 0.5918602852970628, 0.29885005838937817, 0.02846191032279792, 0.6688548925857511, 0.9561540400452665, 0.9454811233988405, 0.04848621145635079, 0.9330045070384656, 0.9905900485266607, 0.9617659903475284, 0.9228797324202184, 0.051271096245567686, 0.8227884704348354, 0.013713141173913923, 0.16455769408696708, 0.12162733300480255, 0.049643809389715327, 0.11666295206583101, 0.2358080946011478, 0.03971504751177226, 0.06205476173714416, 0.09928761877943065, 0.054608190328686856, 0.009928761877943065, 0.04716161892022956, 0.07446571408457299, 0.08687666643200181, 0.06666158668597447, 0.08888211558129928, 0.04444105779064964, 0.7777185113363687, 0.9403314214679929, 0.01843787100917633, 0.02950059361468213, 0.0073751484036705325, 0.9774297886108758, 0.9859284603337259, 0.7351846672571817, 0.006283629634676767, 0.2513451853870707, 0.9549602171793027, 0.9740793030261378, 0.9115037265517132, 0.005330431149425223, 0.07995646724137835, 0.9816652564720686, 0.8180410037179306, 0.00996092546384086, 0.00498046273192043, 0.0336181234404629, 0.127001799663971, 0.00498046273192043, 0.21079220486300473, 0.05579793658138361, 0.06509759267828087, 0.15809415364725354, 0.5083811999637173, 0.9506624180399789, 0.03036936228250797, 0.8351574627689692, 0.10629276798877789, 0.6693392300973441, 0.07197196022552087, 0.02878878409020835, 0.2303102727216668, 0.6395071814116697, 0.041111175947893056, 0.21012378817812005, 0.03654326750923827, 0.02283954219327392, 0.031975359070583485, 0.009135816877309567, 0.8948201525239317, 0.00972630600569491, 0.03890522402277964, 0.03890522402277964, 0.00972630600569491, 0.03734829223270765, 0.8216624291195683, 0.0746965844654153, 0.062247153721179414, 0.9953996131512506, 0.983175790174168, 0.0681301292875424, 0.8175615514505089, 0.09084017238338987, 0.9919218822417025, 0.10470093195139105, 0.7067312906718896, 0.06980062130092737, 0.10470093195139105, 0.008725077662615922, 0.9961682981114182, 0.9914788947239612, 0.9116990832311254, 0.9721193456024451, 0.9963129522598982, 0.07088193899389758, 0.29641538124720807, 0.6314936383092694, 0.9292159851958718, 0.002149988436550507, 0.7245461031175209, 0.12899930619303043, 0.13974924837578295, 0.08212372737786569, 0.6644556124209133, 0.10452110757182907, 0.13438428116378023, 0.01493158679597558, 0.33310919239611025, 0.6087857654135809, 0.05551819873268504, 0.02684755400933004, 0.16108532405598025, 0.7606806969310178, 0.05369510801866008, 0.13469948748829919, 0.20204923123244878, 0.500312382099397, 0.03848556785379977, 0.11545670356139931, 0.04193232956665628, 0.013977443188885427, 0.09085338072775527, 0.8456353129275683, 0.9713104093733756, 0.11194928918247062, 0.8843993845415179, 0.8983105735290721, 0.995898287492354, 0.004328970104611128, 0.12121116292911158, 0.03463176083688902, 0.004328970104611128, 0.004328970104611128, 0.8311622600853366, 0.9944711744109969, 0.9204325812564274, 0.9872680748916777, 0.9911617384843713, 0.9486996686877949], \"Term\": [\"...\", \"1\", \"1\", \"1\", \"1\", \"1\", \"1\", \"1\", \"10\", \"10\", \"10\", \"10\", \"10\", \"10\", \"1000\", \"1000\", \"15000\", \"2\", \"2\", \"2\", \"2\", \"2\", \"2\", \"2\", \"2\", \"2\", \"2\", \"20\", \"20\", \"20\", \"2000\", \"2016\", \"2016\", \"2016\", \"2016\", \"2016\", \"2016\", \"2016\", \"2017\", \"2017\", \"2017\", \"21\", \"3\", \"3\", \"3\", \"3\", \"3\", \"3\", \"3\", \"3\", \"4\", \"4\", \"4\", \"4\", \"4\", \"4\", \"4\", \"4\", \"4\", \"4\", \"5\", \"5\", \"5\", \"5\", \"500\", \"500\", \"5s\", \"6\", \"6\", \"6\", \"6\", \"6\", \"6\", \"6s\", \"aadhaar\", \"abroad\", \"abroad\", \"account\", \"account\", \"accounts\", \"accounts\", \"acne\", \"acne\", \"add\", \"advantages\", \"africa\", \"age\", \"age\", \"agriculture\", \"air\", \"air\", \"air\", \"air\", \"air\", \"alcohol\", \"algorithms\", \"alternatives\", \"america\", \"anal\", \"ancient\", \"android\", \"android\", \"android\", \"android\", \"android\", \"android\", \"android\", \"android\", \"angel\", \"anger\", \"animal\", \"animals\", \"animals\", \"answer\", \"answered\", \"answers\", \"app\", \"app\", \"app\", \"app\", \"app\", \"apple\", \"apple\", \"apple\", \"apps\", \"apps\", \"army\", \"army\", \"arnab\", \"arranged\", \"arts\", \"ask\", \"asked\", \"asked\", \"astrology\", \"atheist\", \"attack\", \"auckland\", \"average\", \"average\", \"average\", \"bad\", \"bad\", \"bad\", \"bad\", \"bad\", \"bad\", \"bad\", \"bad\", \"balance\", \"balance\", \"ban\", \"bang\", \"bank\", \"bank\", \"bank\", \"bank\", \"bank\", \"banning\", \"banning\", \"barack\", \"battle\", \"bay\", \"bay\", \"beginner\", \"beginners\", \"believe\", \"believe\", \"belly\", \"benefits\", \"best\", \"best\", \"best\", \"best\", \"best\", \"better\", \"better\", \"better\", \"better\", \"better\", \"big\", \"bits\", \"black\", \"blind\", \"blocked\", \"blogs\", \"blowing\", \"blowing\", \"blue\", \"body\", \"body\", \"body\", \"body\", \"book\", \"book\", \"books\", \"books\", \"books\", \"born\", \"born\", \"boys\", \"break\", \"break\", \"british\", \"british\", \"burning\", \"business\", \"business\", \"buy\", \"buying\", \"buying\", \"c\", \"c\", \"c++\", \"california\", \"california\", \"california\", \"cambodia\", \"campus\", \"canada\", \"canada\", \"candy\", \"card\", \"card\", \"card\", \"card\", \"card\", \"card\", \"career\", \"career\", \"career\", \"career\", \"career\", \"caste\", \"cat\", \"cat\", \"cat\", \"cat\", \"cat\", \"cat\", \"cats\", \"cells\", \"center\", \"center\", \"centre\", \"century\", \"century\", \"ceo\", \"cgpa\", \"chance\", \"chance\", \"chance\", \"chance\", \"change\", \"change\", \"change\", \"change\", \"change\", \"change\", \"change\", \"change\", \"change\", \"change\", \"channel\", \"channels\", \"character\", \"character\", \"chemical\", \"chemical\", \"china\", \"china\", \"chinese\", \"chinese\", \"chinese\", \"chinese\", \"chinese\", \"chip\", \"christ\", \"citizenship\", \"civil\", \"civil\", \"civil\", \"clinton\", \"cloud\", \"coast\", \"code\", \"code\", \"college\", \"college\", \"college\", \"college\", \"college\", \"college\", \"college\", \"comment\", \"commit\", \"companies\", \"companies\", \"companies\", \"companies\", \"companies\", \"companies\", \"company\", \"company\", \"company\", \"company\", \"company\", \"company\", \"compare\", \"compare\", \"compare\", \"compare\", \"compare\", \"compare\", \"compare\", \"competitive\", \"completing\", \"completing\", \"complex\", \"computer\", \"computing\", \"confidence\", \"confidence\", \"cons\", \"contrast\", \"contrast\", \"control\", \"control\", \"cool\", \"cope\", \"corporate\", \"correct\", \"correct\", \"correct\", \"correct\", \"correct\", \"correct\", \"country\", \"country\", \"country\", \"country\", \"country\", \"country\", \"country\", \"county\", \"couples\", \"courses\", \"courses\", \"courses\", \"craziest\", \"cream\", \"cream\", \"created\", \"created\", \"credit\", \"credit\", \"cry\", \"culture\", \"currency\", \"curve\", \"cutoff\", \"cyber\", \"cyrus\", \"dangerous\", \"dark\", \"data\", \"data\", \"data\", \"date\", \"date\", \"date\", \"date\", \"date\", \"day\", \"day\", \"day\", \"day\", \"day\", \"day\", \"day\", \"day\", \"days\", \"days\", \"days\", \"days\", \"days\", \"days\", \"dead\", \"dead\", \"deal\", \"deal\", \"deal\", \"death\", \"death\", \"death\", \"decision\", \"decision\", \"define\", \"definition\", \"delete\", \"delete\", \"delete\", \"delete\", \"deleted\", \"delhi\", \"delhi\", \"delhi\", \"demonetization\", \"departments\", \"depressed\", \"depression\", \"depression\", \"described\", \"desert\", \"design\", \"design\", \"design\", \"development\", \"development\", \"development\", \"development\", \"die\", \"die\", \"differ\", \"differ\", \"differ\", \"differ\", \"differ\", \"difference\", \"difference\", \"difference\", \"difference\", \"difference\", \"difference\", \"difference\", \"difference\", \"difference\", \"difference\", \"difference\", \"difference\", \"difference\", \"difference\", \"differences\", \"differences\", \"differences\", \"differences\", \"differences\", \"differences\", \"differences\", \"differences\", \"different\", \"different\", \"different\", \"different\", \"different\", \"different\", \"different\", \"different\", \"different\", \"different\", \"different\", \"difficult\", \"difficult\", \"digital\", \"digital\", \"digital\", \"digital\", \"disadvantages\", \"disadvantages\", \"disorder\", \"disorder\", \"distance\", \"dna\", \"dog\", \"dog\", \"dog\", \"dog\", \"dogs\", \"donald\", \"download\", \"download\", \"download\", \"dream\", \"dress\", \"dress\", \"drink\", \"drink\", \"drinking\", \"drive\", \"drive\", \"drive\", \"drug\", \"drugs\", \"earn\", \"earn\", \"earth\", \"earthquake\", \"easiest\", \"easily\", \"easily\", \"easy\", \"easy\", \"eat\", \"eat\", \"eat\", \"eat\", \"eat\", \"eat\", \"economy\", \"editing\", \"edmonton\", \"education\", \"education\", \"education\", \"education\", \"education\", \"education\", \"effective\", \"effective\", \"effective\", \"effects\", \"effects\", \"election\", \"elections\", \"electoral\", \"electronics\", \"email\", \"embarrassing\", \"empire\", \"employees\", \"employees\", \"energy\", \"engineer\", \"engineering\", \"engineering\", \"engineering\", \"engineering\", \"engineering\", \"english\", \"english\", \"english\", \"english\", \"english\", \"enjoy\", \"enjoy\", \"environment\", \"environment\", \"equity\", \"exam\", \"exam\", \"exam\", \"examples\", \"examples\", \"exercises\", \"exist\", \"exist\", \"exist\", \"existence\", \"existence\", \"expanding\", \"expanding\", \"expected\", \"expected\", \"expected\", \"experiences\", \"experiences\", \"experiment\", \"eye\", \"eye\", \"eyes\", \"facebook\", \"facebook\", \"facts\", \"faith\", \"fall\", \"fall\", \"family\", \"family\", \"family\", \"family\", \"fat\", \"favorite\", \"favourite\", \"favourite\", \"feel\", \"feel\", \"feel\", \"feel\", \"feel\", \"feel\", \"feel\", \"fighter\", \"find\", \"find\", \"find\", \"find\", \"find\", \"find\", \"find\", \"find\", \"find\", \"find\", \"find\", \"fitness\", \"flat\", \"flat\", \"flow\", \"fluently\", \"flying\", \"follow\", \"follow\", \"food\", \"food\", \"food\", \"food\", \"food\", \"foreign\", \"foreign\", \"foreign\", \"forgot\", \"free\", \"free\", \"free\", \"friend\", \"friend\", \"friend\", \"friend\", \"friends\", \"functions\", \"functions\", \"functions\", \"funding\", \"future\", \"future\", \"future\", \"g\", \"g\", \"gain\", \"game\", \"game\", \"game\", \"game\", \"game\", \"game\", \"gay\", \"german\", \"gifts\", \"girl\", \"girl\", \"girl\", \"girl\", \"girl\", \"girl\", \"girl\", \"girlfriend\", \"girlfriend\", \"girls\", \"girls\", \"gmail\", \"gmat\", \"goa\", \"gobi\", \"going\", \"going\", \"going\", \"going\", \"gold\", \"gold\", \"good\", \"good\", \"good\", \"good\", \"good\", \"good\", \"good\", \"good\", \"good\", \"good\", \"good\", \"good\", \"good\", \"good\", \"good\", \"google\", \"google\", \"google\", \"google\", \"goswami\", \"government\", \"government\", \"government\", \"gps\", \"grades\", \"grads\", \"graduate\", \"graduate\", \"graduate\", \"grammatically\", \"graphics\", \"gravitational\", \"great\", \"great\", \"great\", \"great\", \"great\", \"great\", \"great\", \"grey\", \"growth\", \"gym\", \"habit\", \"hack\", \"hack\", \"hacker\", \"hacking\", \"hair\", \"hair\", \"hair\", \"hair\", \"hair\", \"hamsters\", \"handling\", \"happen\", \"happen\", \"happen\", \"happen\", \"happen\", \"happens\", \"happens\", \"happens\", \"happens\", \"happens\", \"happens\", \"happens\", \"happiness\", \"harassment\", \"hard\", \"hard\", \"hard\", \"hard\", \"hard\", \"hard\", \"hard\", \"harry\", \"harvard\", \"hate\", \"hate\", \"having\", \"having\", \"having\", \"having\", \"having\", \"having\", \"having\", \"having\", \"having\", \"health\", \"health\", \"heat\", \"heat\", \"height\", \"high\", \"high\", \"high\", \"high\", \"high\", \"high\", \"high\", \"high\", \"high\", \"high\", \"high\", \"high\", \"hill\", \"hillary\", \"historical\", \"history\", \"history\", \"history\", \"holes\", \"holmes\", \"home\", \"home\", \"home\", \"home\", \"honey\", \"hotel\", \"hotels\", \"hp\", \"humans\", \"hyderabad\", \"hyderabad\", \"hyderabad\", \"hydrogen\", \"ias\", \"ias\", \"ice\", \"ignore\", \"iit\", \"illness\", \"important\", \"important\", \"important\", \"important\", \"imported\", \"improve\", \"improve\", \"improvement\", \"improvement\", \"include\", \"increase\", \"increase\", \"india\", \"india\", \"india\", \"india\", \"india\", \"india\", \"india\", \"india\", \"india\", \"india\", \"india\", \"india\", \"india\", \"indian\", \"indian\", \"indian\", \"indian\", \"indian\", \"indian\", \"indian\", \"indian\", \"indian\", \"indian\", \"innovations\", \"inpatient\", \"instagram\", \"instagram\", \"instagram\", \"instagram\", \"installation\", \"installation\", \"insurance\", \"insurance\", \"intelligence\", \"intelligence\", \"intelligence\", \"interesting\", \"interview\", \"interview\", \"interviews\", \"invented\", \"inventions\", \"investors\", \"invited\", \"ionic\", \"iphone\", \"iphone\", \"iphone\", \"iphone\", \"iphone\", \"iphone\", \"ipod\", \"isis\", \"issue\", \"japanese\", \"japanese\", \"japanese\", \"japanese\", \"jee\", \"jee\", \"jio\", \"job\", \"job\", \"job\", \"job\", \"job\", \"jobs\", \"jobs\", \"jobs\", \"jokes\", \"kashmir\", \"kashmir\", \"kejriwal\", \"kerala\", \"kill\", \"kill\", \"kill\", \"know\", \"know\", \"know\", \"kvpy\", \"language\", \"language\", \"language\", \"language\", \"laptop\", \"laptop\", \"laptops\", \"late\", \"late\", \"laws\", \"laws\", \"laws\", \"league\", \"learn\", \"learn\", \"learn\", \"learn\", \"learning\", \"legal\", \"legal\", \"lemon\", \"lesbian\", \"lessons\", \"let\", \"let\", \"letter\", \"letter\", \"lewis\", \"license\", \"life\", \"life\", \"light\", \"light\", \"like\", \"like\", \"like\", \"like\", \"like\", \"like\", \"like\", \"like\", \"like\", \"like\", \"like\", \"like\", \"like\", \"like\", \"linkedin\", \"list\", \"list\", \"list\", \"list\", \"listen\", \"live\", \"live\", \"live\", \"live\", \"live\", \"lives\", \"living\", \"living\", \"living\", \"living\", \"living\", \"log\", \"long\", \"long\", \"long\", \"long\", \"long\", \"long\", \"long\", \"long\", \"long\", \"long\", \"long\", \"long\", \"looking\", \"lose\", \"love\", \"lyrics\", \"mac\", \"macbook\", \"mains\", \"major\", \"major\", \"major\", \"majors\", \"makes\", \"makes\", \"makes\", \"makes\", \"making\", \"making\", \"making\", \"male\", \"male\", \"man\", \"man\", \"man\", \"man\", \"marked\", \"market\", \"marketing\", \"marketing\", \"marketing\", \"marketing\", \"mars\", \"masturbation\", \"mathematical\", \"matter\", \"mba\", \"mba\", \"mba\", \"mba\", \"mbbs\", \"mean\", \"mean\", \"mean\", \"mean\", \"mean\", \"mean\", \"mean\", \"meaning\", \"meant\", \"mechanical\", \"mechanical\", \"medical\", \"medical\", \"memory\", \"men\", \"mental\", \"mental\", \"message\", \"messages\", \"messages\", \"messages\", \"messenger\", \"met\", \"meth\", \"microsoft\", \"milk\", \"millionaire\", \"mind\", \"mind\", \"mind\", \"mind\", \"minister\", \"mistry\", \"mobile\", \"mobile\", \"mobile\", \"mobile\", \"mobile\", \"modi\", \"money\", \"money\", \"money\", \"money\", \"money\", \"money\", \"money\", \"months\", \"months\", \"months\", \"moral\", \"morning\", \"movie\", \"movie\", \"movie\", \"movie\", \"movie\", \"movie\", \"movies\", \"movies\", \"muscle\", \"music\", \"music\", \"music\", \"music\", \"music\", \"muslims\", \"narendra\", \"negative\", \"negative\", \"negative\", \"nepal\", \"new\", \"new\", \"new\", \"new\", \"new\", \"newton\", \"night\", \"night\", \"nobel\", \"nose\", \"note\", \"note\", \"note\", \"notes\", \"notes\", \"notice\", \"nra\", \"number\", \"number\", \"number\", \"number\", \"number\", \"obama\", \"object\", \"old\", \"old\", \"old\", \"old\", \"old\", \"old\", \"old\", \"old\", \"olympics\", \"ones\", \"ones\", \"online\", \"online\", \"online\", \"online\", \"online\", \"open\", \"open\", \"open\", \"open\", \"open\", \"operating\", \"operating\", \"overcome\", \"overcome\", \"pakistan\", \"pakistan\", \"pakistan\", \"pan\", \"pan\", \"pan\", \"pan\", \"panel\", \"parts\", \"pass\", \"password\", \"path\", \"pay\", \"pay\", \"pay\", \"pay\", \"pay\", \"people\", \"people\", \"people\", \"people\", \"people\", \"people\", \"people\", \"people\", \"period\", \"period\", \"period\", \"period\", \"period\", \"period\", \"person\", \"person\", \"person\", \"person\", \"person\", \"person\", \"person\", \"personality\", \"phone\", \"phone\", \"phone\", \"phone\", \"phone\", \"phone\", \"phones\", \"phones\", \"pin\", \"places\", \"player\", \"pm\", \"police\", \"political\", \"popular\", \"popular\", \"popular\", \"popular\", \"porn\", \"positions\", \"possible\", \"possible\", \"possible\", \"possible\", \"possible\", \"possible\", \"possible\", \"possible\", \"possible\", \"possible\", \"possible\", \"possible\", \"post\", \"post\", \"post\", \"post\", \"post\", \"posts\", \"potter\", \"pr\", \"precautions\", \"pregnant\", \"preparation\", \"prepare\", \"prepare\", \"prepare\", \"preparing\", \"presidency\", \"president\", \"presidential\", \"presidential\", \"pride\", \"prime\", \"printer\", \"printing\", \"prize\", \"pro\", \"process\", \"procrastination\", \"product\", \"product\", \"product\", \"products\", \"products\", \"products\", \"programming\", \"pronunciation\", \"proposed\", \"pros\", \"prospects\", \"provider\", \"purpose\", \"python\", \"quality\", \"quality\", \"quality\", \"quality\", \"quality\", \"quality\", \"question\", \"questions\", \"quickbooks\", \"quora\", \"raise\", \"rate\", \"rate\", \"rate\", \"read\", \"real\", \"real\", \"real\", \"real\", \"real\", \"real\", \"real\", \"real\", \"reasons\", \"received\", \"recover\", \"recover\", \"recover\", \"recruit\", \"reduce\", \"reduce\", \"regret\", \"rehab\", \"relationship\", \"relationship\", \"reliance\", \"remember\", \"reservation\", \"resolution\", \"resolutions\", \"restore\", \"review\", \"reviews\", \"rid\", \"rid\", \"roman\", \"root\", \"rs\", \"rs\", \"rupee\", \"rupee\", \"rupees\", \"sa\", \"safe\", \"safe\", \"safe\", \"safe\", \"safe\", \"safety\", \"sahara\", \"said\", \"said\", \"said\", \"said\", \"said\", \"salary\", \"salary\", \"salary\", \"salary\", \"salary\", \"salary\", \"saltwater\", \"scam\", \"school\", \"science\", \"scientifically\", \"scope\", \"scope\", \"score\", \"score\", \"search\", \"search\", \"season\", \"security\", \"security\", \"security\", \"security\", \"sense\", \"sent\", \"sent\", \"sentence\", \"sentences\", \"series\", \"series\", \"service\", \"service\", \"service\", \"service\", \"service\", \"service\", \"service\", \"services\", \"services\", \"services\", \"services\", \"sex\", \"sex\", \"sex\", \"shopping\", \"shotguns\", \"shy\", \"sick\", \"significance\", \"significance\", \"sim\", \"site\", \"site\", \"size\", \"size\", \"size\", \"skills\", \"sleep\", \"smartest\", \"smoke\", \"snapchat\", \"snapchat\", \"social\", \"social\", \"software\", \"software\", \"solar\", \"solve\", \"solve\", \"solve\", \"solve\", \"solve\", \"somme\", \"song\", \"song\", \"song\", \"songs\", \"songs\", \"songs\", \"sons\", \"source\", \"source\", \"source\", \"sources\", \"spanish\", \"spanish\", \"spanish\", \"speak\", \"speaking\", \"speaking\", \"species\", \"speed\", \"speed\", \"speed\", \"speed\", \"speed\", \"spoken\", \"spotify\", \"sql\", \"staff\", \"staff\", \"stamina\", \"stanford\", \"start\", \"state\", \"state\", \"state\", \"state\", \"state\", \"states\", \"station\", \"station\", \"stock\", \"stop\", \"stop\", \"stop\", \"stop\", \"story\", \"story\", \"strangest\", \"strongest\", \"structure\", \"structure\", \"structures\", \"student\", \"student\", \"student\", \"student\", \"student\", \"study\", \"studying\", \"studying\", \"stupid\", \"successful\", \"successful\", \"suicide\", \"sun\", \"sun\", \"sun\", \"superman\", \"superpower\", \"support\", \"support\", \"support\", \"support\", \"supporters\", \"supreme\", \"surgical\", \"system\", \"system\", \"system\", \"system\", \"system\", \"system\", \"taffy\", \"tata\", \"tata\", \"tattoo\", \"tcs\", \"teacher\", \"technology\", \"technology\", \"technology\", \"technology\", \"technology\", \"technology\", \"technology\", \"tell\", \"tell\", \"tell\", \"temperature\", \"temperatures\", \"terms\", \"terms\", \"terms\", \"test\", \"test\", \"test\", \"tested\", \"thing\", \"things\", \"think\", \"think\", \"think\", \"thinking\", \"thought\", \"thought\", \"thrones\", \"time\", \"time\", \"time\", \"time\", \"time\", \"time\", \"time\", \"time\", \"time\", \"time\", \"time\", \"times\", \"tips\", \"today\", \"today\", \"today\", \"today\", \"topics\", \"track\", \"track\", \"track\", \"track\", \"trading\", \"traffic\", \"traffic\", \"traffic\", \"train\", \"train\", \"transfer\", \"transfer\", \"transfer\", \"transfer\", \"transfer\", \"travel\", \"travel\", \"trip\", \"trump\", \"tv\", \"tv\", \"tv\", \"type\", \"type\", \"type\", \"type\", \"type\", \"type\", \"type\", \"type\", \"type\", \"u.s.\", \"u.s.\", \"u.s.\", \"u.s.\", \"u.s.\", \"undergraduate\", \"understand\", \"understand\", \"understand\", \"understand\", \"united\", \"universe\", \"universe\", \"universities\", \"universities\", \"university\", \"university\", \"university\", \"university\", \"university\", \"university\", \"university\", \"unknown\", \"unknown\", \"unmarried\", \"upsc\", \"uri\", \"urine\", \"usa\", \"usa\", \"usa\", \"usa\", \"usa\", \"usa\", \"usa\", \"usa\", \"usa\", \"use\", \"use\", \"use\", \"use\", \"use\", \"use\", \"use\", \"use\", \"use\", \"use\", \"use\", \"use\", \"vacuum\", \"vagina\", \"value\", \"value\", \"value\", \"vegetarian\", \"video\", \"video\", \"video\", \"video\", \"videos\", \"videos\", \"videos\", \"vietnam\", \"viewed\", \"viewed\", \"vinegar\", \"visit\", \"visitor\", \"voice\", \"voice\", \"vote\", \"vote\", \"vote\", \"want\", \"want\", \"want\", \"want\", \"want\", \"want\", \"want\", \"want\", \"want\", \"want\", \"want\", \"want\", \"wants\", \"wants\", \"wants\", \"wants\", \"war\", \"war\", \"war\", \"war\", \"warming\", \"wars\", \"watch\", \"watch\", \"watch\", \"watched\", \"watching\", \"water\", \"water\", \"water\", \"waves\", \"way\", \"way\", \"way\", \"way\", \"way\", \"way\", \"ways\", \"ways\", \"ways\", \"ways\", \"ways\", \"weakest\", \"wear\", \"wear\", \"wear\", \"web\", \"web\", \"web\", \"web\", \"website\", \"website\", \"website\", \"website\", \"website\", \"website\", \"website\", \"websites\", \"websites\", \"websites\", \"websites\", \"websites\", \"week\", \"week\", \"week\", \"week\", \"weight\", \"went\", \"western\", \"western\", \"western\", \"whatsapp\", \"white\", \"white\", \"white\", \"white\", \"white\", \"win\", \"windows\", \"wing\", \"wins\", \"women\", \"word\", \"word\", \"word\", \"wordpress\", \"work\", \"work\", \"work\", \"work\", \"working\", \"working\", \"working\", \"working\", \"working\", \"world\", \"world\", \"world\", \"worst\", \"worst\", \"worst\", \"worst\", \"worth\", \"worth\", \"worth\", \"worth\", \"worth\", \"write\", \"write\", \"write\", \"write\", \"writer\", \"wrong\", \"wrong\", \"wwii\", \"year\", \"years\", \"years\", \"years\", \"years\", \"years\", \"years\", \"youtube\", \"zone\", \"\\u201c\", \"\\u201d\", \"\\u20b9500\"]}, \"R\": 30, \"lambda.step\": 0.01, \"plot.opts\": {\"xlab\": \"PC1\", \"ylab\": \"PC2\"}, \"topic.order\": [11, 1, 15, 13, 12, 2, 9, 3, 4, 14, 8, 6, 10, 5, 7]};\n",
       "\n",
       "function LDAvis_load_lib(url, callback){\n",
       "  var s = document.createElement('script');\n",
       "  s.src = url;\n",
       "  s.async = true;\n",
       "  s.onreadystatechange = s.onload = callback;\n",
       "  s.onerror = function(){console.warn(\"failed to load library \" + url);};\n",
       "  document.getElementsByTagName(\"head\")[0].appendChild(s);\n",
       "}\n",
       "\n",
       "if(typeof(LDAvis) !== \"undefined\"){\n",
       "   // already loaded: just create the visualization\n",
       "   !function(LDAvis){\n",
       "       new LDAvis(\"#\" + \"ldavis_el7362247028399366390278271\", ldavis_el7362247028399366390278271_data);\n",
       "   }(LDAvis);\n",
       "}else if(typeof define === \"function\" && define.amd){\n",
       "   // require.js is available: use it to load d3/LDAvis\n",
       "   require.config({paths: {d3: \"https://cdnjs.cloudflare.com/ajax/libs/d3/3.5.5/d3.min\"}});\n",
       "   require([\"d3\"], function(d3){\n",
       "      window.d3 = d3;\n",
       "      LDAvis_load_lib(\"https://cdn.rawgit.com/bmabey/pyLDAvis/files/ldavis.v1.0.0.js\", function(){\n",
       "        new LDAvis(\"#\" + \"ldavis_el7362247028399366390278271\", ldavis_el7362247028399366390278271_data);\n",
       "      });\n",
       "    });\n",
       "}else{\n",
       "    // require.js not available: dynamically load d3 & LDAvis\n",
       "    LDAvis_load_lib(\"https://cdnjs.cloudflare.com/ajax/libs/d3/3.5.5/d3.min.js\", function(){\n",
       "         LDAvis_load_lib(\"https://cdn.rawgit.com/bmabey/pyLDAvis/files/ldavis.v1.0.0.js\", function(){\n",
       "                 new LDAvis(\"#\" + \"ldavis_el7362247028399366390278271\", ldavis_el7362247028399366390278271_data);\n",
       "            })\n",
       "         });\n",
       "}\n",
       "</script>"
      ],
      "text/plain": [
       "PreparedData(topic_coordinates=                x           y  topics  cluster      Freq\n",
       "topic                                                   \n",
       "10     114.344879  114.308296       1        1  9.921366\n",
       "0      105.821045  -93.749626       2        1  7.058639\n",
       "14    -138.334473   95.320763       3        1  6.942744\n",
       "12      -7.436697  111.259697       4        1  6.841692\n",
       "11    -207.550629 -105.472603       5        1  6.755952\n",
       "1       52.817650   14.603765       6        1  6.520409\n",
       "8      168.010849    6.806950       7        1  6.376633\n",
       "2      -94.169601 -157.789551       8        1  6.367248\n",
       "3     -122.849174  -39.059418       9        1  6.352884\n",
       "13     -94.894264  195.408295      10        1  6.321041\n",
       "7       24.927401 -180.464874      11        1  6.207761\n",
       "5      -53.413467   26.832108      12        1  6.150585\n",
       "9      -12.255850  -72.093201      13        1  6.125559\n",
       "4     -224.217957   28.070581      14        1  6.086477\n",
       "6       36.154255  209.427582      15        1  5.971011, topic_info=      Category         Freq     Term        Total  loglift  logprob\n",
       "1406   Default  3111.000000     best  3111.000000  30.0000  30.0000\n",
       "8769   Default   776.000000    quora   776.000000  29.0000  29.0000\n",
       "6359   Default   687.000000     life   687.000000  28.0000  28.0000\n",
       "6117   Default   670.000000     know   670.000000  27.0000  27.0000\n",
       "11222  Default   507.000000    trump   507.000000  26.0000  26.0000\n",
       "...        ...          ...      ...          ...      ...      ...\n",
       "4757   Topic15    98.120272     good  1104.676858   0.3971  -4.7645\n",
       "3855   Topic15    62.100597  english   361.399212   1.0570  -5.2220\n",
       "6371   Topic15    75.704378     like  1166.058065   0.0837  -5.0239\n",
       "1406   Topic15    62.015979     best  3111.368055  -1.0972  -5.2233\n",
       "5507   Topic15    55.117120   indian   482.817628   0.6481  -5.3413\n",
       "\n",
       "[863 rows x 6 columns], token_table=       Topic      Freq     Term\n",
       "term                           \n",
       "12         9  0.951340      ...\n",
       "24         2  0.018666        1\n",
       "24         5  0.419979        1\n",
       "24         9  0.177325        1\n",
       "24        10  0.074663        1\n",
       "...      ...       ...      ...\n",
       "12051     14  0.994471  youtube\n",
       "12081      6  0.920433     zone\n",
       "12096      9  0.987268        “\n",
       "12097      9  0.991162        ”\n",
       "12105      3  0.948700     ₹500\n",
       "\n",
       "[1742 rows x 3 columns], R=30, lambda_step=0.01, plot_opts={'xlab': 'PC1', 'ylab': 'PC2'}, topic_order=[11, 1, 15, 13, 12, 2, 9, 3, 4, 14, 8, 6, 10, 5, 7])"
      ]
     },
     "execution_count": 20,
     "metadata": {},
     "output_type": "execute_result"
    }
   ],
   "source": [
    "pyLDAvis.enable_notebook()\n",
    "panel = persist('grid-lda-viz', pyLDAvis.sklearn, 'prepare', model, X, count_vectorizor, mds='tsne', task = 'data')\n",
    "panel"
   ]
  },
  {
   "cell_type": "code",
   "execution_count": 21,
   "metadata": {
    "scrolled": false
   },
   "outputs": [
    {
     "name": "stdout",
     "output_type": "stream",
     "text": [
      "Loading grid-lda-predictions from disk\n",
      "4.175 seconds elapsed in original job\n",
      "Topic 1\n",
      "What hotel in Nallamala Hills Hill-station would be safe for unmarried couples, without the harassment of police, hotel staff, and moral police?\n",
      "What hotel in Nallamala Hills Hill-station would be safe for unmarried couples, without the harassment of police, hotel staff, and moral police?\n",
      "What hotel in Nallamala Hills Hill-station would be safe for unmarried couples, without the harassment of police, hotel staff, and moral police?\n",
      "What do you think of the supreme court order that cinema halls must play the national anthem with exits closed and all present required to stand up?\n",
      "I do not have any savings. I only have an apartment worth 30 lakhs and I depend on a loan. Can I pursue a master's in the U.S with any bank accounts and white money?\n",
      "-------------\n",
      "\n",
      "Topic 2\n",
      "I am working with a software company and they have asked me to work on a tool provided by PEGA. What information can you give to me on PEGA and the future scope as a PEGA tool developer?\n",
      "What calls can I expect with 98.5%le in CAT, GEN Male, with 10th 60, Diploma 70 (2Years Gap), Grad 65% and 1year Exp in a Small Company?\n",
      "Russia: Which regions of Russia are hot-beds of left-wing politics? Which regions are hot-beds of right-wing politics? Why?\n",
      "Does the SP of a district have to work under the DM of that district in maintaining law and order? Is the SP in a district considered subordinate to the DM/collector?\n",
      "Which regions of Canada are hot-beds of left-wing politics? Which regions are hot-beds of right-wing politics? Why?\n",
      "-------------\n",
      "\n",
      "Topic 3\n",
      "Why do Gurkha soldiers not open fire at Indians trying to trespass the Indo-Nepal border into Nepal or trespass the Indo-Sikkim border?\n",
      "How do the Sikhs perceive, feel, understand, view, believe, and/or opine, about Dalits, Shudras, and Dasa?\n",
      "How do I again lock bootloader in moto x 2nd gen (2014 model) running on kitkat to get warranty back?\n",
      "Should a man change his underwear daily? Also, after wearing a pair of underwear once, is it advisable to invert it and wear it just one more time?\n",
      "How do the Christianists perceive, feel, understand, view, believe, and/or opine, about Dalits, Shudras, and Dasa?\n",
      "-------------\n",
      "\n",
      "Topic 4\n",
      "The length of a rectangle is 7 cm, and the width is 4cm, If both the length and the width are increased by equal amounts, the area of the rectangle is increased by 42cm^2. How do I find the length and width of the larger rectangle?\n",
      "Are the Michigan tablets, genetic evidence, and a coin of “palms” found in Michigan prove that Middle Easterners got to the Americas before Columbus?\n",
      "How many 4 digit numbers divisible by 4 can be formed from the digits 1, 2, 3, 4, and 5?\n",
      "How many 4 digit numbers divisible by 4 can be formed from the digits 1, 2, 3, 4, and 5?\n",
      "In a right-angle triangle, perpendicular is 3^1/2 times the base. What is ratio of their opposite angles?\n",
      "-------------\n",
      "\n",
      "Topic 5\n",
      "Can I connect a 5.1 speaker with a 3.5 mm jack to my TV (the TV has 3.5 mm output jack)? If yes will it be as good as a 5.1 home theatre system?\n",
      "I am 15 years old, and 5 foot 6 inches tall. I am physically fit. Is it possible for me to dunk a 10 foot basketball hoop?\n",
      "Does the iPhone 6 home button make weird cracky sounds when pressed like the iPhone 5s home button?\n",
      "I lost my Aadhaar card sometime back. I don't have Aadhaar number, the receipt, nothing. How can I get a new Aadhar card without having any knowledge of the lost one?\n",
      "I lost my Aadhaar card sometime back. I don't have Aadhaar number, the receipt, nothing. How can I get a new Aadhar card without having any knowledge of the lost one?\n",
      "-------------\n",
      "\n",
      "Topic 6\n",
      "I had 32 bit of windows 7 os and update free windows 10. now I want to upgrade 32 bit to 64 bit keeping windows 10. what should I do?\n",
      "Income Tax in India: I missed taking a copy of my Form 16 from my previous employer. Is it possible to recover the same from a tax website?\n",
      "Income Tax in India: I missed taking a copy of my Form 16 from my previous employer. Is it possible to recover the same from a tax website?\n",
      "Income Tax in India: I missed taking a copy of my Form 16 from my previous employer. Is it possible to recover the same from a tax website?\n",
      "Income Tax in India: I missed taking a copy of my Form 16 from my previous employer. Is it possible to recover the same from a tax website?\n",
      "-------------\n",
      "\n",
      "Topic 7\n",
      "Which Intel HD Graphics is best for gaming: Intel HD Graphics 530 or Intel HD Graphics 4000? Why?\n",
      "I'm an architecture student. My lecturer taught me Sketchup. Now I want to take an extra course about 3d modelling. Should I have to study 3d max too?\n",
      "Suppose the condition is as follows: I have deleted the wats app history and backups and databases from my phn, so anyone can find my chat history after that too?\n",
      "Was it just a coincidence that the author of Genesis placed Adam and Eve's Garden of Eden where historians claim is the birthplace of humanity - Mesopotamia?\n",
      "What mailing address do I use for DE Shaw if I want to send a letter directly to Dr. Shaw himself?\n",
      "-------------\n",
      "\n",
      "Topic 8\n",
      "How common is it for someone living in Manhattan late 20s/early 30s to go on 8 dates with 8 different people over 8 days?\n",
      "Can we use very high frequency gamma rays or cosmic rays to image planets surfaces and subsurfaces from ground based telescopes?\n",
      "Common sense is often mapped to one's education level (at least in India). But what are some basic common sense behaviors that the educated fail to do?\n",
      "How do I wake up in the middle of REM sleep to record my dreams, but still find time to wake up feeling fresh?\n",
      "What are the differences between the Audio Technica ATH-M20X, M30X and M40X? Are there any major differences, or would the M20X do just as well?\n",
      "-------------\n",
      "\n",
      "Topic 9\n",
      "During musical concerts (orchestra), we always see a person (musician) standing in the front (with his back to the crowd) waving a wand/stick in one hand and seemingly guiding the musicians. Does he actually have any role or is just like a leader for representation purposes?\n",
      "What is Balaji Viswanathan's opinion on the Indian Prime Minister Modi's new policy about illegalization of 500 and 1000 currency notes?\n",
      "What's the main reason behind 500 & 1000 rs notes getting discontinued in India? With new chances in currency, how will it help India?\n",
      "What's the main reason behind 500 & 1000 rs notes getting discontinued in India? With new chances in currency, how will it help India?\n",
      "What's your opinion on Indian Prime Minister Modi's new policy about illegalization of 500 and 1000 currency notes?\n",
      "-------------\n",
      "\n",
      "Topic 10\n",
      "Why are classical music \"pieces\" called \"pieces\" and not songs? (Opera is also a type of classical form but that's neither called a piece nor a song).\n",
      "What happened to the famous Singapore blogger who has a Phd from Stanford but end up driving a taxi after losing his research job?\n",
      "Why were all Indiape invaders surrendered to the Chinese PLA during Indiape army attempts to invade Chinese Tibet in 1962?\n",
      "What were the major effects of the cambodia earthquake, and how do these effects compare to the Kuril Islands earthquake in 1963?\n",
      "What were the major effects of the cambodia earthquake, and how do these effects compare to the Kuril Islands earthquake in 1963?\n",
      "-------------\n",
      "\n",
      "Topic 11\n",
      "How can fetch the data from differente table of mysql database in my app? I can only fetch the data from only one table using url connection!\n",
      "Whenever I am arguing or sometimes before I even choose to start arguing back my heart beats REALLY loud, heavy and fast do I have a heart problem?\n",
      "Whenever I am arguing or sometimes before I even choose to start arguing back my heart beats REALLY loud, heavy and fast do I have a heart problem?\n",
      "I just bought an Activa 110 cc bike and technicians have advised me against riding it above 40 kmph until the first 750 km. Why is that so?\n",
      "What are the best project management tools or techniques for solo web designers/developers?\n",
      "-------------\n",
      "\n",
      "Topic 12\n",
      "I suddenly started feeling sensitivity to air that I inhale on my front tooth. Sensitivity (and slight pain) origins from the gum line (I personally feel so). Hot drinks don't pain or feel sensitive, cold drink does but very little. No visible sign of decay, tartar or caries. What's wrong?\n",
      "I suddenly started feeling sensitivity to air that I inhale on my front tooth. Sensitivity (and slight pain) origins from the gum line (I personally feel so). Hot drinks don't pain or feel sensitive, cold drink does but very little. No visible sign of decay, tartar or caries. What's wrong?\n",
      "2 equal glasses of the same type are respectively 1/3 and 1/4 full of milk. They are then filled up with water and the contents are mixed in a pot. What is the ratio of milk and water in the pot?\n",
      "How do I convince my stubborn dad to change his bad eating habits? He has a coronary heart disease & thinks that supplements alone will do the job.\n",
      "What is cot Pi/2: if cot x = 1/tan x then it seems it should be undefined, if we consider cot x = cos x / sin x it should be 0?\n",
      "-------------\n",
      "\n",
      "Topic 13\n",
      "If the superfluid dark matter is what ripples when Galaxy clusters collide and what waves in a double slit experiment then does this relate GR and QM?\n",
      "If the superfluid dark matter is what ripples when Galaxy clusters collide and what waves in a double slit experiment then does this relate GR and QM?\n",
      "Is dark matter a sea of massive dark photons that ripple when galaxy clusters collide and wave in a double slit experiment?\n",
      "If empty space is a sea of massive photons filling space is it the medium for Einstein's gravitational and de Broglie's wave-particle duality waves?\n",
      "What are my chances of getting into PhD Finance program at MIT Sloan, Chicago Booth or NYU Stern with an engineering background from India?\n",
      "-------------\n",
      "\n",
      "Topic 14\n",
      "I am citing a shorter version of a longer essay. No editor is listed in the shorter version. Should the editor be listed in the MLA Works Cited page?\n",
      "During the Chris Wallace interview, why did Rodham attempt to extend and expand the lies already about sending secret emails on a personal server?\n",
      "Why do so many people on Quora ask stupid questions they could find answers to if they spent less than 5 minutes on a search engines?\n",
      "Why do so many people on Quora ask stupid questions they could find answers to if they spent less than 5 minutes on a search engines?\n",
      "Why do so many people on Quora ask stupid questions they could find answers to if they spent less than 5 minutes on a search engines?\n",
      "-------------\n",
      "\n",
      "Topic 15\n",
      "It is certain that Harry Kane has raised his confidence and skill, without a doubt. However, on the match against Chelsea it seemed that he was overconfident and trying to cut out half a dozen defenders. Even though his runs can't be ignored, but, is he growing overconfidence?\n",
      "I forgot my password and the email address I used to create my Snapchat account. How can I log in or at least change my email address or password?\n",
      "I forgot my password and the email address I used to create my Snapchat account. How can I log in or at least change my email address or password?\n",
      "I forgot my password and the email address I used to create my Snapchat account. How can I log in or at least change my email address or password?\n",
      "Why do Americans keep saying USA is the land of the free, when people like Charles Guthier aka AlienJak didn't receive his justice from his wife?\n",
      "-------------\n",
      "\n"
     ]
    }
   ],
   "source": [
    "topic_df = persist('grid-lda-predictions', model, 'transform', X, task = 'data')\n",
    "\n",
    "num_topics = topic_df.shape[1]\n",
    "topic_df = pd.DataFrame(topic_df, index = data.index).rename(lambda n : f'Topic {n+1}', axis = 'columns')\n",
    "\n",
    "topic_df = pd.concat([\n",
    "    data,\n",
    "    topic_df\n",
    "], axis = 'columns').set_index('question')\n",
    "\n",
    "topic_df = topic_df.assign(\n",
    "    class_         = topic_df.apply(lambda row : row.idxmax(), axis = 'columns'),\n",
    "    class_strength = topic_df.apply(lambda row : row.max(),    axis = 'columns')\n",
    ")\n",
    "\n",
    "for i in range(num_topics):\n",
    "    topic_name = f'Topic {i+1}'\n",
    "    topic_qs   = topic_df[topic_df.class_ == topic_name].sort_values('class_strength', ascending = False)\n",
    "    print(topic_name)\n",
    "    for q in topic_qs.index.tolist()[:5]:\n",
    "        print(q)\n",
    "    print('-------------\\n')"
   ]
  },
  {
   "cell_type": "markdown",
   "metadata": {},
   "source": [
    "## word2vec"
   ]
  },
  {
   "cell_type": "code",
   "execution_count": 22,
   "metadata": {},
   "outputs": [],
   "source": [
    "def is_bad_question(q):\n",
    "    for char in q:\n",
    "        if char in string.ascii_letters + string.digits:\n",
    "            return False\n",
    "    return True"
   ]
  },
  {
   "cell_type": "code",
   "execution_count": 23,
   "metadata": {},
   "outputs": [],
   "source": [
    "data = data.loc[~data.apply(is_bad_question)]"
   ]
  },
  {
   "cell_type": "code",
   "execution_count": 24,
   "metadata": {},
   "outputs": [],
   "source": [
    "quora = quora.loc[~quora.question.apply(is_bad_question)]"
   ]
  },
  {
   "cell_type": "code",
   "execution_count": 25,
   "metadata": {},
   "outputs": [],
   "source": [
    "# Tokenizer: uses spaCy tokenizer, then removes punctuation and stop words, then finally casts\n",
    "\n",
    "spacy_tokenizer_large = spacy.load(\"en_core_web_lg\", disable=['tagger', 'parser', 'ner'])"
   ]
  },
  {
   "cell_type": "code",
   "execution_count": 26,
   "metadata": {},
   "outputs": [],
   "source": [
    "def token_filter(token):\n",
    "    if token.is_stop:\n",
    "        return False\n",
    "    elif token.text in string.punctuation:\n",
    "        return False\n",
    "    else:\n",
    "        return True\n",
    "\n",
    "    \n",
    "def vector_tokenizer(string_):\n",
    "    doc = spacy_tokenizer_large(string_)\n",
    "    f   = filter(token_filter, doc)\n",
    "    m   = [t.vector for t in f]\n",
    "    return m\n",
    "\n",
    "def doc2PCVec(string_):\n",
    "    vectors = vector_tokenizer(string_)\n",
    "    if not vectors:\n",
    "        return pd.Series(np.zeros(300))\n",
    "    return pd.Series(sk_decomp.PCA(n_components=1).fit(vector_tokenizer(string_)).components_[0])"
   ]
  },
  {
   "cell_type": "code",
   "execution_count": 27,
   "metadata": {},
   "outputs": [],
   "source": [
    "# 841 µs ± 46 µs per loop (mean ± std. dev. of 7 runs, 100 loops each)\n",
    "# %timeit doc2PCVec(quora.question[0])"
   ]
  },
  {
   "cell_type": "code",
   "execution_count": 28,
   "metadata": {},
   "outputs": [],
   "source": [
    "# 18.5 ms ± 825 µs per loop (mean ± std. dev. of 7 runs, 10 loops each)\n",
    "# %timeit pcaed_data = quora.question.iloc[:10].transform(doc2PCVec)"
   ]
  },
  {
   "cell_type": "code",
   "execution_count": 29,
   "metadata": {},
   "outputs": [
    {
     "name": "stdout",
     "output_type": "stream",
     "text": [
      "Loading doc2pcVec from disk\n",
      "34.830 seconds elapsed in original job\n"
     ]
    }
   ],
   "source": [
    "pcaed_data = persist('doc2pcVec', data, 'transform', doc2PCVec, task = 'data')"
   ]
  },
  {
   "cell_type": "code",
   "execution_count": 30,
   "metadata": {},
   "outputs": [],
   "source": [
    "class CarefulTransform:\n",
    "    '''\n",
    "        Runs a loop but periodically makes explicit calls to the garbage collector.\n",
    "        Empirically causes infinite speedup in the following call.\n",
    "    '''\n",
    "    def __init__(self):\n",
    "        pass\n",
    "    \n",
    "    def run(self, fn, data, job_len = 10000, verbose = True):\n",
    "        self.dfs = []\n",
    "        running_index = 0\n",
    "        n_jobs = len(data) // job_len + 1\n",
    "        print(f'{n_jobs} jobs to complete')\n",
    "        start_time = datetime.datetime.now()\n",
    "        for i in range(n_jobs):\n",
    "            slice_ = data.iloc[running_index : running_index + job_len]\n",
    "            self.dfs.append(slice_.transform(fn))\n",
    "            running_index += job_len\n",
    "            gc.collect()\n",
    "            if (i+1) % (n_jobs // 100 + 1) == 0 and verbose:\n",
    "                elapsed = (datetime.datetime.now()-start_time).seconds\n",
    "                print(f'{i+1} jobs completed. {elapsed} seconds elapsed')\n",
    "        return pd.concat(self.dfs, axis = 'rows')"
   ]
  },
  {
   "cell_type": "code",
   "execution_count": 31,
   "metadata": {},
   "outputs": [
    {
     "name": "stdout",
     "output_type": "stream",
     "text": [
      "Loading doc2pcVec-all from disk\n",
      "320.875 seconds elapsed in original job\n"
     ]
    }
   ],
   "source": [
    "pcaed_data = persist('doc2pcVec-all', CarefulTransform(), 'run', doc2PCVec, quora.question, task = 'data')"
   ]
  },
  {
   "cell_type": "code",
   "execution_count": 32,
   "metadata": {},
   "outputs": [],
   "source": [
    "import sklearn.cluster as sk_clust"
   ]
  },
  {
   "cell_type": "code",
   "execution_count": 33,
   "metadata": {
    "scrolled": false
   },
   "outputs": [
    {
     "name": "stdout",
     "output_type": "stream",
     "text": [
      "Loading kmeans-doc2PCVec-all from disk\n",
      "502.873 seconds elapsed in original job\n"
     ]
    }
   ],
   "source": [
    "# no parallel processing to conserve memory\n",
    "model = sk_clust.KMeans(random_state = 42, n_jobs=1, verbose = 1, tol = 1)\n",
    "model = persist('kmeans-doc2PCVec-all', model, 'fit', pcaed_data, task = 'model')"
   ]
  },
  {
   "cell_type": "code",
   "execution_count": 34,
   "metadata": {},
   "outputs": [],
   "source": [
    "labels = pd.Series(model.predict(pcaed_data), index = quora.question.index)\n",
    "quora = quora.assign(labels = labels)"
   ]
  },
  {
   "cell_type": "code",
   "execution_count": 35,
   "metadata": {},
   "outputs": [
    {
     "data": {
      "text/plain": [
       "2    82080\n",
       "7    67331\n",
       "1    63573\n",
       "0    60226\n",
       "4    54710\n",
       "5    38755\n",
       "6    30358\n",
       "3     7241\n",
       "Name: labels, dtype: int64"
      ]
     },
     "execution_count": 35,
     "metadata": {},
     "output_type": "execute_result"
    }
   ],
   "source": [
    "quora.labels.value_counts()"
   ]
  },
  {
   "cell_type": "code",
   "execution_count": null,
   "metadata": {},
   "outputs": [],
   "source": []
  }
 ],
 "metadata": {
  "kernelspec": {
   "display_name": "Python 3",
   "language": "python",
   "name": "python3"
  },
  "language_info": {
   "codemirror_mode": {
    "name": "ipython",
    "version": 3
   },
   "file_extension": ".py",
   "mimetype": "text/x-python",
   "name": "python",
   "nbconvert_exporter": "python",
   "pygments_lexer": "ipython3",
   "version": "3.7.3"
  }
 },
 "nbformat": 4,
 "nbformat_minor": 2
}
